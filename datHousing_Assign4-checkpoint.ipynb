{
 "cells": [
  {
   "cell_type": "markdown",
   "metadata": {},
   "source": [
    "### Importing Libraries"
   ]
  },
  {
   "cell_type": "code",
   "execution_count": 1,
   "metadata": {},
   "outputs": [],
   "source": [
    "import numpy as np\n",
    "import pandas as pd\n",
    "import matplotlib.pyplot as plt\n",
    "import seaborn as sns\n",
    "import os\n",
    "%matplotlib inline"
   ]
  },
  {
   "cell_type": "markdown",
   "metadata": {},
   "source": [
    "1) Create a new Jupyter notebook and write the script to open the file into a data frame called\n",
    "datHousing. Run any necessary EDA to make sure that everything looks reasonable. "
   ]
  },
  {
   "cell_type": "code",
   "execution_count": 2,
   "metadata": {},
   "outputs": [],
   "source": [
    "datHousing = pd.read_csv(r\"C:\\Users\\dhiru\\Housing.csv\") "
   ]
  },
  {
   "cell_type": "code",
   "execution_count": 3,
   "metadata": {},
   "outputs": [
    {
     "data": {
      "text/html": [
       "<div>\n",
       "<style scoped>\n",
       "    .dataframe tbody tr th:only-of-type {\n",
       "        vertical-align: middle;\n",
       "    }\n",
       "\n",
       "    .dataframe tbody tr th {\n",
       "        vertical-align: top;\n",
       "    }\n",
       "\n",
       "    .dataframe thead th {\n",
       "        text-align: right;\n",
       "    }\n",
       "</style>\n",
       "<table border=\"1\" class=\"dataframe\">\n",
       "  <thead>\n",
       "    <tr style=\"text-align: right;\">\n",
       "      <th></th>\n",
       "      <th>CRIM</th>\n",
       "      <th>ZN</th>\n",
       "      <th>INDUS</th>\n",
       "      <th>RIVER</th>\n",
       "      <th>NOX</th>\n",
       "      <th>RM</th>\n",
       "      <th>AGE</th>\n",
       "      <th>DIS</th>\n",
       "      <th>RAD</th>\n",
       "      <th>TAX</th>\n",
       "      <th>PRATIO</th>\n",
       "      <th>LSTAT</th>\n",
       "      <th>MEDV</th>\n",
       "    </tr>\n",
       "  </thead>\n",
       "  <tbody>\n",
       "    <tr>\n",
       "      <th>0</th>\n",
       "      <td>3.32105</td>\n",
       "      <td>0.0</td>\n",
       "      <td>19.58</td>\n",
       "      <td>Yes</td>\n",
       "      <td>0.871</td>\n",
       "      <td>5.403</td>\n",
       "      <td>100.0</td>\n",
       "      <td>1.3216</td>\n",
       "      <td>5</td>\n",
       "      <td>403</td>\n",
       "      <td>14.7</td>\n",
       "      <td>26.82</td>\n",
       "      <td>13.4</td>\n",
       "    </tr>\n",
       "    <tr>\n",
       "      <th>1</th>\n",
       "      <td>1.12658</td>\n",
       "      <td>0.0</td>\n",
       "      <td>19.58</td>\n",
       "      <td>Yes</td>\n",
       "      <td>0.871</td>\n",
       "      <td>5.012</td>\n",
       "      <td>88.0</td>\n",
       "      <td>1.6102</td>\n",
       "      <td>5</td>\n",
       "      <td>403</td>\n",
       "      <td>14.7</td>\n",
       "      <td>12.12</td>\n",
       "      <td>15.3</td>\n",
       "    </tr>\n",
       "    <tr>\n",
       "      <th>2</th>\n",
       "      <td>1.41385</td>\n",
       "      <td>0.0</td>\n",
       "      <td>19.58</td>\n",
       "      <td>Yes</td>\n",
       "      <td>0.871</td>\n",
       "      <td>6.129</td>\n",
       "      <td>96.0</td>\n",
       "      <td>1.7494</td>\n",
       "      <td>5</td>\n",
       "      <td>403</td>\n",
       "      <td>14.7</td>\n",
       "      <td>15.12</td>\n",
       "      <td>17.0</td>\n",
       "    </tr>\n",
       "    <tr>\n",
       "      <th>3</th>\n",
       "      <td>3.53501</td>\n",
       "      <td>0.0</td>\n",
       "      <td>19.58</td>\n",
       "      <td>Yes</td>\n",
       "      <td>0.871</td>\n",
       "      <td>6.152</td>\n",
       "      <td>82.6</td>\n",
       "      <td>1.7455</td>\n",
       "      <td>5</td>\n",
       "      <td>403</td>\n",
       "      <td>14.7</td>\n",
       "      <td>15.02</td>\n",
       "      <td>15.6</td>\n",
       "    </tr>\n",
       "    <tr>\n",
       "      <th>4</th>\n",
       "      <td>1.27346</td>\n",
       "      <td>0.0</td>\n",
       "      <td>19.58</td>\n",
       "      <td>Yes</td>\n",
       "      <td>0.605</td>\n",
       "      <td>6.250</td>\n",
       "      <td>92.6</td>\n",
       "      <td>1.7984</td>\n",
       "      <td>5</td>\n",
       "      <td>403</td>\n",
       "      <td>14.7</td>\n",
       "      <td>5.50</td>\n",
       "      <td>27.0</td>\n",
       "    </tr>\n",
       "  </tbody>\n",
       "</table>\n",
       "</div>"
      ],
      "text/plain": [
       "      CRIM   ZN  INDUS RIVER    NOX     RM    AGE     DIS  RAD  TAX  PRATIO  \\\n",
       "0  3.32105  0.0  19.58   Yes  0.871  5.403  100.0  1.3216    5  403    14.7   \n",
       "1  1.12658  0.0  19.58   Yes  0.871  5.012   88.0  1.6102    5  403    14.7   \n",
       "2  1.41385  0.0  19.58   Yes  0.871  6.129   96.0  1.7494    5  403    14.7   \n",
       "3  3.53501  0.0  19.58   Yes  0.871  6.152   82.6  1.7455    5  403    14.7   \n",
       "4  1.27346  0.0  19.58   Yes  0.605  6.250   92.6  1.7984    5  403    14.7   \n",
       "\n",
       "   LSTAT  MEDV  \n",
       "0  26.82  13.4  \n",
       "1  12.12  15.3  \n",
       "2  15.12  17.0  \n",
       "3  15.02  15.6  \n",
       "4   5.50  27.0  "
      ]
     },
     "execution_count": 3,
     "metadata": {},
     "output_type": "execute_result"
    }
   ],
   "source": [
    "datHousing.head()"
   ]
  },
  {
   "cell_type": "code",
   "execution_count": 4,
   "metadata": {},
   "outputs": [],
   "source": [
    "datHousing.rename(columns=lambda x:x.lower(),inplace=True)"
   ]
  },
  {
   "cell_type": "code",
   "execution_count": 5,
   "metadata": {},
   "outputs": [
    {
     "data": {
      "text/html": [
       "<div>\n",
       "<style scoped>\n",
       "    .dataframe tbody tr th:only-of-type {\n",
       "        vertical-align: middle;\n",
       "    }\n",
       "\n",
       "    .dataframe tbody tr th {\n",
       "        vertical-align: top;\n",
       "    }\n",
       "\n",
       "    .dataframe thead th {\n",
       "        text-align: right;\n",
       "    }\n",
       "</style>\n",
       "<table border=\"1\" class=\"dataframe\">\n",
       "  <thead>\n",
       "    <tr style=\"text-align: right;\">\n",
       "      <th></th>\n",
       "      <th>crim</th>\n",
       "      <th>zn</th>\n",
       "      <th>indus</th>\n",
       "      <th>nox</th>\n",
       "      <th>rm</th>\n",
       "      <th>age</th>\n",
       "      <th>dis</th>\n",
       "      <th>rad</th>\n",
       "      <th>tax</th>\n",
       "      <th>pratio</th>\n",
       "      <th>lstat</th>\n",
       "      <th>medv</th>\n",
       "    </tr>\n",
       "  </thead>\n",
       "  <tbody>\n",
       "    <tr>\n",
       "      <th>count</th>\n",
       "      <td>506.000000</td>\n",
       "      <td>506.000000</td>\n",
       "      <td>506.000000</td>\n",
       "      <td>506.000000</td>\n",
       "      <td>506.000000</td>\n",
       "      <td>506.000000</td>\n",
       "      <td>506.000000</td>\n",
       "      <td>506.000000</td>\n",
       "      <td>506.000000</td>\n",
       "      <td>506.000000</td>\n",
       "      <td>506.000000</td>\n",
       "      <td>506.000000</td>\n",
       "    </tr>\n",
       "    <tr>\n",
       "      <th>mean</th>\n",
       "      <td>3.613524</td>\n",
       "      <td>11.363636</td>\n",
       "      <td>11.136779</td>\n",
       "      <td>0.554695</td>\n",
       "      <td>6.284634</td>\n",
       "      <td>68.574901</td>\n",
       "      <td>3.795043</td>\n",
       "      <td>9.549407</td>\n",
       "      <td>408.237154</td>\n",
       "      <td>18.455534</td>\n",
       "      <td>12.653063</td>\n",
       "      <td>22.532806</td>\n",
       "    </tr>\n",
       "    <tr>\n",
       "      <th>std</th>\n",
       "      <td>8.601545</td>\n",
       "      <td>23.322453</td>\n",
       "      <td>6.860353</td>\n",
       "      <td>0.115878</td>\n",
       "      <td>0.702617</td>\n",
       "      <td>28.148861</td>\n",
       "      <td>2.105710</td>\n",
       "      <td>8.707259</td>\n",
       "      <td>168.537116</td>\n",
       "      <td>2.164946</td>\n",
       "      <td>7.141062</td>\n",
       "      <td>9.197104</td>\n",
       "    </tr>\n",
       "    <tr>\n",
       "      <th>min</th>\n",
       "      <td>0.006320</td>\n",
       "      <td>0.000000</td>\n",
       "      <td>0.460000</td>\n",
       "      <td>0.385000</td>\n",
       "      <td>3.561000</td>\n",
       "      <td>2.900000</td>\n",
       "      <td>1.129600</td>\n",
       "      <td>1.000000</td>\n",
       "      <td>187.000000</td>\n",
       "      <td>12.600000</td>\n",
       "      <td>1.730000</td>\n",
       "      <td>5.000000</td>\n",
       "    </tr>\n",
       "    <tr>\n",
       "      <th>25%</th>\n",
       "      <td>0.082045</td>\n",
       "      <td>0.000000</td>\n",
       "      <td>5.190000</td>\n",
       "      <td>0.449000</td>\n",
       "      <td>5.885500</td>\n",
       "      <td>45.025000</td>\n",
       "      <td>2.100175</td>\n",
       "      <td>4.000000</td>\n",
       "      <td>279.000000</td>\n",
       "      <td>17.400000</td>\n",
       "      <td>6.950000</td>\n",
       "      <td>17.025000</td>\n",
       "    </tr>\n",
       "    <tr>\n",
       "      <th>50%</th>\n",
       "      <td>0.256510</td>\n",
       "      <td>0.000000</td>\n",
       "      <td>9.690000</td>\n",
       "      <td>0.538000</td>\n",
       "      <td>6.208500</td>\n",
       "      <td>77.500000</td>\n",
       "      <td>3.207450</td>\n",
       "      <td>5.000000</td>\n",
       "      <td>330.000000</td>\n",
       "      <td>19.050000</td>\n",
       "      <td>11.360000</td>\n",
       "      <td>21.200000</td>\n",
       "    </tr>\n",
       "    <tr>\n",
       "      <th>75%</th>\n",
       "      <td>3.677082</td>\n",
       "      <td>12.500000</td>\n",
       "      <td>18.100000</td>\n",
       "      <td>0.624000</td>\n",
       "      <td>6.623500</td>\n",
       "      <td>94.075000</td>\n",
       "      <td>5.188425</td>\n",
       "      <td>24.000000</td>\n",
       "      <td>666.000000</td>\n",
       "      <td>20.200000</td>\n",
       "      <td>16.955000</td>\n",
       "      <td>25.000000</td>\n",
       "    </tr>\n",
       "    <tr>\n",
       "      <th>max</th>\n",
       "      <td>88.976200</td>\n",
       "      <td>100.000000</td>\n",
       "      <td>27.740000</td>\n",
       "      <td>0.871000</td>\n",
       "      <td>8.780000</td>\n",
       "      <td>100.000000</td>\n",
       "      <td>12.126500</td>\n",
       "      <td>24.000000</td>\n",
       "      <td>711.000000</td>\n",
       "      <td>22.000000</td>\n",
       "      <td>37.970000</td>\n",
       "      <td>50.000000</td>\n",
       "    </tr>\n",
       "  </tbody>\n",
       "</table>\n",
       "</div>"
      ],
      "text/plain": [
       "             crim          zn       indus         nox          rm         age  \\\n",
       "count  506.000000  506.000000  506.000000  506.000000  506.000000  506.000000   \n",
       "mean     3.613524   11.363636   11.136779    0.554695    6.284634   68.574901   \n",
       "std      8.601545   23.322453    6.860353    0.115878    0.702617   28.148861   \n",
       "min      0.006320    0.000000    0.460000    0.385000    3.561000    2.900000   \n",
       "25%      0.082045    0.000000    5.190000    0.449000    5.885500   45.025000   \n",
       "50%      0.256510    0.000000    9.690000    0.538000    6.208500   77.500000   \n",
       "75%      3.677082   12.500000   18.100000    0.624000    6.623500   94.075000   \n",
       "max     88.976200  100.000000   27.740000    0.871000    8.780000  100.000000   \n",
       "\n",
       "              dis         rad         tax      pratio       lstat        medv  \n",
       "count  506.000000  506.000000  506.000000  506.000000  506.000000  506.000000  \n",
       "mean     3.795043    9.549407  408.237154   18.455534   12.653063   22.532806  \n",
       "std      2.105710    8.707259  168.537116    2.164946    7.141062    9.197104  \n",
       "min      1.129600    1.000000  187.000000   12.600000    1.730000    5.000000  \n",
       "25%      2.100175    4.000000  279.000000   17.400000    6.950000   17.025000  \n",
       "50%      3.207450    5.000000  330.000000   19.050000   11.360000   21.200000  \n",
       "75%      5.188425   24.000000  666.000000   20.200000   16.955000   25.000000  \n",
       "max     12.126500   24.000000  711.000000   22.000000   37.970000   50.000000  "
      ]
     },
     "execution_count": 5,
     "metadata": {},
     "output_type": "execute_result"
    }
   ],
   "source": [
    "datHousing.describe()"
   ]
  },
  {
   "cell_type": "markdown",
   "metadata": {},
   "source": [
    "2) Create a dummy variable for RIVER called RIVERCODE where No is coded as 0 and Yes is coded as 1.\n",
    "Look at the mean value for RIVERCODE to verify. It should be 0.069."
   ]
  },
  {
   "cell_type": "code",
   "execution_count": 6,
   "metadata": {},
   "outputs": [],
   "source": [
    "datHousing['rivercode']=datHousing.river.map({'No':0, 'Yes':1})\n",
    "###datHousing.drop(['river'], inplace = True, axis =1)"
   ]
  },
  {
   "cell_type": "code",
   "execution_count": 7,
   "metadata": {},
   "outputs": [
    {
     "data": {
      "text/html": [
       "<div>\n",
       "<style scoped>\n",
       "    .dataframe tbody tr th:only-of-type {\n",
       "        vertical-align: middle;\n",
       "    }\n",
       "\n",
       "    .dataframe tbody tr th {\n",
       "        vertical-align: top;\n",
       "    }\n",
       "\n",
       "    .dataframe thead th {\n",
       "        text-align: right;\n",
       "    }\n",
       "</style>\n",
       "<table border=\"1\" class=\"dataframe\">\n",
       "  <thead>\n",
       "    <tr style=\"text-align: right;\">\n",
       "      <th></th>\n",
       "      <th>crim</th>\n",
       "      <th>zn</th>\n",
       "      <th>indus</th>\n",
       "      <th>river</th>\n",
       "      <th>nox</th>\n",
       "      <th>rm</th>\n",
       "      <th>age</th>\n",
       "      <th>dis</th>\n",
       "      <th>rad</th>\n",
       "      <th>tax</th>\n",
       "      <th>pratio</th>\n",
       "      <th>lstat</th>\n",
       "      <th>medv</th>\n",
       "      <th>rivercode</th>\n",
       "    </tr>\n",
       "  </thead>\n",
       "  <tbody>\n",
       "    <tr>\n",
       "      <th>0</th>\n",
       "      <td>3.32105</td>\n",
       "      <td>0.0</td>\n",
       "      <td>19.58</td>\n",
       "      <td>Yes</td>\n",
       "      <td>0.871</td>\n",
       "      <td>5.403</td>\n",
       "      <td>100.0</td>\n",
       "      <td>1.3216</td>\n",
       "      <td>5</td>\n",
       "      <td>403</td>\n",
       "      <td>14.7</td>\n",
       "      <td>26.82</td>\n",
       "      <td>13.4</td>\n",
       "      <td>1</td>\n",
       "    </tr>\n",
       "    <tr>\n",
       "      <th>1</th>\n",
       "      <td>1.12658</td>\n",
       "      <td>0.0</td>\n",
       "      <td>19.58</td>\n",
       "      <td>Yes</td>\n",
       "      <td>0.871</td>\n",
       "      <td>5.012</td>\n",
       "      <td>88.0</td>\n",
       "      <td>1.6102</td>\n",
       "      <td>5</td>\n",
       "      <td>403</td>\n",
       "      <td>14.7</td>\n",
       "      <td>12.12</td>\n",
       "      <td>15.3</td>\n",
       "      <td>1</td>\n",
       "    </tr>\n",
       "    <tr>\n",
       "      <th>2</th>\n",
       "      <td>1.41385</td>\n",
       "      <td>0.0</td>\n",
       "      <td>19.58</td>\n",
       "      <td>Yes</td>\n",
       "      <td>0.871</td>\n",
       "      <td>6.129</td>\n",
       "      <td>96.0</td>\n",
       "      <td>1.7494</td>\n",
       "      <td>5</td>\n",
       "      <td>403</td>\n",
       "      <td>14.7</td>\n",
       "      <td>15.12</td>\n",
       "      <td>17.0</td>\n",
       "      <td>1</td>\n",
       "    </tr>\n",
       "    <tr>\n",
       "      <th>3</th>\n",
       "      <td>3.53501</td>\n",
       "      <td>0.0</td>\n",
       "      <td>19.58</td>\n",
       "      <td>Yes</td>\n",
       "      <td>0.871</td>\n",
       "      <td>6.152</td>\n",
       "      <td>82.6</td>\n",
       "      <td>1.7455</td>\n",
       "      <td>5</td>\n",
       "      <td>403</td>\n",
       "      <td>14.7</td>\n",
       "      <td>15.02</td>\n",
       "      <td>15.6</td>\n",
       "      <td>1</td>\n",
       "    </tr>\n",
       "    <tr>\n",
       "      <th>4</th>\n",
       "      <td>1.27346</td>\n",
       "      <td>0.0</td>\n",
       "      <td>19.58</td>\n",
       "      <td>Yes</td>\n",
       "      <td>0.605</td>\n",
       "      <td>6.250</td>\n",
       "      <td>92.6</td>\n",
       "      <td>1.7984</td>\n",
       "      <td>5</td>\n",
       "      <td>403</td>\n",
       "      <td>14.7</td>\n",
       "      <td>5.50</td>\n",
       "      <td>27.0</td>\n",
       "      <td>1</td>\n",
       "    </tr>\n",
       "  </tbody>\n",
       "</table>\n",
       "</div>"
      ],
      "text/plain": [
       "      crim   zn  indus river    nox     rm    age     dis  rad  tax  pratio  \\\n",
       "0  3.32105  0.0  19.58   Yes  0.871  5.403  100.0  1.3216    5  403    14.7   \n",
       "1  1.12658  0.0  19.58   Yes  0.871  5.012   88.0  1.6102    5  403    14.7   \n",
       "2  1.41385  0.0  19.58   Yes  0.871  6.129   96.0  1.7494    5  403    14.7   \n",
       "3  3.53501  0.0  19.58   Yes  0.871  6.152   82.6  1.7455    5  403    14.7   \n",
       "4  1.27346  0.0  19.58   Yes  0.605  6.250   92.6  1.7984    5  403    14.7   \n",
       "\n",
       "   lstat  medv  rivercode  \n",
       "0  26.82  13.4          1  \n",
       "1  12.12  15.3          1  \n",
       "2  15.12  17.0          1  \n",
       "3  15.02  15.6          1  \n",
       "4   5.50  27.0          1  "
      ]
     },
     "execution_count": 7,
     "metadata": {},
     "output_type": "execute_result"
    }
   ],
   "source": [
    "datHousing.head()"
   ]
  },
  {
   "cell_type": "code",
   "execution_count": 8,
   "metadata": {},
   "outputs": [
    {
     "data": {
      "text/plain": [
       "0.0691699604743083"
      ]
     },
     "execution_count": 8,
     "metadata": {},
     "output_type": "execute_result"
    }
   ],
   "source": [
    "datHousing['rivercode'].mean()"
   ]
  },
  {
   "cell_type": "markdown",
   "metadata": {},
   "source": [
    "3) Create a regression model predicting MEDV using all of the other numeric predictors. Remember to\n",
    "use RIVERCODE instead of RIVER. This is your baseline model. What is the R\n",
    "2\n",
    "value for this model?\n",
    "The Mean Squared Error?"
   ]
  },
  {
   "cell_type": "code",
   "execution_count": 9,
   "metadata": {},
   "outputs": [],
   "source": [
    "numerical_features=['crim','zn','indus','nox','rm','age','dis','rad','tax','pratio','lstat','medv','rivercode']"
   ]
  },
  {
   "cell_type": "code",
   "execution_count": 10,
   "metadata": {},
   "outputs": [],
   "source": [
    "X = datHousing.drop(['river','medv'], axis=1)\n",
    "y = datHousing['medv']"
   ]
  },
  {
   "cell_type": "code",
   "execution_count": 11,
   "metadata": {},
   "outputs": [],
   "source": [
    "from sklearn.model_selection import train_test_split\n",
    "X_train, X_test, y_train, y_test = train_test_split(X, y, test_size=0.1, random_state=123)"
   ]
  },
  {
   "cell_type": "code",
   "execution_count": 12,
   "metadata": {},
   "outputs": [],
   "source": [
    "# 1. Import the Estimator class you will use\n",
    "from sklearn.linear_model import LinearRegression\n",
    "# 2. Create an instance of the class\n",
    "ml_reg = LinearRegression()\n",
    "# 3. Use the fit method of the instance\n",
    "ml_reg.fit(X_train, y_train)\n",
    "# 4. Use the predict method to get the predictions\n",
    "y_pred_ml_reg = ml_reg.predict(X_train)"
   ]
  },
  {
   "cell_type": "code",
   "execution_count": 13,
   "metadata": {},
   "outputs": [
    {
     "data": {
      "text/plain": [
       "rm            3.96\n",
       "rivercode     1.41\n",
       "rad           0.26\n",
       "zn            0.05\n",
       "indus         0.01\n",
       "age           0.00\n",
       "tax          -0.01\n",
       "crim         -0.10\n",
       "lstat        -0.47\n",
       "pratio       -1.00\n",
       "dis          -1.39\n",
       "nox         -17.52\n",
       "dtype: float64"
      ]
     },
     "execution_count": 13,
     "metadata": {},
     "output_type": "execute_result"
    }
   ],
   "source": [
    "pd.Series(ml_reg.coef_, index=X_train.columns).sort_values(ascending=False).round(2)"
   ]
  },
  {
   "cell_type": "code",
   "execution_count": 14,
   "metadata": {},
   "outputs": [
    {
     "name": "stdout",
     "output_type": "stream",
     "text": [
      "Mean squared error: 19.44\n"
     ]
    }
   ],
   "source": [
    "from sklearn.metrics import mean_squared_error, r2_score\n",
    "# The mean squared error\n",
    "print(\"Mean squared error: %.2f\"\n",
    "      % mean_squared_error(y_train, y_pred_ml_reg))"
   ]
  },
  {
   "cell_type": "code",
   "execution_count": 15,
   "metadata": {
    "scrolled": true
   },
   "outputs": [
    {
     "name": "stdout",
     "output_type": "stream",
     "text": [
      "Variance score: 0.76\n"
     ]
    }
   ],
   "source": [
    "# Explained variance score: 1 is perfect prediction\n",
    "print('Variance score: %.2f' % r2_score(y_train, y_pred_ml_reg))\n"
   ]
  },
  {
   "cell_type": "code",
   "execution_count": 16,
   "metadata": {},
   "outputs": [
    {
     "data": {
      "text/plain": [
       "39.82602376501103"
      ]
     },
     "execution_count": 16,
     "metadata": {},
     "output_type": "execute_result"
    }
   ],
   "source": [
    "ml_reg.intercept_\n"
   ]
  },
  {
   "cell_type": "markdown",
   "metadata": {},
   "source": [
    "4) Create a data frame called datHousingSub for clustering by generating a subset with all columns\n",
    "except for RIVER (keep RIVERCODE) and MEDV. We want to exclude MEDV from the clustering since\n",
    "this is the value that we will try to predict later from the clusters. Do a summary on the subset to\n",
    "verify."
   ]
  },
  {
   "cell_type": "code",
   "execution_count": 17,
   "metadata": {},
   "outputs": [],
   "source": [
    "datHousingSub = datHousing.drop(['river','medv'], axis=1)"
   ]
  },
  {
   "cell_type": "code",
   "execution_count": 18,
   "metadata": {},
   "outputs": [
    {
     "data": {
      "text/plain": [
       "<bound method NDFrame.head of          crim    zn  indus     nox     rm    age     dis  rad  tax  pratio  \\\n",
       "0     3.32105   0.0  19.58  0.8710  5.403  100.0  1.3216    5  403    14.7   \n",
       "1     1.12658   0.0  19.58  0.8710  5.012   88.0  1.6102    5  403    14.7   \n",
       "2     1.41385   0.0  19.58  0.8710  6.129   96.0  1.7494    5  403    14.7   \n",
       "3     3.53501   0.0  19.58  0.8710  6.152   82.6  1.7455    5  403    14.7   \n",
       "4     1.27346   0.0  19.58  0.6050  6.250   92.6  1.7984    5  403    14.7   \n",
       "5     1.83377   0.0  19.58  0.6050  7.802   98.2  2.0407    5  403    14.7   \n",
       "6     1.51902   0.0  19.58  0.6050  8.375   93.9  2.1620    5  403    14.7   \n",
       "7     0.13587   0.0  10.59  0.4890  6.064   59.1  4.2392    4  277    18.6   \n",
       "8     0.43571   0.0  10.59  0.4890  5.344  100.0  3.8750    4  277    18.6   \n",
       "9     0.17446   0.0  10.59  0.4890  5.960   92.1  3.8771    4  277    18.6   \n",
       "10    0.37578   0.0  10.59  0.4890  5.404   88.6  3.6650    4  277    18.6   \n",
       "11    0.21719   0.0  10.59  0.4890  5.807   53.8  3.6526    4  277    18.6   \n",
       "12    0.04560   0.0  13.89  0.5500  5.888   56.0  3.1121    5  276    16.4   \n",
       "13    0.11069   0.0  13.89  0.5500  5.951   93.8  2.8893    5  276    16.4   \n",
       "14    0.11425   0.0  13.89  0.5500  6.373   92.4  3.3633    5  276    16.4   \n",
       "15    0.35809   0.0   6.20  0.5070  6.951   88.5  2.8617    8  307    17.4   \n",
       "16    0.40771   0.0   6.20  0.5070  6.164   91.3  3.0480    8  307    17.4   \n",
       "17    0.62356   0.0   6.20  0.5070  6.879   77.7  3.2721    8  307    17.4   \n",
       "18    0.44791   0.0   6.20  0.5070  6.726   66.5  3.6519    8  307    17.4   \n",
       "19    0.52058   0.0   6.20  0.5070  6.631   76.5  4.1480    8  307    17.4   \n",
       "20    0.09065  20.0   6.96  0.4640  5.920   61.5  3.9175    3  223    18.6   \n",
       "21    0.22188  20.0   6.96  0.4640  7.691   51.8  4.3665    3  223    18.6   \n",
       "22    0.05644  40.0   6.41  0.4470  6.758   32.9  4.0776    4  254    17.6   \n",
       "23    0.10469  40.0   6.41  0.4470  7.267   49.0  4.7872    4  254    17.6   \n",
       "24    0.06127  40.0   6.41  0.4470  6.826   27.6  4.8628    4  254    17.6   \n",
       "25    0.06129  20.0   3.33  0.4429  7.645   49.7  5.2119    5  216    14.9   \n",
       "26    0.01501  90.0   1.21  0.4010  7.923   24.8  5.8850    1  198    13.6   \n",
       "27    8.98296   0.0  18.10  0.7700  6.212   97.4  2.1222   24  666    20.2   \n",
       "28    3.84970   0.0  18.10  0.7700  6.395   91.0  2.5052   24  666    20.2   \n",
       "29    5.20177   0.0  18.10  0.7700  6.127   83.4  2.7227   24  666    20.2   \n",
       "..        ...   ...    ...     ...    ...    ...     ...  ...  ...     ...   \n",
       "476   4.87141   0.0  18.10  0.6140  6.484   93.6  2.3053   24  666    20.2   \n",
       "477  15.02340   0.0  18.10  0.6140  5.304   97.3  2.1007   24  666    20.2   \n",
       "478  10.23300   0.0  18.10  0.6140  6.185   96.7  2.1705   24  666    20.2   \n",
       "479  14.33370   0.0  18.10  0.6140  6.229   88.0  1.9512   24  666    20.2   \n",
       "480   5.82401   0.0  18.10  0.5320  6.242   64.7  3.4242   24  666    20.2   \n",
       "481   5.70818   0.0  18.10  0.5320  6.750   74.9  3.3317   24  666    20.2   \n",
       "482   5.73116   0.0  18.10  0.5320  7.061   77.0  3.4106   24  666    20.2   \n",
       "483   2.81838   0.0  18.10  0.5320  5.762   40.3  4.0983   24  666    20.2   \n",
       "484   2.37857   0.0  18.10  0.5830  5.871   41.9  3.7240   24  666    20.2   \n",
       "485   3.67367   0.0  18.10  0.5830  6.312   51.9  3.9917   24  666    20.2   \n",
       "486   5.69175   0.0  18.10  0.5830  6.114   79.8  3.5459   24  666    20.2   \n",
       "487   4.83567   0.0  18.10  0.5830  5.905   53.2  3.1523   24  666    20.2   \n",
       "488   0.15086   0.0  27.74  0.6090  5.454   92.7  1.8209    4  711    20.1   \n",
       "489   0.18337   0.0  27.74  0.6090  5.414   98.3  1.7554    4  711    20.1   \n",
       "490   0.20746   0.0  27.74  0.6090  5.093   98.0  1.8226    4  711    20.1   \n",
       "491   0.10574   0.0  27.74  0.6090  5.983   98.8  1.8681    4  711    20.1   \n",
       "492   0.11132   0.0  27.74  0.6090  5.983   83.5  2.1099    4  711    20.1   \n",
       "493   0.17331   0.0   9.69  0.5850  5.707   54.0  2.3817    6  391    19.2   \n",
       "494   0.27957   0.0   9.69  0.5850  5.926   42.6  2.3817    6  391    19.2   \n",
       "495   0.17899   0.0   9.69  0.5850  5.670   28.8  2.7986    6  391    19.2   \n",
       "496   0.28960   0.0   9.69  0.5850  5.390   72.9  2.7986    6  391    19.2   \n",
       "497   0.26838   0.0   9.69  0.5850  5.794   70.6  2.8927    6  391    19.2   \n",
       "498   0.23912   0.0   9.69  0.5850  6.019   65.3  2.4091    6  391    19.2   \n",
       "499   0.17783   0.0   9.69  0.5850  5.569   73.5  2.3999    6  391    19.2   \n",
       "500   0.22438   0.0   9.69  0.5850  6.027   79.7  2.4982    6  391    19.2   \n",
       "501   0.06263   0.0  11.93  0.5730  6.593   69.1  2.4786    1  273    21.0   \n",
       "502   0.04527   0.0  11.93  0.5730  6.120   76.7  2.2875    1  273    21.0   \n",
       "503   0.06076   0.0  11.93  0.5730  6.976   91.0  2.1675    1  273    21.0   \n",
       "504   0.10959   0.0  11.93  0.5730  6.794   89.3  2.3889    1  273    21.0   \n",
       "505   0.04741   0.0  11.93  0.5730  6.030   80.8  2.5050    1  273    21.0   \n",
       "\n",
       "     lstat  rivercode  \n",
       "0    26.82          1  \n",
       "1    12.12          1  \n",
       "2    15.12          1  \n",
       "3    15.02          1  \n",
       "4     5.50          1  \n",
       "5     1.92          1  \n",
       "6     3.32          1  \n",
       "7    14.66          1  \n",
       "8    23.09          1  \n",
       "9    17.27          1  \n",
       "10   23.98          1  \n",
       "11   16.03          1  \n",
       "12   13.51          1  \n",
       "13   17.92          1  \n",
       "14   10.50          1  \n",
       "15    9.71          1  \n",
       "16   21.46          1  \n",
       "17    9.93          1  \n",
       "18    8.05          1  \n",
       "19    9.54          1  \n",
       "20   13.65          1  \n",
       "21    6.58          1  \n",
       "22    3.53          1  \n",
       "23    6.05          1  \n",
       "24    4.16          1  \n",
       "25    3.01          1  \n",
       "26    3.16          1  \n",
       "27   17.60          1  \n",
       "28   13.27          1  \n",
       "29   11.48          1  \n",
       "..     ...        ...  \n",
       "476  18.68          0  \n",
       "477  24.91          0  \n",
       "478  18.03          0  \n",
       "479  13.11          0  \n",
       "480  10.74          0  \n",
       "481   7.74          0  \n",
       "482   7.01          0  \n",
       "483  10.42          0  \n",
       "484  13.34          0  \n",
       "485  10.58          0  \n",
       "486  14.98          0  \n",
       "487  11.45          0  \n",
       "488  18.06          0  \n",
       "489  23.97          0  \n",
       "490  29.68          0  \n",
       "491  18.07          0  \n",
       "492  13.35          0  \n",
       "493  12.01          0  \n",
       "494  13.59          0  \n",
       "495  17.60          0  \n",
       "496  21.14          0  \n",
       "497  14.10          0  \n",
       "498  12.92          0  \n",
       "499  15.10          0  \n",
       "500  14.33          0  \n",
       "501   9.67          0  \n",
       "502   9.08          0  \n",
       "503   5.64          0  \n",
       "504   6.48          0  \n",
       "505   7.88          0  \n",
       "\n",
       "[506 rows x 12 columns]>"
      ]
     },
     "execution_count": 18,
     "metadata": {},
     "output_type": "execute_result"
    }
   ],
   "source": [
    "datHousingSub.head"
   ]
  },
  {
   "cell_type": "code",
   "execution_count": 19,
   "metadata": {},
   "outputs": [
    {
     "data": {
      "text/html": [
       "<div>\n",
       "<style scoped>\n",
       "    .dataframe tbody tr th:only-of-type {\n",
       "        vertical-align: middle;\n",
       "    }\n",
       "\n",
       "    .dataframe tbody tr th {\n",
       "        vertical-align: top;\n",
       "    }\n",
       "\n",
       "    .dataframe thead th {\n",
       "        text-align: right;\n",
       "    }\n",
       "</style>\n",
       "<table border=\"1\" class=\"dataframe\">\n",
       "  <thead>\n",
       "    <tr style=\"text-align: right;\">\n",
       "      <th></th>\n",
       "      <th>crim</th>\n",
       "      <th>zn</th>\n",
       "      <th>indus</th>\n",
       "      <th>nox</th>\n",
       "      <th>rm</th>\n",
       "      <th>age</th>\n",
       "      <th>dis</th>\n",
       "      <th>rad</th>\n",
       "      <th>tax</th>\n",
       "      <th>pratio</th>\n",
       "      <th>lstat</th>\n",
       "      <th>rivercode</th>\n",
       "    </tr>\n",
       "  </thead>\n",
       "  <tbody>\n",
       "    <tr>\n",
       "      <th>count</th>\n",
       "      <td>506.000000</td>\n",
       "      <td>506.000000</td>\n",
       "      <td>506.000000</td>\n",
       "      <td>506.000000</td>\n",
       "      <td>506.000000</td>\n",
       "      <td>506.000000</td>\n",
       "      <td>506.000000</td>\n",
       "      <td>506.000000</td>\n",
       "      <td>506.000000</td>\n",
       "      <td>506.000000</td>\n",
       "      <td>506.000000</td>\n",
       "      <td>506.000000</td>\n",
       "    </tr>\n",
       "    <tr>\n",
       "      <th>mean</th>\n",
       "      <td>3.613524</td>\n",
       "      <td>11.363636</td>\n",
       "      <td>11.136779</td>\n",
       "      <td>0.554695</td>\n",
       "      <td>6.284634</td>\n",
       "      <td>68.574901</td>\n",
       "      <td>3.795043</td>\n",
       "      <td>9.549407</td>\n",
       "      <td>408.237154</td>\n",
       "      <td>18.455534</td>\n",
       "      <td>12.653063</td>\n",
       "      <td>0.069170</td>\n",
       "    </tr>\n",
       "    <tr>\n",
       "      <th>std</th>\n",
       "      <td>8.601545</td>\n",
       "      <td>23.322453</td>\n",
       "      <td>6.860353</td>\n",
       "      <td>0.115878</td>\n",
       "      <td>0.702617</td>\n",
       "      <td>28.148861</td>\n",
       "      <td>2.105710</td>\n",
       "      <td>8.707259</td>\n",
       "      <td>168.537116</td>\n",
       "      <td>2.164946</td>\n",
       "      <td>7.141062</td>\n",
       "      <td>0.253994</td>\n",
       "    </tr>\n",
       "    <tr>\n",
       "      <th>min</th>\n",
       "      <td>0.006320</td>\n",
       "      <td>0.000000</td>\n",
       "      <td>0.460000</td>\n",
       "      <td>0.385000</td>\n",
       "      <td>3.561000</td>\n",
       "      <td>2.900000</td>\n",
       "      <td>1.129600</td>\n",
       "      <td>1.000000</td>\n",
       "      <td>187.000000</td>\n",
       "      <td>12.600000</td>\n",
       "      <td>1.730000</td>\n",
       "      <td>0.000000</td>\n",
       "    </tr>\n",
       "    <tr>\n",
       "      <th>25%</th>\n",
       "      <td>0.082045</td>\n",
       "      <td>0.000000</td>\n",
       "      <td>5.190000</td>\n",
       "      <td>0.449000</td>\n",
       "      <td>5.885500</td>\n",
       "      <td>45.025000</td>\n",
       "      <td>2.100175</td>\n",
       "      <td>4.000000</td>\n",
       "      <td>279.000000</td>\n",
       "      <td>17.400000</td>\n",
       "      <td>6.950000</td>\n",
       "      <td>0.000000</td>\n",
       "    </tr>\n",
       "    <tr>\n",
       "      <th>50%</th>\n",
       "      <td>0.256510</td>\n",
       "      <td>0.000000</td>\n",
       "      <td>9.690000</td>\n",
       "      <td>0.538000</td>\n",
       "      <td>6.208500</td>\n",
       "      <td>77.500000</td>\n",
       "      <td>3.207450</td>\n",
       "      <td>5.000000</td>\n",
       "      <td>330.000000</td>\n",
       "      <td>19.050000</td>\n",
       "      <td>11.360000</td>\n",
       "      <td>0.000000</td>\n",
       "    </tr>\n",
       "    <tr>\n",
       "      <th>75%</th>\n",
       "      <td>3.677082</td>\n",
       "      <td>12.500000</td>\n",
       "      <td>18.100000</td>\n",
       "      <td>0.624000</td>\n",
       "      <td>6.623500</td>\n",
       "      <td>94.075000</td>\n",
       "      <td>5.188425</td>\n",
       "      <td>24.000000</td>\n",
       "      <td>666.000000</td>\n",
       "      <td>20.200000</td>\n",
       "      <td>16.955000</td>\n",
       "      <td>0.000000</td>\n",
       "    </tr>\n",
       "    <tr>\n",
       "      <th>max</th>\n",
       "      <td>88.976200</td>\n",
       "      <td>100.000000</td>\n",
       "      <td>27.740000</td>\n",
       "      <td>0.871000</td>\n",
       "      <td>8.780000</td>\n",
       "      <td>100.000000</td>\n",
       "      <td>12.126500</td>\n",
       "      <td>24.000000</td>\n",
       "      <td>711.000000</td>\n",
       "      <td>22.000000</td>\n",
       "      <td>37.970000</td>\n",
       "      <td>1.000000</td>\n",
       "    </tr>\n",
       "  </tbody>\n",
       "</table>\n",
       "</div>"
      ],
      "text/plain": [
       "             crim          zn       indus         nox          rm         age  \\\n",
       "count  506.000000  506.000000  506.000000  506.000000  506.000000  506.000000   \n",
       "mean     3.613524   11.363636   11.136779    0.554695    6.284634   68.574901   \n",
       "std      8.601545   23.322453    6.860353    0.115878    0.702617   28.148861   \n",
       "min      0.006320    0.000000    0.460000    0.385000    3.561000    2.900000   \n",
       "25%      0.082045    0.000000    5.190000    0.449000    5.885500   45.025000   \n",
       "50%      0.256510    0.000000    9.690000    0.538000    6.208500   77.500000   \n",
       "75%      3.677082   12.500000   18.100000    0.624000    6.623500   94.075000   \n",
       "max     88.976200  100.000000   27.740000    0.871000    8.780000  100.000000   \n",
       "\n",
       "              dis         rad         tax      pratio       lstat   rivercode  \n",
       "count  506.000000  506.000000  506.000000  506.000000  506.000000  506.000000  \n",
       "mean     3.795043    9.549407  408.237154   18.455534   12.653063    0.069170  \n",
       "std      2.105710    8.707259  168.537116    2.164946    7.141062    0.253994  \n",
       "min      1.129600    1.000000  187.000000   12.600000    1.730000    0.000000  \n",
       "25%      2.100175    4.000000  279.000000   17.400000    6.950000    0.000000  \n",
       "50%      3.207450    5.000000  330.000000   19.050000   11.360000    0.000000  \n",
       "75%      5.188425   24.000000  666.000000   20.200000   16.955000    0.000000  \n",
       "max     12.126500   24.000000  711.000000   22.000000   37.970000    1.000000  "
      ]
     },
     "execution_count": 19,
     "metadata": {},
     "output_type": "execute_result"
    }
   ],
   "source": [
    "datHousingSub.describe()"
   ]
  },
  {
   "cell_type": "markdown",
   "metadata": {},
   "source": [
    "5) Using the kmeans algorithm, create a model with 2 clusters on the datHousingSub data frame.\n",
    "Report the center values for each cluster and the sizes of each cluster. Using the characteristics that\n",
    "are especially divergent between the two clusters, what would you name these clusters?"
   ]
  },
  {
   "cell_type": "code",
   "execution_count": 20,
   "metadata": {},
   "outputs": [],
   "source": [
    "# Using scikit-learn to perform K-Means clustering\n",
    "from sklearn.cluster import KMeans\n",
    "    \n",
    "# Specify the number of clusters (2) and fit the data dat_rider_feats\n",
    "kmeans = KMeans(n_clusters=2, random_state=0).fit(datHousingSub)"
   ]
  },
  {
   "cell_type": "code",
   "execution_count": 21,
   "metadata": {},
   "outputs": [
    {
     "name": "stdout",
     "output_type": "stream",
     "text": [
      "[[3.88774444e-01 1.55826558e+01 8.42089431e+00 5.11847425e-01\n",
      "  6.38800542e+00 6.06322493e+01 4.44127154e+00 4.45528455e+00\n",
      "  3.11926829e+02 1.78092141e+01 1.04174526e+01 7.31707317e-02]\n",
      " [1.22991617e+01 3.01980663e-14 1.84518248e+01 6.70102190e-01\n",
      "  6.00621168e+00 8.99678832e+01 2.05447007e+00 2.32700730e+01\n",
      "  6.67642336e+02 2.01963504e+01 1.86745255e+01 5.83941606e-02]]\n"
     ]
    }
   ],
   "source": [
    "centroids = (kmeans.cluster_centers_)\n",
    "print(centroids)"
   ]
  },
  {
   "cell_type": "markdown",
   "metadata": {},
   "source": [
    "Using the characteristics that are divergent we can name these two clusters as High Crime and Low Crime Clusters."
   ]
  },
  {
   "cell_type": "code",
   "execution_count": 22,
   "metadata": {},
   "outputs": [
    {
     "name": "stdout",
     "output_type": "stream",
     "text": [
      "[0 0 0 0 0 0 0 0 0 0 0 0 0 0 0 0 0 0 0 0 0 0 0 0 0 0 0 1 1 1 1 1 1 1 1 0 0\n",
      " 0 0 0 0 0 0 0 0 0 0 0 0 0 0 0 0 0 0 0 0 0 0 0 0 0 0 0 0 0 0 0 0 0 0 0 0 0\n",
      " 0 0 0 0 0 0 0 0 0 0 0 0 0 0 0 0 0 0 0 0 0 0 0 0 0 0 0 0 0 0 0 0 0 0 0 0 0\n",
      " 0 0 0 0 0 0 0 0 0 0 0 0 0 0 0 0 0 0 0 0 0 0 0 0 0 0 0 0 0 0 0 0 0 0 0 0 0\n",
      " 0 0 0 0 0 0 0 0 0 0 0 0 0 0 0 0 0 0 0 0 0 0 0 0 0 0 0 0 0 0 0 0 0 0 0 0 0\n",
      " 0 0 0 0 0 0 0 0 0 0 0 0 0 0 0 0 0 0 0 0 0 0 0 0 0 0 0 0 0 0 0 0 0 0 0 0 0\n",
      " 0 0 0 0 0 0 0 0 0 0 0 0 0 0 0 0 0 0 0 0 0 0 0 0 0 0 0 0 0 0 0 0 0 0 0 0 0\n",
      " 0 0 0 0 0 0 0 0 0 0 0 0 0 0 0 0 0 0 0 0 0 0 0 0 0 0 0 0 0 0 0 0 0 0 0 0 0\n",
      " 0 0 0 0 0 0 0 0 0 0 0 0 0 0 0 0 0 0 0 0 0 0 0 0 0 0 0 0 0 0 0 0 0 0 0 0 0\n",
      " 0 0 0 0 0 0 0 0 0 0 0 0 0 0 0 0 0 0 0 0 0 0 0 0 0 0 0 0 0 0 0 1 1 1 1 1 1\n",
      " 1 1 1 1 1 1 1 1 1 1 1 1 1 1 1 1 1 1 1 1 1 1 1 1 1 1 1 1 1 1 1 1 1 1 1 1 1\n",
      " 1 1 1 1 1 1 1 1 1 1 1 1 1 1 1 1 1 1 1 1 1 1 1 1 1 1 1 1 1 1 1 1 1 1 1 1 1\n",
      " 1 1 1 1 1 1 1 1 1 1 1 1 1 1 1 1 1 1 1 1 1 1 1 1 1 1 1 1 1 1 1 1 1 1 1 1 1\n",
      " 1 1 1 1 1 1 1 1 1 1 1 1 0 0 0 0 0 0 0 0 0 0 0 0 0]\n"
     ]
    }
   ],
   "source": [
    "labels = (kmeans.labels_)\n",
    "print(labels)"
   ]
  },
  {
   "cell_type": "code",
   "execution_count": 23,
   "metadata": {},
   "outputs": [],
   "source": [
    "df_labels = pd.DataFrame(labels)\n",
    "df_labels.rename(columns={0:'Cluster'}, inplace=True)"
   ]
  },
  {
   "cell_type": "code",
   "execution_count": 24,
   "metadata": {},
   "outputs": [
    {
     "data": {
      "text/html": [
       "<div>\n",
       "<style scoped>\n",
       "    .dataframe tbody tr th:only-of-type {\n",
       "        vertical-align: middle;\n",
       "    }\n",
       "\n",
       "    .dataframe tbody tr th {\n",
       "        vertical-align: top;\n",
       "    }\n",
       "\n",
       "    .dataframe thead th {\n",
       "        text-align: right;\n",
       "    }\n",
       "</style>\n",
       "<table border=\"1\" class=\"dataframe\">\n",
       "  <thead>\n",
       "    <tr style=\"text-align: right;\">\n",
       "      <th></th>\n",
       "      <th>Cluster</th>\n",
       "    </tr>\n",
       "  </thead>\n",
       "  <tbody>\n",
       "    <tr>\n",
       "      <th>0</th>\n",
       "      <td>0</td>\n",
       "    </tr>\n",
       "    <tr>\n",
       "      <th>1</th>\n",
       "      <td>0</td>\n",
       "    </tr>\n",
       "    <tr>\n",
       "      <th>2</th>\n",
       "      <td>0</td>\n",
       "    </tr>\n",
       "    <tr>\n",
       "      <th>3</th>\n",
       "      <td>0</td>\n",
       "    </tr>\n",
       "    <tr>\n",
       "      <th>4</th>\n",
       "      <td>0</td>\n",
       "    </tr>\n",
       "  </tbody>\n",
       "</table>\n",
       "</div>"
      ],
      "text/plain": [
       "   Cluster\n",
       "0        0\n",
       "1        0\n",
       "2        0\n",
       "3        0\n",
       "4        0"
      ]
     },
     "execution_count": 24,
     "metadata": {},
     "output_type": "execute_result"
    }
   ],
   "source": [
    "df_labels.head()"
   ]
  },
  {
   "cell_type": "code",
   "execution_count": 25,
   "metadata": {},
   "outputs": [],
   "source": [
    "dat_housing_Clust = pd.concat([datHousing, df_labels], axis=1)"
   ]
  },
  {
   "cell_type": "code",
   "execution_count": 26,
   "metadata": {},
   "outputs": [
    {
     "data": {
      "text/html": [
       "<div>\n",
       "<style scoped>\n",
       "    .dataframe tbody tr th:only-of-type {\n",
       "        vertical-align: middle;\n",
       "    }\n",
       "\n",
       "    .dataframe tbody tr th {\n",
       "        vertical-align: top;\n",
       "    }\n",
       "\n",
       "    .dataframe thead th {\n",
       "        text-align: right;\n",
       "    }\n",
       "</style>\n",
       "<table border=\"1\" class=\"dataframe\">\n",
       "  <thead>\n",
       "    <tr style=\"text-align: right;\">\n",
       "      <th></th>\n",
       "      <th>crim</th>\n",
       "      <th>zn</th>\n",
       "      <th>indus</th>\n",
       "      <th>river</th>\n",
       "      <th>nox</th>\n",
       "      <th>rm</th>\n",
       "      <th>age</th>\n",
       "      <th>dis</th>\n",
       "      <th>rad</th>\n",
       "      <th>tax</th>\n",
       "      <th>pratio</th>\n",
       "      <th>lstat</th>\n",
       "      <th>medv</th>\n",
       "      <th>rivercode</th>\n",
       "      <th>Cluster</th>\n",
       "    </tr>\n",
       "  </thead>\n",
       "  <tbody>\n",
       "    <tr>\n",
       "      <th>0</th>\n",
       "      <td>3.32105</td>\n",
       "      <td>0.0</td>\n",
       "      <td>19.58</td>\n",
       "      <td>Yes</td>\n",
       "      <td>0.871</td>\n",
       "      <td>5.403</td>\n",
       "      <td>100.0</td>\n",
       "      <td>1.3216</td>\n",
       "      <td>5</td>\n",
       "      <td>403</td>\n",
       "      <td>14.7</td>\n",
       "      <td>26.82</td>\n",
       "      <td>13.4</td>\n",
       "      <td>1</td>\n",
       "      <td>0</td>\n",
       "    </tr>\n",
       "    <tr>\n",
       "      <th>1</th>\n",
       "      <td>1.12658</td>\n",
       "      <td>0.0</td>\n",
       "      <td>19.58</td>\n",
       "      <td>Yes</td>\n",
       "      <td>0.871</td>\n",
       "      <td>5.012</td>\n",
       "      <td>88.0</td>\n",
       "      <td>1.6102</td>\n",
       "      <td>5</td>\n",
       "      <td>403</td>\n",
       "      <td>14.7</td>\n",
       "      <td>12.12</td>\n",
       "      <td>15.3</td>\n",
       "      <td>1</td>\n",
       "      <td>0</td>\n",
       "    </tr>\n",
       "    <tr>\n",
       "      <th>2</th>\n",
       "      <td>1.41385</td>\n",
       "      <td>0.0</td>\n",
       "      <td>19.58</td>\n",
       "      <td>Yes</td>\n",
       "      <td>0.871</td>\n",
       "      <td>6.129</td>\n",
       "      <td>96.0</td>\n",
       "      <td>1.7494</td>\n",
       "      <td>5</td>\n",
       "      <td>403</td>\n",
       "      <td>14.7</td>\n",
       "      <td>15.12</td>\n",
       "      <td>17.0</td>\n",
       "      <td>1</td>\n",
       "      <td>0</td>\n",
       "    </tr>\n",
       "    <tr>\n",
       "      <th>3</th>\n",
       "      <td>3.53501</td>\n",
       "      <td>0.0</td>\n",
       "      <td>19.58</td>\n",
       "      <td>Yes</td>\n",
       "      <td>0.871</td>\n",
       "      <td>6.152</td>\n",
       "      <td>82.6</td>\n",
       "      <td>1.7455</td>\n",
       "      <td>5</td>\n",
       "      <td>403</td>\n",
       "      <td>14.7</td>\n",
       "      <td>15.02</td>\n",
       "      <td>15.6</td>\n",
       "      <td>1</td>\n",
       "      <td>0</td>\n",
       "    </tr>\n",
       "    <tr>\n",
       "      <th>4</th>\n",
       "      <td>1.27346</td>\n",
       "      <td>0.0</td>\n",
       "      <td>19.58</td>\n",
       "      <td>Yes</td>\n",
       "      <td>0.605</td>\n",
       "      <td>6.250</td>\n",
       "      <td>92.6</td>\n",
       "      <td>1.7984</td>\n",
       "      <td>5</td>\n",
       "      <td>403</td>\n",
       "      <td>14.7</td>\n",
       "      <td>5.50</td>\n",
       "      <td>27.0</td>\n",
       "      <td>1</td>\n",
       "      <td>0</td>\n",
       "    </tr>\n",
       "  </tbody>\n",
       "</table>\n",
       "</div>"
      ],
      "text/plain": [
       "      crim   zn  indus river    nox     rm    age     dis  rad  tax  pratio  \\\n",
       "0  3.32105  0.0  19.58   Yes  0.871  5.403  100.0  1.3216    5  403    14.7   \n",
       "1  1.12658  0.0  19.58   Yes  0.871  5.012   88.0  1.6102    5  403    14.7   \n",
       "2  1.41385  0.0  19.58   Yes  0.871  6.129   96.0  1.7494    5  403    14.7   \n",
       "3  3.53501  0.0  19.58   Yes  0.871  6.152   82.6  1.7455    5  403    14.7   \n",
       "4  1.27346  0.0  19.58   Yes  0.605  6.250   92.6  1.7984    5  403    14.7   \n",
       "\n",
       "   lstat  medv  rivercode  Cluster  \n",
       "0  26.82  13.4          1        0  \n",
       "1  12.12  15.3          1        0  \n",
       "2  15.12  17.0          1        0  \n",
       "3  15.02  15.6          1        0  \n",
       "4   5.50  27.0          1        0  "
      ]
     },
     "execution_count": 26,
     "metadata": {},
     "output_type": "execute_result"
    }
   ],
   "source": [
    "dat_housing_Clust.head()"
   ]
  },
  {
   "cell_type": "markdown",
   "metadata": {},
   "source": []
  },
  {
   "cell_type": "markdown",
   "metadata": {},
   "source": [
    "8) Create a new data frame called datHousingC1 which contains all of the rows from datHousing in\n",
    "cluster 1. Look at the first few rows of data to verify. Check the Cluster column to make sure that it\n",
    "only stores the value of 1\n"
   ]
  },
  {
   "cell_type": "code",
   "execution_count": 27,
   "metadata": {},
   "outputs": [],
   "source": [
    "datHousingC1 = dat_housing_Clust.loc[dat_housing_Clust['Cluster']==0]\n"
   ]
  },
  {
   "cell_type": "code",
   "execution_count": 28,
   "metadata": {},
   "outputs": [
    {
     "data": {
      "text/html": [
       "<div>\n",
       "<style scoped>\n",
       "    .dataframe tbody tr th:only-of-type {\n",
       "        vertical-align: middle;\n",
       "    }\n",
       "\n",
       "    .dataframe tbody tr th {\n",
       "        vertical-align: top;\n",
       "    }\n",
       "\n",
       "    .dataframe thead th {\n",
       "        text-align: right;\n",
       "    }\n",
       "</style>\n",
       "<table border=\"1\" class=\"dataframe\">\n",
       "  <thead>\n",
       "    <tr style=\"text-align: right;\">\n",
       "      <th></th>\n",
       "      <th>crim</th>\n",
       "      <th>zn</th>\n",
       "      <th>indus</th>\n",
       "      <th>river</th>\n",
       "      <th>nox</th>\n",
       "      <th>rm</th>\n",
       "      <th>age</th>\n",
       "      <th>dis</th>\n",
       "      <th>rad</th>\n",
       "      <th>tax</th>\n",
       "      <th>pratio</th>\n",
       "      <th>lstat</th>\n",
       "      <th>medv</th>\n",
       "      <th>rivercode</th>\n",
       "      <th>Cluster</th>\n",
       "    </tr>\n",
       "  </thead>\n",
       "  <tbody>\n",
       "    <tr>\n",
       "      <th>0</th>\n",
       "      <td>3.32105</td>\n",
       "      <td>0.0</td>\n",
       "      <td>19.58</td>\n",
       "      <td>Yes</td>\n",
       "      <td>0.871</td>\n",
       "      <td>5.403</td>\n",
       "      <td>100.0</td>\n",
       "      <td>1.3216</td>\n",
       "      <td>5</td>\n",
       "      <td>403</td>\n",
       "      <td>14.7</td>\n",
       "      <td>26.82</td>\n",
       "      <td>13.4</td>\n",
       "      <td>1</td>\n",
       "      <td>0</td>\n",
       "    </tr>\n",
       "    <tr>\n",
       "      <th>1</th>\n",
       "      <td>1.12658</td>\n",
       "      <td>0.0</td>\n",
       "      <td>19.58</td>\n",
       "      <td>Yes</td>\n",
       "      <td>0.871</td>\n",
       "      <td>5.012</td>\n",
       "      <td>88.0</td>\n",
       "      <td>1.6102</td>\n",
       "      <td>5</td>\n",
       "      <td>403</td>\n",
       "      <td>14.7</td>\n",
       "      <td>12.12</td>\n",
       "      <td>15.3</td>\n",
       "      <td>1</td>\n",
       "      <td>0</td>\n",
       "    </tr>\n",
       "    <tr>\n",
       "      <th>2</th>\n",
       "      <td>1.41385</td>\n",
       "      <td>0.0</td>\n",
       "      <td>19.58</td>\n",
       "      <td>Yes</td>\n",
       "      <td>0.871</td>\n",
       "      <td>6.129</td>\n",
       "      <td>96.0</td>\n",
       "      <td>1.7494</td>\n",
       "      <td>5</td>\n",
       "      <td>403</td>\n",
       "      <td>14.7</td>\n",
       "      <td>15.12</td>\n",
       "      <td>17.0</td>\n",
       "      <td>1</td>\n",
       "      <td>0</td>\n",
       "    </tr>\n",
       "    <tr>\n",
       "      <th>3</th>\n",
       "      <td>3.53501</td>\n",
       "      <td>0.0</td>\n",
       "      <td>19.58</td>\n",
       "      <td>Yes</td>\n",
       "      <td>0.871</td>\n",
       "      <td>6.152</td>\n",
       "      <td>82.6</td>\n",
       "      <td>1.7455</td>\n",
       "      <td>5</td>\n",
       "      <td>403</td>\n",
       "      <td>14.7</td>\n",
       "      <td>15.02</td>\n",
       "      <td>15.6</td>\n",
       "      <td>1</td>\n",
       "      <td>0</td>\n",
       "    </tr>\n",
       "    <tr>\n",
       "      <th>4</th>\n",
       "      <td>1.27346</td>\n",
       "      <td>0.0</td>\n",
       "      <td>19.58</td>\n",
       "      <td>Yes</td>\n",
       "      <td>0.605</td>\n",
       "      <td>6.250</td>\n",
       "      <td>92.6</td>\n",
       "      <td>1.7984</td>\n",
       "      <td>5</td>\n",
       "      <td>403</td>\n",
       "      <td>14.7</td>\n",
       "      <td>5.50</td>\n",
       "      <td>27.0</td>\n",
       "      <td>1</td>\n",
       "      <td>0</td>\n",
       "    </tr>\n",
       "  </tbody>\n",
       "</table>\n",
       "</div>"
      ],
      "text/plain": [
       "      crim   zn  indus river    nox     rm    age     dis  rad  tax  pratio  \\\n",
       "0  3.32105  0.0  19.58   Yes  0.871  5.403  100.0  1.3216    5  403    14.7   \n",
       "1  1.12658  0.0  19.58   Yes  0.871  5.012   88.0  1.6102    5  403    14.7   \n",
       "2  1.41385  0.0  19.58   Yes  0.871  6.129   96.0  1.7494    5  403    14.7   \n",
       "3  3.53501  0.0  19.58   Yes  0.871  6.152   82.6  1.7455    5  403    14.7   \n",
       "4  1.27346  0.0  19.58   Yes  0.605  6.250   92.6  1.7984    5  403    14.7   \n",
       "\n",
       "   lstat  medv  rivercode  Cluster  \n",
       "0  26.82  13.4          1        0  \n",
       "1  12.12  15.3          1        0  \n",
       "2  15.12  17.0          1        0  \n",
       "3  15.02  15.6          1        0  \n",
       "4   5.50  27.0          1        0  "
      ]
     },
     "execution_count": 28,
     "metadata": {},
     "output_type": "execute_result"
    }
   ],
   "source": [
    "datHousingC1.head()"
   ]
  },
  {
   "cell_type": "markdown",
   "metadata": {},
   "source": [
    "9) Create a new data frame called datHousingC2 which contains all of the rows from datHousing in\n",
    "cluster 2. Use summary to verify the results. Check the Cluster column to make sure that it only\n",
    "stores the value of 2"
   ]
  },
  {
   "cell_type": "code",
   "execution_count": 29,
   "metadata": {},
   "outputs": [],
   "source": [
    "datHousingC2 = dat_housing_Clust.loc[dat_housing_Clust['Cluster']==1]"
   ]
  },
  {
   "cell_type": "code",
   "execution_count": 30,
   "metadata": {},
   "outputs": [
    {
     "data": {
      "text/html": [
       "<div>\n",
       "<style scoped>\n",
       "    .dataframe tbody tr th:only-of-type {\n",
       "        vertical-align: middle;\n",
       "    }\n",
       "\n",
       "    .dataframe tbody tr th {\n",
       "        vertical-align: top;\n",
       "    }\n",
       "\n",
       "    .dataframe thead th {\n",
       "        text-align: right;\n",
       "    }\n",
       "</style>\n",
       "<table border=\"1\" class=\"dataframe\">\n",
       "  <thead>\n",
       "    <tr style=\"text-align: right;\">\n",
       "      <th></th>\n",
       "      <th>crim</th>\n",
       "      <th>zn</th>\n",
       "      <th>indus</th>\n",
       "      <th>river</th>\n",
       "      <th>nox</th>\n",
       "      <th>rm</th>\n",
       "      <th>age</th>\n",
       "      <th>dis</th>\n",
       "      <th>rad</th>\n",
       "      <th>tax</th>\n",
       "      <th>pratio</th>\n",
       "      <th>lstat</th>\n",
       "      <th>medv</th>\n",
       "      <th>rivercode</th>\n",
       "      <th>Cluster</th>\n",
       "    </tr>\n",
       "  </thead>\n",
       "  <tbody>\n",
       "    <tr>\n",
       "      <th>27</th>\n",
       "      <td>8.98296</td>\n",
       "      <td>0.0</td>\n",
       "      <td>18.1</td>\n",
       "      <td>Yes</td>\n",
       "      <td>0.770</td>\n",
       "      <td>6.212</td>\n",
       "      <td>97.4</td>\n",
       "      <td>2.1222</td>\n",
       "      <td>24</td>\n",
       "      <td>666</td>\n",
       "      <td>20.2</td>\n",
       "      <td>17.60</td>\n",
       "      <td>17.8</td>\n",
       "      <td>1</td>\n",
       "      <td>1</td>\n",
       "    </tr>\n",
       "    <tr>\n",
       "      <th>28</th>\n",
       "      <td>3.84970</td>\n",
       "      <td>0.0</td>\n",
       "      <td>18.1</td>\n",
       "      <td>Yes</td>\n",
       "      <td>0.770</td>\n",
       "      <td>6.395</td>\n",
       "      <td>91.0</td>\n",
       "      <td>2.5052</td>\n",
       "      <td>24</td>\n",
       "      <td>666</td>\n",
       "      <td>20.2</td>\n",
       "      <td>13.27</td>\n",
       "      <td>21.7</td>\n",
       "      <td>1</td>\n",
       "      <td>1</td>\n",
       "    </tr>\n",
       "    <tr>\n",
       "      <th>29</th>\n",
       "      <td>5.20177</td>\n",
       "      <td>0.0</td>\n",
       "      <td>18.1</td>\n",
       "      <td>Yes</td>\n",
       "      <td>0.770</td>\n",
       "      <td>6.127</td>\n",
       "      <td>83.4</td>\n",
       "      <td>2.7227</td>\n",
       "      <td>24</td>\n",
       "      <td>666</td>\n",
       "      <td>20.2</td>\n",
       "      <td>11.48</td>\n",
       "      <td>22.7</td>\n",
       "      <td>1</td>\n",
       "      <td>1</td>\n",
       "    </tr>\n",
       "    <tr>\n",
       "      <th>30</th>\n",
       "      <td>4.22239</td>\n",
       "      <td>0.0</td>\n",
       "      <td>18.1</td>\n",
       "      <td>Yes</td>\n",
       "      <td>0.770</td>\n",
       "      <td>5.803</td>\n",
       "      <td>89.0</td>\n",
       "      <td>1.9047</td>\n",
       "      <td>24</td>\n",
       "      <td>666</td>\n",
       "      <td>20.2</td>\n",
       "      <td>14.64</td>\n",
       "      <td>16.8</td>\n",
       "      <td>1</td>\n",
       "      <td>1</td>\n",
       "    </tr>\n",
       "    <tr>\n",
       "      <th>31</th>\n",
       "      <td>3.47428</td>\n",
       "      <td>0.0</td>\n",
       "      <td>18.1</td>\n",
       "      <td>Yes</td>\n",
       "      <td>0.718</td>\n",
       "      <td>8.780</td>\n",
       "      <td>82.9</td>\n",
       "      <td>1.9047</td>\n",
       "      <td>24</td>\n",
       "      <td>666</td>\n",
       "      <td>20.2</td>\n",
       "      <td>5.29</td>\n",
       "      <td>21.9</td>\n",
       "      <td>1</td>\n",
       "      <td>1</td>\n",
       "    </tr>\n",
       "  </tbody>\n",
       "</table>\n",
       "</div>"
      ],
      "text/plain": [
       "       crim   zn  indus river    nox     rm   age     dis  rad  tax  pratio  \\\n",
       "27  8.98296  0.0   18.1   Yes  0.770  6.212  97.4  2.1222   24  666    20.2   \n",
       "28  3.84970  0.0   18.1   Yes  0.770  6.395  91.0  2.5052   24  666    20.2   \n",
       "29  5.20177  0.0   18.1   Yes  0.770  6.127  83.4  2.7227   24  666    20.2   \n",
       "30  4.22239  0.0   18.1   Yes  0.770  5.803  89.0  1.9047   24  666    20.2   \n",
       "31  3.47428  0.0   18.1   Yes  0.718  8.780  82.9  1.9047   24  666    20.2   \n",
       "\n",
       "    lstat  medv  rivercode  Cluster  \n",
       "27  17.60  17.8          1        1  \n",
       "28  13.27  21.7          1        1  \n",
       "29  11.48  22.7          1        1  \n",
       "30  14.64  16.8          1        1  \n",
       "31   5.29  21.9          1        1  "
      ]
     },
     "execution_count": 30,
     "metadata": {},
     "output_type": "execute_result"
    }
   ],
   "source": [
    "datHousingC2.head()"
   ]
  },
  {
   "cell_type": "markdown",
   "metadata": {},
   "source": [
    "6) Repeat step 5 with 3 clusters. Do you think that adding another cluster helps to partition the data?\n",
    "Why or why not?"
   ]
  },
  {
   "cell_type": "code",
   "execution_count": 31,
   "metadata": {},
   "outputs": [],
   "source": [
    "# Specify the number of clusters (3) and fit the data dat_rider_feats\n",
    "kmeans = KMeans(n_clusters=3, random_state=0).fit(datHousingSub)"
   ]
  },
  {
   "cell_type": "code",
   "execution_count": 32,
   "metadata": {},
   "outputs": [
    {
     "name": "stdout",
     "output_type": "stream",
     "text": [
      "[[2.44205703e-01 1.73764259e+01 6.70262357e+00 4.84713688e-01\n",
      "  6.47416350e+00 5.61661597e+01 4.83579772e+00 4.32699620e+00\n",
      "  2.75212928e+02 1.78733840e+01 9.55292776e+00 7.60456274e-02]\n",
      " [1.22991617e+01 3.01980663e-14 1.84518248e+01 6.70102190e-01\n",
      "  6.00621168e+00 8.99678832e+01 2.05447007e+00 2.32700730e+01\n",
      "  6.67642336e+02 2.01963504e+01 1.86745255e+01 5.83941606e-02]\n",
      " [7.47468585e-01 1.11320755e+01 1.26841509e+01 5.79169811e-01\n",
      "  6.17423585e+00 7.17132075e+01 3.46240000e+00 4.77358491e+00\n",
      "  4.03018868e+02 1.76500000e+01 1.25624528e+01 6.60377358e-02]]\n"
     ]
    }
   ],
   "source": [
    "centroids = (kmeans.cluster_centers_)\n",
    "print(centroids)"
   ]
  },
  {
   "cell_type": "markdown",
   "metadata": {},
   "source": [
    "Using the characteristics that are divergent we can name these two clusters as High Crime, Medium Crime & Low Crime Clusters.\n",
    "However this is not a good help when partioned as the accuarcy has droped more than the baseline model of ours."
   ]
  },
  {
   "cell_type": "markdown",
   "metadata": {},
   "source": [
    "7) Recreate the model 2 two clusters. We will use this one going forward. Merge the cluster ids from\n",
    "this 2 cluster model into the datHousing data frame using the column name Cluster to store this\n",
    "cluster id. Look at the first few rows of data to verify."
   ]
  },
  {
   "cell_type": "code",
   "execution_count": 33,
   "metadata": {},
   "outputs": [],
   "source": [
    "##Use cluster no =2\n",
    "df_labels = pd.DataFrame(labels)\n",
    "df_labels.rename(columns={0:'Cluster'}, inplace=True)"
   ]
  },
  {
   "cell_type": "code",
   "execution_count": 34,
   "metadata": {},
   "outputs": [
    {
     "data": {
      "text/html": [
       "<div>\n",
       "<style scoped>\n",
       "    .dataframe tbody tr th:only-of-type {\n",
       "        vertical-align: middle;\n",
       "    }\n",
       "\n",
       "    .dataframe tbody tr th {\n",
       "        vertical-align: top;\n",
       "    }\n",
       "\n",
       "    .dataframe thead th {\n",
       "        text-align: right;\n",
       "    }\n",
       "</style>\n",
       "<table border=\"1\" class=\"dataframe\">\n",
       "  <thead>\n",
       "    <tr style=\"text-align: right;\">\n",
       "      <th></th>\n",
       "      <th>Cluster</th>\n",
       "    </tr>\n",
       "  </thead>\n",
       "  <tbody>\n",
       "    <tr>\n",
       "      <th>0</th>\n",
       "      <td>0</td>\n",
       "    </tr>\n",
       "    <tr>\n",
       "      <th>1</th>\n",
       "      <td>0</td>\n",
       "    </tr>\n",
       "    <tr>\n",
       "      <th>2</th>\n",
       "      <td>0</td>\n",
       "    </tr>\n",
       "    <tr>\n",
       "      <th>3</th>\n",
       "      <td>0</td>\n",
       "    </tr>\n",
       "    <tr>\n",
       "      <th>4</th>\n",
       "      <td>0</td>\n",
       "    </tr>\n",
       "  </tbody>\n",
       "</table>\n",
       "</div>"
      ],
      "text/plain": [
       "   Cluster\n",
       "0        0\n",
       "1        0\n",
       "2        0\n",
       "3        0\n",
       "4        0"
      ]
     },
     "execution_count": 34,
     "metadata": {},
     "output_type": "execute_result"
    }
   ],
   "source": [
    "df_labels.head()"
   ]
  },
  {
   "cell_type": "code",
   "execution_count": 35,
   "metadata": {},
   "outputs": [],
   "source": [
    "# Specify the number of clusters (2) and fit the data dat_housing\n",
    "#remove river for question 7\n",
    "datHousing.drop(['river'], inplace = True, axis =1)\n",
    "kmeans = KMeans(n_clusters=2, random_state=0).fit(datHousing)"
   ]
  },
  {
   "cell_type": "code",
   "execution_count": 36,
   "metadata": {},
   "outputs": [],
   "source": [
    "datHousingClust = pd.concat([datHousing, df_labels], axis=1)"
   ]
  },
  {
   "cell_type": "code",
   "execution_count": 37,
   "metadata": {},
   "outputs": [
    {
     "data": {
      "text/plain": [
       "<bound method NDFrame.head of          crim    zn  indus     nox     rm    age     dis  rad  tax  pratio  \\\n",
       "0     3.32105   0.0  19.58  0.8710  5.403  100.0  1.3216    5  403    14.7   \n",
       "1     1.12658   0.0  19.58  0.8710  5.012   88.0  1.6102    5  403    14.7   \n",
       "2     1.41385   0.0  19.58  0.8710  6.129   96.0  1.7494    5  403    14.7   \n",
       "3     3.53501   0.0  19.58  0.8710  6.152   82.6  1.7455    5  403    14.7   \n",
       "4     1.27346   0.0  19.58  0.6050  6.250   92.6  1.7984    5  403    14.7   \n",
       "5     1.83377   0.0  19.58  0.6050  7.802   98.2  2.0407    5  403    14.7   \n",
       "6     1.51902   0.0  19.58  0.6050  8.375   93.9  2.1620    5  403    14.7   \n",
       "7     0.13587   0.0  10.59  0.4890  6.064   59.1  4.2392    4  277    18.6   \n",
       "8     0.43571   0.0  10.59  0.4890  5.344  100.0  3.8750    4  277    18.6   \n",
       "9     0.17446   0.0  10.59  0.4890  5.960   92.1  3.8771    4  277    18.6   \n",
       "10    0.37578   0.0  10.59  0.4890  5.404   88.6  3.6650    4  277    18.6   \n",
       "11    0.21719   0.0  10.59  0.4890  5.807   53.8  3.6526    4  277    18.6   \n",
       "12    0.04560   0.0  13.89  0.5500  5.888   56.0  3.1121    5  276    16.4   \n",
       "13    0.11069   0.0  13.89  0.5500  5.951   93.8  2.8893    5  276    16.4   \n",
       "14    0.11425   0.0  13.89  0.5500  6.373   92.4  3.3633    5  276    16.4   \n",
       "15    0.35809   0.0   6.20  0.5070  6.951   88.5  2.8617    8  307    17.4   \n",
       "16    0.40771   0.0   6.20  0.5070  6.164   91.3  3.0480    8  307    17.4   \n",
       "17    0.62356   0.0   6.20  0.5070  6.879   77.7  3.2721    8  307    17.4   \n",
       "18    0.44791   0.0   6.20  0.5070  6.726   66.5  3.6519    8  307    17.4   \n",
       "19    0.52058   0.0   6.20  0.5070  6.631   76.5  4.1480    8  307    17.4   \n",
       "20    0.09065  20.0   6.96  0.4640  5.920   61.5  3.9175    3  223    18.6   \n",
       "21    0.22188  20.0   6.96  0.4640  7.691   51.8  4.3665    3  223    18.6   \n",
       "22    0.05644  40.0   6.41  0.4470  6.758   32.9  4.0776    4  254    17.6   \n",
       "23    0.10469  40.0   6.41  0.4470  7.267   49.0  4.7872    4  254    17.6   \n",
       "24    0.06127  40.0   6.41  0.4470  6.826   27.6  4.8628    4  254    17.6   \n",
       "25    0.06129  20.0   3.33  0.4429  7.645   49.7  5.2119    5  216    14.9   \n",
       "26    0.01501  90.0   1.21  0.4010  7.923   24.8  5.8850    1  198    13.6   \n",
       "27    8.98296   0.0  18.10  0.7700  6.212   97.4  2.1222   24  666    20.2   \n",
       "28    3.84970   0.0  18.10  0.7700  6.395   91.0  2.5052   24  666    20.2   \n",
       "29    5.20177   0.0  18.10  0.7700  6.127   83.4  2.7227   24  666    20.2   \n",
       "..        ...   ...    ...     ...    ...    ...     ...  ...  ...     ...   \n",
       "476   4.87141   0.0  18.10  0.6140  6.484   93.6  2.3053   24  666    20.2   \n",
       "477  15.02340   0.0  18.10  0.6140  5.304   97.3  2.1007   24  666    20.2   \n",
       "478  10.23300   0.0  18.10  0.6140  6.185   96.7  2.1705   24  666    20.2   \n",
       "479  14.33370   0.0  18.10  0.6140  6.229   88.0  1.9512   24  666    20.2   \n",
       "480   5.82401   0.0  18.10  0.5320  6.242   64.7  3.4242   24  666    20.2   \n",
       "481   5.70818   0.0  18.10  0.5320  6.750   74.9  3.3317   24  666    20.2   \n",
       "482   5.73116   0.0  18.10  0.5320  7.061   77.0  3.4106   24  666    20.2   \n",
       "483   2.81838   0.0  18.10  0.5320  5.762   40.3  4.0983   24  666    20.2   \n",
       "484   2.37857   0.0  18.10  0.5830  5.871   41.9  3.7240   24  666    20.2   \n",
       "485   3.67367   0.0  18.10  0.5830  6.312   51.9  3.9917   24  666    20.2   \n",
       "486   5.69175   0.0  18.10  0.5830  6.114   79.8  3.5459   24  666    20.2   \n",
       "487   4.83567   0.0  18.10  0.5830  5.905   53.2  3.1523   24  666    20.2   \n",
       "488   0.15086   0.0  27.74  0.6090  5.454   92.7  1.8209    4  711    20.1   \n",
       "489   0.18337   0.0  27.74  0.6090  5.414   98.3  1.7554    4  711    20.1   \n",
       "490   0.20746   0.0  27.74  0.6090  5.093   98.0  1.8226    4  711    20.1   \n",
       "491   0.10574   0.0  27.74  0.6090  5.983   98.8  1.8681    4  711    20.1   \n",
       "492   0.11132   0.0  27.74  0.6090  5.983   83.5  2.1099    4  711    20.1   \n",
       "493   0.17331   0.0   9.69  0.5850  5.707   54.0  2.3817    6  391    19.2   \n",
       "494   0.27957   0.0   9.69  0.5850  5.926   42.6  2.3817    6  391    19.2   \n",
       "495   0.17899   0.0   9.69  0.5850  5.670   28.8  2.7986    6  391    19.2   \n",
       "496   0.28960   0.0   9.69  0.5850  5.390   72.9  2.7986    6  391    19.2   \n",
       "497   0.26838   0.0   9.69  0.5850  5.794   70.6  2.8927    6  391    19.2   \n",
       "498   0.23912   0.0   9.69  0.5850  6.019   65.3  2.4091    6  391    19.2   \n",
       "499   0.17783   0.0   9.69  0.5850  5.569   73.5  2.3999    6  391    19.2   \n",
       "500   0.22438   0.0   9.69  0.5850  6.027   79.7  2.4982    6  391    19.2   \n",
       "501   0.06263   0.0  11.93  0.5730  6.593   69.1  2.4786    1  273    21.0   \n",
       "502   0.04527   0.0  11.93  0.5730  6.120   76.7  2.2875    1  273    21.0   \n",
       "503   0.06076   0.0  11.93  0.5730  6.976   91.0  2.1675    1  273    21.0   \n",
       "504   0.10959   0.0  11.93  0.5730  6.794   89.3  2.3889    1  273    21.0   \n",
       "505   0.04741   0.0  11.93  0.5730  6.030   80.8  2.5050    1  273    21.0   \n",
       "\n",
       "     lstat  medv  rivercode  Cluster  \n",
       "0    26.82  13.4          1        0  \n",
       "1    12.12  15.3          1        0  \n",
       "2    15.12  17.0          1        0  \n",
       "3    15.02  15.6          1        0  \n",
       "4     5.50  27.0          1        0  \n",
       "5     1.92  50.0          1        0  \n",
       "6     3.32  50.0          1        0  \n",
       "7    14.66  24.4          1        0  \n",
       "8    23.09  20.0          1        0  \n",
       "9    17.27  21.7          1        0  \n",
       "10   23.98  19.3          1        0  \n",
       "11   16.03  22.4          1        0  \n",
       "12   13.51  23.3          1        0  \n",
       "13   17.92  21.5          1        0  \n",
       "14   10.50  23.0          1        0  \n",
       "15    9.71  26.7          1        0  \n",
       "16   21.46  21.7          1        0  \n",
       "17    9.93  27.5          1        0  \n",
       "18    8.05  29.0          1        0  \n",
       "19    9.54  25.1          1        0  \n",
       "20   13.65  20.7          1        0  \n",
       "21    6.58  35.2          1        0  \n",
       "22    3.53  32.4          1        0  \n",
       "23    6.05  33.2          1        0  \n",
       "24    4.16  33.1          1        0  \n",
       "25    3.01  46.0          1        0  \n",
       "26    3.16  50.0          1        0  \n",
       "27   17.60  17.8          1        1  \n",
       "28   13.27  21.7          1        1  \n",
       "29   11.48  22.7          1        1  \n",
       "..     ...   ...        ...      ...  \n",
       "476  18.68  16.7          0        1  \n",
       "477  24.91  12.0          0        1  \n",
       "478  18.03  14.6          0        1  \n",
       "479  13.11  21.4          0        1  \n",
       "480  10.74  23.0          0        1  \n",
       "481   7.74  23.7          0        1  \n",
       "482   7.01  25.0          0        1  \n",
       "483  10.42  21.8          0        1  \n",
       "484  13.34  20.6          0        1  \n",
       "485  10.58  21.2          0        1  \n",
       "486  14.98  19.1          0        1  \n",
       "487  11.45  20.6          0        1  \n",
       "488  18.06  15.2          0        1  \n",
       "489  23.97   7.0          0        1  \n",
       "490  29.68   8.1          0        1  \n",
       "491  18.07  13.6          0        1  \n",
       "492  13.35  20.1          0        1  \n",
       "493  12.01  21.8          0        0  \n",
       "494  13.59  24.5          0        0  \n",
       "495  17.60  23.1          0        0  \n",
       "496  21.14  19.7          0        0  \n",
       "497  14.10  18.3          0        0  \n",
       "498  12.92  21.2          0        0  \n",
       "499  15.10  17.5          0        0  \n",
       "500  14.33  16.8          0        0  \n",
       "501   9.67  22.4          0        0  \n",
       "502   9.08  20.6          0        0  \n",
       "503   5.64  23.9          0        0  \n",
       "504   6.48  22.0          0        0  \n",
       "505   7.88  11.9          0        0  \n",
       "\n",
       "[506 rows x 14 columns]>"
      ]
     },
     "execution_count": 37,
     "metadata": {},
     "output_type": "execute_result"
    }
   ],
   "source": [
    "datHousingClust.head"
   ]
  },
  {
   "cell_type": "markdown",
   "metadata": {},
   "source": [
    "10) Create a regression model predicting MEDV and the same predictors as the baseline model in step 3,\n",
    "using the data frame from cluster 1. Is this model significant? What are the R\n",
    "2\n",
    "value and MSE? Is\n",
    "this higher or lower than the baseline model?"
   ]
  },
  {
   "cell_type": "code",
   "execution_count": 38,
   "metadata": {},
   "outputs": [],
   "source": [
    "numerical_features=['crim','zn','indus','nox','rm','age','dis','rad','tax','pratio','lstat','medv','rivercode']"
   ]
  },
  {
   "cell_type": "code",
   "execution_count": 39,
   "metadata": {},
   "outputs": [],
   "source": [
    "X = datHousingC1.drop(['river','medv'], axis=1)\n",
    "y = datHousingC1['medv']"
   ]
  },
  {
   "cell_type": "code",
   "execution_count": 40,
   "metadata": {},
   "outputs": [],
   "source": [
    "from sklearn.model_selection import train_test_split\n",
    "X_train, X_test, y_train, y_test = train_test_split(X, y, test_size=0.1, random_state=123)"
   ]
  },
  {
   "cell_type": "code",
   "execution_count": 41,
   "metadata": {},
   "outputs": [],
   "source": [
    "# 1. Import the Estimator class you will use\n",
    "from sklearn.linear_model import LinearRegression\n",
    "# 2. Create an instance of the class\n",
    "ml_reg = LinearRegression()\n",
    "# 3. Use the fit method of the instance\n",
    "ml_reg.fit(X_train, y_train)\n",
    "# 4. Use the predict method to get the predictions\n",
    "y_pred_ml_reg = ml_reg.predict(X_train)"
   ]
  },
  {
   "cell_type": "code",
   "execution_count": 42,
   "metadata": {},
   "outputs": [
    {
     "data": {
      "text/plain": [
       "rm           9.22\n",
       "crim         0.83\n",
       "rivercode    0.72\n",
       "rad          0.20\n",
       "indus        0.03\n",
       "zn           0.02\n",
       "Cluster      0.00\n",
       "tax         -0.01\n",
       "age         -0.05\n",
       "lstat       -0.07\n",
       "pratio      -0.62\n",
       "dis         -0.95\n",
       "nox         -8.93\n",
       "dtype: float64"
      ]
     },
     "execution_count": 42,
     "metadata": {},
     "output_type": "execute_result"
    }
   ],
   "source": [
    "pd.Series(ml_reg.coef_, index=X_train.columns).sort_values(ascending=False).round(2)"
   ]
  },
  {
   "cell_type": "code",
   "execution_count": 43,
   "metadata": {},
   "outputs": [
    {
     "name": "stdout",
     "output_type": "stream",
     "text": [
      "Mean squared error: 9.79\n"
     ]
    }
   ],
   "source": [
    "from sklearn.metrics import mean_squared_error, r2_score\n",
    "# The mean squared error\n",
    "print(\"Mean squared error: %.2f\"\n",
    "      % mean_squared_error(y_train, y_pred_ml_reg))"
   ]
  },
  {
   "cell_type": "code",
   "execution_count": 44,
   "metadata": {},
   "outputs": [
    {
     "name": "stdout",
     "output_type": "stream",
     "text": [
      "Variance score: 0.86\n"
     ]
    }
   ],
   "source": [
    "# Explained variance score: 1 is perfect prediction\n",
    "print('Variance score: %.2f' % r2_score(y_train, y_pred_ml_reg))\n"
   ]
  },
  {
   "cell_type": "code",
   "execution_count": 45,
   "metadata": {},
   "outputs": [
    {
     "data": {
      "text/plain": [
       "-7.730626181917188"
      ]
     },
     "execution_count": 45,
     "metadata": {},
     "output_type": "execute_result"
    }
   ],
   "source": [
    "ml_reg.intercept_\n"
   ]
  },
  {
   "cell_type": "markdown",
   "metadata": {},
   "source": [
    "11) Create a regression model predicting MEDV and the same predictors as the baseline model in step 3,\n",
    "using the data frame from cluster 2. What are the R\n",
    "2\n",
    "value and MSE? Is this higher or lower than the\n",
    "baseline model?"
   ]
  },
  {
   "cell_type": "code",
   "execution_count": 46,
   "metadata": {},
   "outputs": [],
   "source": [
    "numerical_features=['crim','zn','indus','nox','rm','age','dis','rad','tax','pratio','lstat','medv','rivercode']"
   ]
  },
  {
   "cell_type": "code",
   "execution_count": 47,
   "metadata": {},
   "outputs": [],
   "source": [
    "X = datHousingC2.drop(['river','medv'], axis=1)\n",
    "y = datHousingC2['medv']"
   ]
  },
  {
   "cell_type": "code",
   "execution_count": 48,
   "metadata": {},
   "outputs": [],
   "source": [
    "from sklearn.model_selection import train_test_split\n",
    "X_train, X_test, y_train, y_test = train_test_split(X, y, test_size=0.1, random_state=123)"
   ]
  },
  {
   "cell_type": "code",
   "execution_count": 49,
   "metadata": {},
   "outputs": [],
   "source": [
    "# 1. Import the Estimator class you will use\n",
    "from sklearn.linear_model import LinearRegression\n",
    "# 2. Create an instance of the class\n",
    "ml_reg = LinearRegression()\n",
    "# 3. Use the fit method of the instance\n",
    "ml_reg.fit(X_train, y_train)\n",
    "# 4. Use the predict method to get the predictions\n",
    "y_pred_ml_reg = ml_reg.predict(X_train)"
   ]
  },
  {
   "cell_type": "code",
   "execution_count": 50,
   "metadata": {},
   "outputs": [
    {
     "data": {
      "text/plain": [
       "indus        1.074336e+12\n",
       "pratio       9.739156e+11\n",
       "rivercode    1.119000e+01\n",
       "age          3.000000e-02\n",
       "Cluster      0.000000e+00\n",
       "crim        -1.500000e-01\n",
       "lstat       -8.300000e-01\n",
       "rm          -1.440000e+00\n",
       "dis         -3.670000e+00\n",
       "nox         -3.717000e+01\n",
       "zn          -9.347430e+08\n",
       "tax         -8.510337e+11\n",
       "rad         -1.401865e+12\n",
       "dtype: float64"
      ]
     },
     "execution_count": 50,
     "metadata": {},
     "output_type": "execute_result"
    }
   ],
   "source": [
    "pd.Series(ml_reg.coef_, index=X_train.columns).sort_values(ascending=False).round(2)"
   ]
  },
  {
   "cell_type": "code",
   "execution_count": 51,
   "metadata": {},
   "outputs": [
    {
     "name": "stdout",
     "output_type": "stream",
     "text": [
      "Mean squared error: 23.41\n"
     ]
    }
   ],
   "source": [
    "from sklearn.metrics import mean_squared_error, r2_score\n",
    "# The mean squared error\n",
    "print(\"Mean squared error: %.2f\"\n",
    "      % mean_squared_error(y_train, y_pred_ml_reg))"
   ]
  },
  {
   "cell_type": "code",
   "execution_count": 52,
   "metadata": {},
   "outputs": [
    {
     "name": "stdout",
     "output_type": "stream",
     "text": [
      "Variance score: 0.70\n"
     ]
    }
   ],
   "source": [
    "# Explained variance score: 1 is perfect prediction\n",
    "print('Variance score: %.2f' % r2_score(y_train, y_pred_ml_reg))\n"
   ]
  },
  {
   "cell_type": "code",
   "execution_count": 53,
   "metadata": {},
   "outputs": [
    {
     "data": {
      "text/plain": [
       "561314606003719.7"
      ]
     },
     "execution_count": 53,
     "metadata": {},
     "output_type": "execute_result"
    }
   ],
   "source": [
    "ml_reg.intercept_\n"
   ]
  },
  {
   "cell_type": "markdown",
   "metadata": {},
   "source": [
    "12) Summarize your findings. Do you think that clustering might improve your ability to predict the\n",
    "MEDV value? If so, under what contexts or constraints?"
   ]
  },
  {
   "cell_type": "markdown",
   "metadata": {},
   "source": [
    "Ans) We noticed, Clustering improved prediction based on regression model in the two cluster, we feel like clustering might improve the ability as one of the cluster has the mean squared error significantly lower compared to the baseline model and also its variance score is way higher at .86 compared to 0.76 of baseline.\n",
    "However we noticed that cluster two has been minimal change in the mean squared error and its variance score. "
   ]
  }
 ],
 "metadata": {
  "kernelspec": {
   "display_name": "Python 3",
   "language": "python",
   "name": "python3"
  },
  "language_info": {
   "codemirror_mode": {
    "name": "ipython",
    "version": 3
   },
   "file_extension": ".py",
   "mimetype": "text/x-python",
   "name": "python",
   "nbconvert_exporter": "python",
   "pygments_lexer": "ipython3",
   "version": "3.7.3"
  }
 },
 "nbformat": 4,
 "nbformat_minor": 2
}
