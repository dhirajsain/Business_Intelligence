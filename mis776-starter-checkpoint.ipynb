{
 "cells": [
  {
   "cell_type": "code",
   "execution_count": null,
   "metadata": {
    "_cell_guid": "b1076dfc-b9ad-4769-8c92-a6c4dae69d19",
    "_uuid": "8f2839f25d086af736a60e9eeb907d3b93b6e0e5"
   },
   "outputs": [],
   "source": [
    "# This Python 3 environment comes with many helpful analytics libraries installed\n",
    "# It is defined by the kaggle/python docker image: https://github.com/kaggle/docker-python\n",
    "# For example, here's several helpful packages to load in \n",
    "\n",
    "import numpy as np # linear algebra\n",
    "import pandas as pd # data processing, CSV file I/O (e.g. pd.read_csv)\n",
    "\n",
    "# Input data files are available in the \"../input/\" directory.\n",
    "# For example, running this (by clicking run or pressing Shift+Enter) will list all files under the input directory\n",
    "\n",
    "import os\n",
    "for dirname, _, filenames in os.walk('/kaggle/input'):\n",
    "    for filename in filenames:\n",
    "        print(os.path.join(dirname, filename))\n",
    "\n",
    "# Any results you write to the current directory are saved as output."
   ]
  },
  {
   "cell_type": "code",
   "execution_count": null,
   "metadata": {
    "_cell_guid": "79c7e3d0-c299-4dcb-8224-4455121ee9b0",
    "_uuid": "d629ff2d2480ee46fbb7e2d37f6b5fab8052498a"
   },
   "outputs": [],
   "source": [
    "#bigquery-public-data.github_repos.[TABLENAME]"
   ]
  },
  {
   "cell_type": "code",
   "execution_count": null,
   "metadata": {},
   "outputs": [],
   "source": [
    "# Get Started \n",
    "# source: https://www.kaggle.com/mrisdal/safely-analyzing-github-projects-popular-licenses/data\n",
    "import pandas as pd\n",
    "# https://github.com/SohierDane/BigQuery_Helper\n",
    "from bq_helper import BigQueryHelper\n",
    "\n",
    "# \n",
    "bq_assistant = BigQueryHelper(\"bigquery-public-data\", \"ncaa_basketball\")\n",
    "\n",
    "\n",
    "# list the tables\n",
    "bq_assistant.list_tables()\n",
    "\n",
    "\n",
    "# list table schema\n",
    "bq_assistant.table_schema(\"mbb_teams\")\n",
    "\n",
    "# list first few rows\n",
    "bq_assistant.head(\"mbb_teams\", num_rows=10)\n",
    "\n",
    "\n",
    "# write a query\n",
    "QUERY = \"\"\"\n",
    "select market, venue_city, venue_capacity\n",
    "FROM `bigquery-public-data.ncaa_basketball.mbb_teams`\n",
    "\"\"\"\n",
    "# estimate query size ()\n",
    "bq_assistant.estimate_query_size(QUERY) # in gb\n",
    "df = bq_assistant.query_to_pandas_safe(QUERY) # will not execute query over size 1 GB\n",
    "df.head()"
   ]
  },
  {
   "cell_type": "code",
   "execution_count": null,
   "metadata": {},
   "outputs": [],
   "source": [
    "# eric cell\n",
    "\n",
    "#bq_assistant.list_tables()\n",
    "QUERY = \"\"\"\n",
    "select season\n",
    "FROM `bigquery-public-data.ncaa_basketball.mbb_historical_teams_seasons`\n",
    "\"\"\"\n",
    "\n",
    "\n",
    "df = bq_assistant.query_to_pandas_safe(QUERY) # will not execute query over size 1 GB\n",
    "df.head()"
   ]
  },
  {
   "cell_type": "code",
   "execution_count": null,
   "metadata": {},
   "outputs": [],
   "source": [
    "# Dhi's cell\n",
    "\n",
    "# list the tables\n",
    "bq_assistant.list_tables()\n"
   ]
  },
  {
   "cell_type": "code",
   "execution_count": null,
   "metadata": {},
   "outputs": [],
   "source": [
    "bq_assistant.head(\"mbb_teams\", num_rows=10)\n"
   ]
  },
  {
   "cell_type": "code",
   "execution_count": null,
   "metadata": {},
   "outputs": [],
   "source": [
    "print ('More strings')\n",
    "print (3)"
   ]
  },
  {
   "cell_type": "code",
   "execution_count": null,
   "metadata": {},
   "outputs": [],
   "source": [
    "a = 1\n",
    "b = 3\n",
    "c = 4"
   ]
  },
  {
   "cell_type": "code",
   "execution_count": null,
   "metadata": {},
   "outputs": [],
   "source": [
    "print (a)\n",
    "print (b)\n",
    "print (c)"
   ]
  },
  {
   "cell_type": "code",
   "execution_count": null,
   "metadata": {},
   "outputs": [],
   "source": [
    "a*a"
   ]
  },
  {
   "cell_type": "code",
   "execution_count": null,
   "metadata": {},
   "outputs": [],
   "source": [
    "a*b*c"
   ]
  },
  {
   "cell_type": "code",
   "execution_count": null,
   "metadata": {},
   "outputs": [],
   "source": [
    "QUERY = \"\"\"\n",
    "select mascot_name\n",
    "FROM `bigquery-public-data.ncaa_basketball.mascots`\n",
    "\"\"\"\n",
    "df = bq_assistant.query_to_pandas_safe(QUERY) # will not execute query over size 1 GB\n",
    "df.head()"
   ]
  },
  {
   "cell_type": "code",
   "execution_count": null,
   "metadata": {},
   "outputs": [],
   "source": [
    "bq_assistant.table_schema(\"mbb_teams\")\n"
   ]
  },
  {
   "cell_type": "markdown",
   "metadata": {},
   "source": [
    "MBB_Games_SR\n",
    "\n",
    "Y = number of wins "
   ]
  },
  {
   "cell_type": "code",
   "execution_count": null,
   "metadata": {},
   "outputs": [],
   "source": [
    "# home court advantage \n",
    "QUERY_AWAY = \"\"\" select count(*) \n",
    "from `bigquery-public-data.ncaa_basketball.mbb_games_sr`\n",
    "where neutral_site = False and h_points_game < a_points_game\"\"\"\n",
    "#3391\n",
    "\n",
    "QUERY_HOME = \"\"\"\n",
    "select count(*)\n",
    "from `bigquery-public-data.ncaa_basketball.mbb_games_sr`\n",
    "where h_points_game > a_points_game and neutral_site = False\n",
    "\"\"\"\n",
    "\n",
    "\n",
    "# player info\n",
    "QUERY = \"\"\"\n",
    "select player_id,full_name,class, sum(points) as seas_points, sum(minutes_int64) as seas_mins\n",
    "from `bigquery-public-data.ncaa_basketball.mbb_players_games_sr`\n",
    "where season = 2016 and team_market = 'UNLV'\n",
    "group by player_id,full_name,class\n",
    "\"\"\"\n",
    "\n",
    "\n",
    "# venue info\n",
    "select market, name, id, venue_id, venue_city, venue_state, venue_name, venue_capacity\n",
    "from `bigquery-public-data.ncaa_basketball.mbb_teams`\n",
    "\n",
    "# venue attendance by game\n",
    "select game_id,season, neutral_site,venue_id,venue_name,attendance,home_team, opp_name,win\n",
    "from `bigquery-public-data.ncaa_basketball.mbb_teams_games_sr`\n",
    "where season = 2016\n",
    "limit 100\n",
    "\n",
    "\n",
    "select venue_id,market,avg(attendance) Average_Attendance,count(win) total_wins\n",
    "from `bigquery-public-data.ncaa_basketball.mbb_teams_games_sr`\n",
    "where season = 2016 and home_team = True and neutral_site = False\n",
    "group by venue_id,market\n",
    "order by Average_Attendance desc\n"
   ]
  },
  {
   "cell_type": "code",
   "execution_count": null,
   "metadata": {},
   "outputs": [],
   "source": [
    "QUERY_AWAY = \"\"\" select count(*) \n",
    "from `bigquery-public-data.ncaa_basketball.mbb_games_sr`\n",
    "where neutral_site = False and h_points_game < a_points_game\"\"\""
   ]
  },
  {
   "cell_type": "markdown",
   "metadata": {},
   "source": [
    "## Trying a different alternative\n"
   ]
  },
  {
   "cell_type": "code",
   "execution_count": null,
   "metadata": {},
   "outputs": [],
   "source": []
  }
 ],
 "metadata": {
  "kernelspec": {
   "display_name": "Python 3",
   "language": "python",
   "name": "python3"
  },
  "language_info": {
   "codemirror_mode": {
    "name": "ipython",
    "version": 3
   },
   "file_extension": ".py",
   "mimetype": "text/x-python",
   "name": "python",
   "nbconvert_exporter": "python",
   "pygments_lexer": "ipython3",
   "version": "3.7.3"
  }
 },
 "nbformat": 4,
 "nbformat_minor": 1
}
