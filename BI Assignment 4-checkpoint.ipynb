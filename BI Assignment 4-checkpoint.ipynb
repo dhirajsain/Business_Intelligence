{
 "cells": [
  {
   "cell_type": "code",
   "execution_count": 2,
   "metadata": {},
   "outputs": [],
   "source": [
    "import numpy as np\n",
    "import pandas as pd\n",
    "import matplotlib.pyplot as plt\n",
    "import seaborn as sns\n",
    "import os\n",
    "%matplotlib inline"
   ]
  },
  {
   "cell_type": "code",
   "execution_count": 3,
   "metadata": {},
   "outputs": [
    {
     "data": {
      "text/plain": [
       "'/Users/samiksha/Downloads'"
      ]
     },
     "execution_count": 3,
     "metadata": {},
     "output_type": "execute_result"
    }
   ],
   "source": [
    "pwd"
   ]
  },
  {
   "cell_type": "markdown",
   "metadata": {},
   "source": [
    "### 1. Load the file into a dataframe"
   ]
  },
  {
   "cell_type": "code",
   "execution_count": 4,
   "metadata": {},
   "outputs": [],
   "source": [
    "DATA_DIR = '/Users/samiksha/Downloads'\n",
    "FILE_NAME = 'Housing.csv'\n",
    "data_path = os.path.join(DATA_DIR, FILE_NAME)\n",
    "datHousing = pd.read_csv(data_path)"
   ]
  },
  {
   "cell_type": "markdown",
   "metadata": {},
   "source": [
    "### Inspect the top rows"
   ]
  },
  {
   "cell_type": "code",
   "execution_count": 5,
   "metadata": {},
   "outputs": [
    {
     "data": {
      "text/html": [
       "<div>\n",
       "<style scoped>\n",
       "    .dataframe tbody tr th:only-of-type {\n",
       "        vertical-align: middle;\n",
       "    }\n",
       "\n",
       "    .dataframe tbody tr th {\n",
       "        vertical-align: top;\n",
       "    }\n",
       "\n",
       "    .dataframe thead th {\n",
       "        text-align: right;\n",
       "    }\n",
       "</style>\n",
       "<table border=\"1\" class=\"dataframe\">\n",
       "  <thead>\n",
       "    <tr style=\"text-align: right;\">\n",
       "      <th></th>\n",
       "      <th>CRIM</th>\n",
       "      <th>ZN</th>\n",
       "      <th>INDUS</th>\n",
       "      <th>RIVER</th>\n",
       "      <th>NOX</th>\n",
       "      <th>RM</th>\n",
       "      <th>AGE</th>\n",
       "      <th>DIS</th>\n",
       "      <th>RAD</th>\n",
       "      <th>TAX</th>\n",
       "      <th>PRATIO</th>\n",
       "      <th>LSTAT</th>\n",
       "      <th>MEDV</th>\n",
       "    </tr>\n",
       "  </thead>\n",
       "  <tbody>\n",
       "    <tr>\n",
       "      <th>0</th>\n",
       "      <td>3.32105</td>\n",
       "      <td>0.0</td>\n",
       "      <td>19.58</td>\n",
       "      <td>Yes</td>\n",
       "      <td>0.871</td>\n",
       "      <td>5.403</td>\n",
       "      <td>100.0</td>\n",
       "      <td>1.3216</td>\n",
       "      <td>5</td>\n",
       "      <td>403</td>\n",
       "      <td>14.7</td>\n",
       "      <td>26.82</td>\n",
       "      <td>13.4</td>\n",
       "    </tr>\n",
       "    <tr>\n",
       "      <th>1</th>\n",
       "      <td>1.12658</td>\n",
       "      <td>0.0</td>\n",
       "      <td>19.58</td>\n",
       "      <td>Yes</td>\n",
       "      <td>0.871</td>\n",
       "      <td>5.012</td>\n",
       "      <td>88.0</td>\n",
       "      <td>1.6102</td>\n",
       "      <td>5</td>\n",
       "      <td>403</td>\n",
       "      <td>14.7</td>\n",
       "      <td>12.12</td>\n",
       "      <td>15.3</td>\n",
       "    </tr>\n",
       "    <tr>\n",
       "      <th>2</th>\n",
       "      <td>1.41385</td>\n",
       "      <td>0.0</td>\n",
       "      <td>19.58</td>\n",
       "      <td>Yes</td>\n",
       "      <td>0.871</td>\n",
       "      <td>6.129</td>\n",
       "      <td>96.0</td>\n",
       "      <td>1.7494</td>\n",
       "      <td>5</td>\n",
       "      <td>403</td>\n",
       "      <td>14.7</td>\n",
       "      <td>15.12</td>\n",
       "      <td>17.0</td>\n",
       "    </tr>\n",
       "    <tr>\n",
       "      <th>3</th>\n",
       "      <td>3.53501</td>\n",
       "      <td>0.0</td>\n",
       "      <td>19.58</td>\n",
       "      <td>Yes</td>\n",
       "      <td>0.871</td>\n",
       "      <td>6.152</td>\n",
       "      <td>82.6</td>\n",
       "      <td>1.7455</td>\n",
       "      <td>5</td>\n",
       "      <td>403</td>\n",
       "      <td>14.7</td>\n",
       "      <td>15.02</td>\n",
       "      <td>15.6</td>\n",
       "    </tr>\n",
       "    <tr>\n",
       "      <th>4</th>\n",
       "      <td>1.27346</td>\n",
       "      <td>0.0</td>\n",
       "      <td>19.58</td>\n",
       "      <td>Yes</td>\n",
       "      <td>0.605</td>\n",
       "      <td>6.250</td>\n",
       "      <td>92.6</td>\n",
       "      <td>1.7984</td>\n",
       "      <td>5</td>\n",
       "      <td>403</td>\n",
       "      <td>14.7</td>\n",
       "      <td>5.50</td>\n",
       "      <td>27.0</td>\n",
       "    </tr>\n",
       "  </tbody>\n",
       "</table>\n",
       "</div>"
      ],
      "text/plain": [
       "      CRIM   ZN  INDUS RIVER    NOX     RM    AGE     DIS  RAD  TAX  PRATIO  \\\n",
       "0  3.32105  0.0  19.58   Yes  0.871  5.403  100.0  1.3216    5  403    14.7   \n",
       "1  1.12658  0.0  19.58   Yes  0.871  5.012   88.0  1.6102    5  403    14.7   \n",
       "2  1.41385  0.0  19.58   Yes  0.871  6.129   96.0  1.7494    5  403    14.7   \n",
       "3  3.53501  0.0  19.58   Yes  0.871  6.152   82.6  1.7455    5  403    14.7   \n",
       "4  1.27346  0.0  19.58   Yes  0.605  6.250   92.6  1.7984    5  403    14.7   \n",
       "\n",
       "   LSTAT  MEDV  \n",
       "0  26.82  13.4  \n",
       "1  12.12  15.3  \n",
       "2  15.12  17.0  \n",
       "3  15.02  15.6  \n",
       "4   5.50  27.0  "
      ]
     },
     "execution_count": 5,
     "metadata": {},
     "output_type": "execute_result"
    }
   ],
   "source": [
    "datHousing.head()"
   ]
  },
  {
   "cell_type": "markdown",
   "metadata": {},
   "source": [
    "### Convert Headers to Lower Case"
   ]
  },
  {
   "cell_type": "code",
   "execution_count": 6,
   "metadata": {},
   "outputs": [],
   "source": [
    "datHousing.rename(columns=lambda x:x.lower(),inplace=True)"
   ]
  },
  {
   "cell_type": "markdown",
   "metadata": {},
   "source": [
    "## 2. Creating Dummy Variable"
   ]
  },
  {
   "cell_type": "code",
   "execution_count": 7,
   "metadata": {},
   "outputs": [],
   "source": [
    "# Create a dummy variable for river\n",
    "datHousing['rivercode']=datHousing.river.map({'No':0, 'Yes':1})\n",
    "#datHousing.drop(['river'], inplace = True, axis = 1)"
   ]
  },
  {
   "cell_type": "code",
   "execution_count": 8,
   "metadata": {
    "scrolled": true
   },
   "outputs": [
    {
     "data": {
      "text/html": [
       "<div>\n",
       "<style scoped>\n",
       "    .dataframe tbody tr th:only-of-type {\n",
       "        vertical-align: middle;\n",
       "    }\n",
       "\n",
       "    .dataframe tbody tr th {\n",
       "        vertical-align: top;\n",
       "    }\n",
       "\n",
       "    .dataframe thead th {\n",
       "        text-align: right;\n",
       "    }\n",
       "</style>\n",
       "<table border=\"1\" class=\"dataframe\">\n",
       "  <thead>\n",
       "    <tr style=\"text-align: right;\">\n",
       "      <th></th>\n",
       "      <th>crim</th>\n",
       "      <th>zn</th>\n",
       "      <th>indus</th>\n",
       "      <th>river</th>\n",
       "      <th>nox</th>\n",
       "      <th>rm</th>\n",
       "      <th>age</th>\n",
       "      <th>dis</th>\n",
       "      <th>rad</th>\n",
       "      <th>tax</th>\n",
       "      <th>pratio</th>\n",
       "      <th>lstat</th>\n",
       "      <th>medv</th>\n",
       "      <th>rivercode</th>\n",
       "    </tr>\n",
       "  </thead>\n",
       "  <tbody>\n",
       "    <tr>\n",
       "      <th>0</th>\n",
       "      <td>3.32105</td>\n",
       "      <td>0.0</td>\n",
       "      <td>19.58</td>\n",
       "      <td>Yes</td>\n",
       "      <td>0.871</td>\n",
       "      <td>5.403</td>\n",
       "      <td>100.0</td>\n",
       "      <td>1.3216</td>\n",
       "      <td>5</td>\n",
       "      <td>403</td>\n",
       "      <td>14.7</td>\n",
       "      <td>26.82</td>\n",
       "      <td>13.4</td>\n",
       "      <td>1</td>\n",
       "    </tr>\n",
       "    <tr>\n",
       "      <th>1</th>\n",
       "      <td>1.12658</td>\n",
       "      <td>0.0</td>\n",
       "      <td>19.58</td>\n",
       "      <td>Yes</td>\n",
       "      <td>0.871</td>\n",
       "      <td>5.012</td>\n",
       "      <td>88.0</td>\n",
       "      <td>1.6102</td>\n",
       "      <td>5</td>\n",
       "      <td>403</td>\n",
       "      <td>14.7</td>\n",
       "      <td>12.12</td>\n",
       "      <td>15.3</td>\n",
       "      <td>1</td>\n",
       "    </tr>\n",
       "    <tr>\n",
       "      <th>2</th>\n",
       "      <td>1.41385</td>\n",
       "      <td>0.0</td>\n",
       "      <td>19.58</td>\n",
       "      <td>Yes</td>\n",
       "      <td>0.871</td>\n",
       "      <td>6.129</td>\n",
       "      <td>96.0</td>\n",
       "      <td>1.7494</td>\n",
       "      <td>5</td>\n",
       "      <td>403</td>\n",
       "      <td>14.7</td>\n",
       "      <td>15.12</td>\n",
       "      <td>17.0</td>\n",
       "      <td>1</td>\n",
       "    </tr>\n",
       "    <tr>\n",
       "      <th>3</th>\n",
       "      <td>3.53501</td>\n",
       "      <td>0.0</td>\n",
       "      <td>19.58</td>\n",
       "      <td>Yes</td>\n",
       "      <td>0.871</td>\n",
       "      <td>6.152</td>\n",
       "      <td>82.6</td>\n",
       "      <td>1.7455</td>\n",
       "      <td>5</td>\n",
       "      <td>403</td>\n",
       "      <td>14.7</td>\n",
       "      <td>15.02</td>\n",
       "      <td>15.6</td>\n",
       "      <td>1</td>\n",
       "    </tr>\n",
       "    <tr>\n",
       "      <th>4</th>\n",
       "      <td>1.27346</td>\n",
       "      <td>0.0</td>\n",
       "      <td>19.58</td>\n",
       "      <td>Yes</td>\n",
       "      <td>0.605</td>\n",
       "      <td>6.250</td>\n",
       "      <td>92.6</td>\n",
       "      <td>1.7984</td>\n",
       "      <td>5</td>\n",
       "      <td>403</td>\n",
       "      <td>14.7</td>\n",
       "      <td>5.50</td>\n",
       "      <td>27.0</td>\n",
       "      <td>1</td>\n",
       "    </tr>\n",
       "  </tbody>\n",
       "</table>\n",
       "</div>"
      ],
      "text/plain": [
       "      crim   zn  indus river    nox     rm    age     dis  rad  tax  pratio  \\\n",
       "0  3.32105  0.0  19.58   Yes  0.871  5.403  100.0  1.3216    5  403    14.7   \n",
       "1  1.12658  0.0  19.58   Yes  0.871  5.012   88.0  1.6102    5  403    14.7   \n",
       "2  1.41385  0.0  19.58   Yes  0.871  6.129   96.0  1.7494    5  403    14.7   \n",
       "3  3.53501  0.0  19.58   Yes  0.871  6.152   82.6  1.7455    5  403    14.7   \n",
       "4  1.27346  0.0  19.58   Yes  0.605  6.250   92.6  1.7984    5  403    14.7   \n",
       "\n",
       "   lstat  medv  rivercode  \n",
       "0  26.82  13.4          1  \n",
       "1  12.12  15.3          1  \n",
       "2  15.12  17.0          1  \n",
       "3  15.02  15.6          1  \n",
       "4   5.50  27.0          1  "
      ]
     },
     "execution_count": 8,
     "metadata": {},
     "output_type": "execute_result"
    }
   ],
   "source": [
    "# Check if the variable is added in the table\n",
    "datHousing.head()"
   ]
  },
  {
   "cell_type": "code",
   "execution_count": 9,
   "metadata": {},
   "outputs": [
    {
     "data": {
      "text/plain": [
       "0.0691699604743083"
      ]
     },
     "execution_count": 9,
     "metadata": {},
     "output_type": "execute_result"
    }
   ],
   "source": [
    "# Check mean for rivercode\n",
    "datHousing['rivercode'].mean()"
   ]
  },
  {
   "cell_type": "markdown",
   "metadata": {},
   "source": [
    "## 3. Train-test split"
   ]
  },
  {
   "cell_type": "code",
   "execution_count": 10,
   "metadata": {},
   "outputs": [],
   "source": [
    "X = datHousing.drop(['river','medv'], axis=1)\n",
    "y = datHousing['medv']"
   ]
  },
  {
   "cell_type": "code",
   "execution_count": 11,
   "metadata": {},
   "outputs": [],
   "source": [
    "from sklearn.model_selection import train_test_split\n",
    "X_train, X_test, y_train, y_test = train_test_split(X, y, test_size=0.2, random_state=123)"
   ]
  },
  {
   "cell_type": "markdown",
   "metadata": {},
   "source": [
    "### Standarization: centering and scaling"
   ]
  },
  {
   "cell_type": "code",
   "execution_count": 12,
   "metadata": {},
   "outputs": [],
   "source": [
    "numerical_features = ['crim', 'zn', 'indus', 'nox','rm','age','dis','rad','tax','pratio','lstat','rivercode']"
   ]
  },
  {
   "cell_type": "code",
   "execution_count": 13,
   "metadata": {},
   "outputs": [
    {
     "name": "stderr",
     "output_type": "stream",
     "text": [
      "/Users/samiksha/anaconda3/lib/python3.7/site-packages/pandas/core/indexing.py:543: SettingWithCopyWarning: \n",
      "A value is trying to be set on a copy of a slice from a DataFrame.\n",
      "Try using .loc[row_indexer,col_indexer] = value instead\n",
      "\n",
      "See the caveats in the documentation: http://pandas.pydata.org/pandas-docs/stable/indexing.html#indexing-view-versus-copy\n",
      "  self.obj[item] = s\n"
     ]
    }
   ],
   "source": [
    "# 1. Import the class you will use\n",
    "from sklearn.preprocessing import StandardScaler\n",
    "# 2. Create an instance of the class\n",
    "scaler = StandardScaler()\n",
    "# 3. Use the fit method of the instance\n",
    "scaler.fit(X_train[numerical_features])\n",
    "# 4. Use the transform method to perform the transformation\n",
    "X_train.loc[:, numerical_features] = scaler.transform(X_train[numerical_features])"
   ]
  },
  {
   "cell_type": "code",
   "execution_count": 14,
   "metadata": {},
   "outputs": [
    {
     "data": {
      "text/html": [
       "<div>\n",
       "<style scoped>\n",
       "    .dataframe tbody tr th:only-of-type {\n",
       "        vertical-align: middle;\n",
       "    }\n",
       "\n",
       "    .dataframe tbody tr th {\n",
       "        vertical-align: top;\n",
       "    }\n",
       "\n",
       "    .dataframe thead th {\n",
       "        text-align: right;\n",
       "    }\n",
       "</style>\n",
       "<table border=\"1\" class=\"dataframe\">\n",
       "  <thead>\n",
       "    <tr style=\"text-align: right;\">\n",
       "      <th></th>\n",
       "      <th>crim</th>\n",
       "      <th>zn</th>\n",
       "      <th>indus</th>\n",
       "      <th>nox</th>\n",
       "      <th>rm</th>\n",
       "      <th>age</th>\n",
       "      <th>dis</th>\n",
       "      <th>rad</th>\n",
       "      <th>tax</th>\n",
       "      <th>pratio</th>\n",
       "      <th>lstat</th>\n",
       "      <th>rivercode</th>\n",
       "    </tr>\n",
       "  </thead>\n",
       "  <tbody>\n",
       "    <tr>\n",
       "      <th>203</th>\n",
       "      <td>-0.392853</td>\n",
       "      <td>-0.498130</td>\n",
       "      <td>-1.020670</td>\n",
       "      <td>-0.351216</td>\n",
       "      <td>0.359798</td>\n",
       "      <td>-1.218603</td>\n",
       "      <td>-0.359967</td>\n",
       "      <td>-0.513760</td>\n",
       "      <td>-0.667895</td>\n",
       "      <td>-0.913236</td>\n",
       "      <td>-1.016351</td>\n",
       "      <td>-0.262265</td>\n",
       "    </tr>\n",
       "    <tr>\n",
       "      <th>441</th>\n",
       "      <td>0.707342</td>\n",
       "      <td>-0.498130</td>\n",
       "      <td>1.041113</td>\n",
       "      <td>1.617750</td>\n",
       "      <td>0.160365</td>\n",
       "      <td>1.052647</td>\n",
       "      <td>-0.854604</td>\n",
       "      <td>1.696790</td>\n",
       "      <td>1.550259</td>\n",
       "      <td>0.799700</td>\n",
       "      <td>0.931489</td>\n",
       "      <td>-0.262265</td>\n",
       "    </tr>\n",
       "    <tr>\n",
       "      <th>172</th>\n",
       "      <td>-0.360307</td>\n",
       "      <td>-0.498130</td>\n",
       "      <td>1.597280</td>\n",
       "      <td>0.624706</td>\n",
       "      <td>0.228742</td>\n",
       "      <td>1.095167</td>\n",
       "      <td>-0.954394</td>\n",
       "      <td>-0.630104</td>\n",
       "      <td>0.177402</td>\n",
       "      <td>1.275515</td>\n",
       "      <td>0.254755</td>\n",
       "      <td>-0.262265</td>\n",
       "    </tr>\n",
       "    <tr>\n",
       "      <th>95</th>\n",
       "      <td>-0.383434</td>\n",
       "      <td>0.560606</td>\n",
       "      <td>-0.862184</td>\n",
       "      <td>-0.839178</td>\n",
       "      <td>-0.786944</td>\n",
       "      <td>-0.045773</td>\n",
       "      <td>1.537147</td>\n",
       "      <td>-0.164726</td>\n",
       "      <td>-0.739835</td>\n",
       "      <td>0.561792</td>\n",
       "      <td>0.057089</td>\n",
       "      <td>-0.262265</td>\n",
       "    </tr>\n",
       "    <tr>\n",
       "      <th>54</th>\n",
       "      <td>-0.317761</td>\n",
       "      <td>-0.498130</td>\n",
       "      <td>-0.420478</td>\n",
       "      <td>-0.111516</td>\n",
       "      <td>-0.806888</td>\n",
       "      <td>0.071155</td>\n",
       "      <td>-0.052117</td>\n",
       "      <td>-0.630104</td>\n",
       "      <td>-0.601950</td>\n",
       "      <td>1.180352</td>\n",
       "      <td>-0.199603</td>\n",
       "      <td>-0.262265</td>\n",
       "    </tr>\n",
       "  </tbody>\n",
       "</table>\n",
       "</div>"
      ],
      "text/plain": [
       "         crim        zn     indus       nox        rm       age       dis  \\\n",
       "203 -0.392853 -0.498130 -1.020670 -0.351216  0.359798 -1.218603 -0.359967   \n",
       "441  0.707342 -0.498130  1.041113  1.617750  0.160365  1.052647 -0.854604   \n",
       "172 -0.360307 -0.498130  1.597280  0.624706  0.228742  1.095167 -0.954394   \n",
       "95  -0.383434  0.560606 -0.862184 -0.839178 -0.786944 -0.045773  1.537147   \n",
       "54  -0.317761 -0.498130 -0.420478 -0.111516 -0.806888  0.071155 -0.052117   \n",
       "\n",
       "          rad       tax    pratio     lstat  rivercode  \n",
       "203 -0.513760 -0.667895 -0.913236 -1.016351  -0.262265  \n",
       "441  1.696790  1.550259  0.799700  0.931489  -0.262265  \n",
       "172 -0.630104  0.177402  1.275515  0.254755  -0.262265  \n",
       "95  -0.164726 -0.739835  0.561792  0.057089  -0.262265  \n",
       "54  -0.630104 -0.601950  1.180352 -0.199603  -0.262265  "
      ]
     },
     "execution_count": 14,
     "metadata": {},
     "output_type": "execute_result"
    }
   ],
   "source": [
    "X_train[numerical_features].head()"
   ]
  },
  {
   "cell_type": "code",
   "execution_count": 15,
   "metadata": {},
   "outputs": [
    {
     "data": {
      "text/html": [
       "<div>\n",
       "<style scoped>\n",
       "    .dataframe tbody tr th:only-of-type {\n",
       "        vertical-align: middle;\n",
       "    }\n",
       "\n",
       "    .dataframe tbody tr th {\n",
       "        vertical-align: top;\n",
       "    }\n",
       "\n",
       "    .dataframe thead th {\n",
       "        text-align: right;\n",
       "    }\n",
       "</style>\n",
       "<table border=\"1\" class=\"dataframe\">\n",
       "  <thead>\n",
       "    <tr style=\"text-align: right;\">\n",
       "      <th></th>\n",
       "      <th>crim</th>\n",
       "      <th>zn</th>\n",
       "      <th>indus</th>\n",
       "      <th>nox</th>\n",
       "      <th>rm</th>\n",
       "      <th>age</th>\n",
       "      <th>dis</th>\n",
       "      <th>rad</th>\n",
       "      <th>tax</th>\n",
       "      <th>pratio</th>\n",
       "      <th>lstat</th>\n",
       "      <th>rivercode</th>\n",
       "    </tr>\n",
       "  </thead>\n",
       "  <tbody>\n",
       "    <tr>\n",
       "      <th>count</th>\n",
       "      <td>404.000</td>\n",
       "      <td>404.000</td>\n",
       "      <td>404.000</td>\n",
       "      <td>404.000</td>\n",
       "      <td>404.000</td>\n",
       "      <td>404.000</td>\n",
       "      <td>404.000</td>\n",
       "      <td>404.000</td>\n",
       "      <td>404.000</td>\n",
       "      <td>404.000</td>\n",
       "      <td>404.000</td>\n",
       "      <td>404.000</td>\n",
       "    </tr>\n",
       "    <tr>\n",
       "      <th>mean</th>\n",
       "      <td>0.000</td>\n",
       "      <td>0.000</td>\n",
       "      <td>-0.000</td>\n",
       "      <td>-0.000</td>\n",
       "      <td>-0.000</td>\n",
       "      <td>0.000</td>\n",
       "      <td>-0.000</td>\n",
       "      <td>-0.000</td>\n",
       "      <td>-0.000</td>\n",
       "      <td>0.000</td>\n",
       "      <td>-0.000</td>\n",
       "      <td>0.000</td>\n",
       "    </tr>\n",
       "    <tr>\n",
       "      <th>std</th>\n",
       "      <td>1.001</td>\n",
       "      <td>1.001</td>\n",
       "      <td>1.001</td>\n",
       "      <td>1.001</td>\n",
       "      <td>1.001</td>\n",
       "      <td>1.001</td>\n",
       "      <td>1.001</td>\n",
       "      <td>1.001</td>\n",
       "      <td>1.001</td>\n",
       "      <td>1.001</td>\n",
       "      <td>1.001</td>\n",
       "      <td>1.001</td>\n",
       "    </tr>\n",
       "    <tr>\n",
       "      <th>min</th>\n",
       "      <td>-0.400</td>\n",
       "      <td>-0.498</td>\n",
       "      <td>-1.547</td>\n",
       "      <td>-1.421</td>\n",
       "      <td>-3.892</td>\n",
       "      <td>-2.289</td>\n",
       "      <td>-1.268</td>\n",
       "      <td>-0.979</td>\n",
       "      <td>-1.321</td>\n",
       "      <td>-2.816</td>\n",
       "      <td>-1.354</td>\n",
       "      <td>-0.262</td>\n",
       "    </tr>\n",
       "    <tr>\n",
       "      <th>25%</th>\n",
       "      <td>-0.392</td>\n",
       "      <td>-0.498</td>\n",
       "      <td>-0.862</td>\n",
       "      <td>-0.882</td>\n",
       "      <td>-0.578</td>\n",
       "      <td>-0.878</td>\n",
       "      <td>-0.827</td>\n",
       "      <td>-0.630</td>\n",
       "      <td>-0.758</td>\n",
       "      <td>-0.533</td>\n",
       "      <td>-0.818</td>\n",
       "      <td>-0.262</td>\n",
       "    </tr>\n",
       "    <tr>\n",
       "      <th>50%</th>\n",
       "      <td>-0.375</td>\n",
       "      <td>-0.498</td>\n",
       "      <td>-0.359</td>\n",
       "      <td>-0.231</td>\n",
       "      <td>-0.094</td>\n",
       "      <td>0.284</td>\n",
       "      <td>-0.250</td>\n",
       "      <td>-0.514</td>\n",
       "      <td>-0.464</td>\n",
       "      <td>0.253</td>\n",
       "      <td>-0.190</td>\n",
       "      <td>-0.262</td>\n",
       "    </tr>\n",
       "    <tr>\n",
       "      <th>75%</th>\n",
       "      <td>-0.003</td>\n",
       "      <td>0.248</td>\n",
       "      <td>1.041</td>\n",
       "      <td>0.625</td>\n",
       "      <td>0.487</td>\n",
       "      <td>0.920</td>\n",
       "      <td>0.652</td>\n",
       "      <td>1.697</td>\n",
       "      <td>1.550</td>\n",
       "      <td>0.800</td>\n",
       "      <td>0.601</td>\n",
       "      <td>-0.262</td>\n",
       "    </tr>\n",
       "    <tr>\n",
       "      <th>max</th>\n",
       "      <td>9.736</td>\n",
       "      <td>3.737</td>\n",
       "      <td>2.456</td>\n",
       "      <td>2.739</td>\n",
       "      <td>3.542</td>\n",
       "      <td>1.152</td>\n",
       "      <td>3.809</td>\n",
       "      <td>1.697</td>\n",
       "      <td>1.820</td>\n",
       "      <td>1.656</td>\n",
       "      <td>3.328</td>\n",
       "      <td>3.813</td>\n",
       "    </tr>\n",
       "  </tbody>\n",
       "</table>\n",
       "</div>"
      ],
      "text/plain": [
       "          crim       zn    indus      nox       rm      age      dis      rad  \\\n",
       "count  404.000  404.000  404.000  404.000  404.000  404.000  404.000  404.000   \n",
       "mean     0.000    0.000   -0.000   -0.000   -0.000    0.000   -0.000   -0.000   \n",
       "std      1.001    1.001    1.001    1.001    1.001    1.001    1.001    1.001   \n",
       "min     -0.400   -0.498   -1.547   -1.421   -3.892   -2.289   -1.268   -0.979   \n",
       "25%     -0.392   -0.498   -0.862   -0.882   -0.578   -0.878   -0.827   -0.630   \n",
       "50%     -0.375   -0.498   -0.359   -0.231   -0.094    0.284   -0.250   -0.514   \n",
       "75%     -0.003    0.248    1.041    0.625    0.487    0.920    0.652    1.697   \n",
       "max      9.736    3.737    2.456    2.739    3.542    1.152    3.809    1.697   \n",
       "\n",
       "           tax   pratio    lstat  rivercode  \n",
       "count  404.000  404.000  404.000    404.000  \n",
       "mean    -0.000    0.000   -0.000      0.000  \n",
       "std      1.001    1.001    1.001      1.001  \n",
       "min     -1.321   -2.816   -1.354     -0.262  \n",
       "25%     -0.758   -0.533   -0.818     -0.262  \n",
       "50%     -0.464    0.253   -0.190     -0.262  \n",
       "75%      1.550    0.800    0.601     -0.262  \n",
       "max      1.820    1.656    3.328      3.813  "
      ]
     },
     "execution_count": 15,
     "metadata": {},
     "output_type": "execute_result"
    }
   ],
   "source": [
    "X_train[numerical_features].describe().round(3)"
   ]
  },
  {
   "cell_type": "markdown",
   "metadata": {},
   "source": [
    "### Multiple Linear Regression"
   ]
  },
  {
   "cell_type": "code",
   "execution_count": 16,
   "metadata": {},
   "outputs": [],
   "source": [
    "# 1. Import the Estimator class you will use\n",
    "from sklearn.linear_model import LinearRegression\n",
    "# 2. Create an instance of the class\n",
    "ml_reg = LinearRegression()\n",
    "# 3. Use the fit method of the instance\n",
    "ml_reg.fit(X_train, y_train)\n",
    "# 4. Use the predict method to get the predictions\n",
    "y_pred_ml_reg = ml_reg.predict(X_train)"
   ]
  },
  {
   "cell_type": "code",
   "execution_count": 17,
   "metadata": {},
   "outputs": [
    {
     "data": {
      "text/plain": [
       "rm           2.72\n",
       "rad          2.23\n",
       "zn           1.04\n",
       "rivercode    0.33\n",
       "age          0.00\n",
       "indus       -0.02\n",
       "crim        -0.92\n",
       "pratio      -1.92\n",
       "nox         -1.97\n",
       "tax         -2.30\n",
       "dis         -2.94\n",
       "lstat       -3.58\n",
       "dtype: float64"
      ]
     },
     "execution_count": 17,
     "metadata": {},
     "output_type": "execute_result"
    }
   ],
   "source": [
    "pd.Series(ml_reg.coef_, index=X_train.columns).sort_values(ascending=False).round(2)"
   ]
  },
  {
   "cell_type": "code",
   "execution_count": 18,
   "metadata": {},
   "outputs": [
    {
     "data": {
      "text/plain": [
       "LinearRegression(copy_X=True, fit_intercept=True, n_jobs=None, normalize=False)"
      ]
     },
     "execution_count": 18,
     "metadata": {},
     "output_type": "execute_result"
    }
   ],
   "source": [
    "# re-training the model with all features again.\n",
    "ml_reg.fit(X_train, y_train)"
   ]
  },
  {
   "cell_type": "code",
   "execution_count": 19,
   "metadata": {},
   "outputs": [
    {
     "name": "stdout",
     "output_type": "stream",
     "text": [
      "0.00M\n"
     ]
    }
   ],
   "source": [
    "from sklearn.metrics import mean_squared_error, r2_score\n",
    "mse_ml_reg = mean_squared_error(y_true=y_train, y_pred=y_pred_ml_reg)\n",
    "print('{:0.2f}M'.format(mse_ml_reg/1e6))"
   ]
  },
  {
   "cell_type": "code",
   "execution_count": 20,
   "metadata": {},
   "outputs": [
    {
     "name": "stdout",
     "output_type": "stream",
     "text": [
      "variance score: 0.76\n"
     ]
    }
   ],
   "source": [
    "print('variance score: %.2f' % r2_score (y_train, y_pred_ml_reg))"
   ]
  },
  {
   "cell_type": "code",
   "execution_count": 21,
   "metadata": {},
   "outputs": [
    {
     "name": "stdout",
     "output_type": "stream",
     "text": [
      "mean squared error: 19.33\n"
     ]
    }
   ],
   "source": [
    "from sklearn.metrics import mean_squared_error, r2_score\n",
    "print (('mean squared error: %.2f') % mean_squared_error(y_train, y_pred_ml_reg)) "
   ]
  },
  {
   "cell_type": "markdown",
   "metadata": {},
   "source": [
    "## 4. Create new dataset without target variable"
   ]
  },
  {
   "cell_type": "code",
   "execution_count": 22,
   "metadata": {},
   "outputs": [],
   "source": [
    "datHousingSub = datHousing.drop(['river','medv'], axis=1)"
   ]
  },
  {
   "cell_type": "code",
   "execution_count": 23,
   "metadata": {},
   "outputs": [
    {
     "data": {
      "text/html": [
       "<div>\n",
       "<style scoped>\n",
       "    .dataframe tbody tr th:only-of-type {\n",
       "        vertical-align: middle;\n",
       "    }\n",
       "\n",
       "    .dataframe tbody tr th {\n",
       "        vertical-align: top;\n",
       "    }\n",
       "\n",
       "    .dataframe thead th {\n",
       "        text-align: right;\n",
       "    }\n",
       "</style>\n",
       "<table border=\"1\" class=\"dataframe\">\n",
       "  <thead>\n",
       "    <tr style=\"text-align: right;\">\n",
       "      <th></th>\n",
       "      <th>crim</th>\n",
       "      <th>zn</th>\n",
       "      <th>indus</th>\n",
       "      <th>nox</th>\n",
       "      <th>rm</th>\n",
       "      <th>age</th>\n",
       "      <th>dis</th>\n",
       "      <th>rad</th>\n",
       "      <th>tax</th>\n",
       "      <th>pratio</th>\n",
       "      <th>lstat</th>\n",
       "      <th>rivercode</th>\n",
       "    </tr>\n",
       "  </thead>\n",
       "  <tbody>\n",
       "    <tr>\n",
       "      <th>0</th>\n",
       "      <td>3.32105</td>\n",
       "      <td>0.0</td>\n",
       "      <td>19.58</td>\n",
       "      <td>0.871</td>\n",
       "      <td>5.403</td>\n",
       "      <td>100.0</td>\n",
       "      <td>1.3216</td>\n",
       "      <td>5</td>\n",
       "      <td>403</td>\n",
       "      <td>14.7</td>\n",
       "      <td>26.82</td>\n",
       "      <td>1</td>\n",
       "    </tr>\n",
       "    <tr>\n",
       "      <th>1</th>\n",
       "      <td>1.12658</td>\n",
       "      <td>0.0</td>\n",
       "      <td>19.58</td>\n",
       "      <td>0.871</td>\n",
       "      <td>5.012</td>\n",
       "      <td>88.0</td>\n",
       "      <td>1.6102</td>\n",
       "      <td>5</td>\n",
       "      <td>403</td>\n",
       "      <td>14.7</td>\n",
       "      <td>12.12</td>\n",
       "      <td>1</td>\n",
       "    </tr>\n",
       "    <tr>\n",
       "      <th>2</th>\n",
       "      <td>1.41385</td>\n",
       "      <td>0.0</td>\n",
       "      <td>19.58</td>\n",
       "      <td>0.871</td>\n",
       "      <td>6.129</td>\n",
       "      <td>96.0</td>\n",
       "      <td>1.7494</td>\n",
       "      <td>5</td>\n",
       "      <td>403</td>\n",
       "      <td>14.7</td>\n",
       "      <td>15.12</td>\n",
       "      <td>1</td>\n",
       "    </tr>\n",
       "    <tr>\n",
       "      <th>3</th>\n",
       "      <td>3.53501</td>\n",
       "      <td>0.0</td>\n",
       "      <td>19.58</td>\n",
       "      <td>0.871</td>\n",
       "      <td>6.152</td>\n",
       "      <td>82.6</td>\n",
       "      <td>1.7455</td>\n",
       "      <td>5</td>\n",
       "      <td>403</td>\n",
       "      <td>14.7</td>\n",
       "      <td>15.02</td>\n",
       "      <td>1</td>\n",
       "    </tr>\n",
       "    <tr>\n",
       "      <th>4</th>\n",
       "      <td>1.27346</td>\n",
       "      <td>0.0</td>\n",
       "      <td>19.58</td>\n",
       "      <td>0.605</td>\n",
       "      <td>6.250</td>\n",
       "      <td>92.6</td>\n",
       "      <td>1.7984</td>\n",
       "      <td>5</td>\n",
       "      <td>403</td>\n",
       "      <td>14.7</td>\n",
       "      <td>5.50</td>\n",
       "      <td>1</td>\n",
       "    </tr>\n",
       "  </tbody>\n",
       "</table>\n",
       "</div>"
      ],
      "text/plain": [
       "      crim   zn  indus    nox     rm    age     dis  rad  tax  pratio  lstat  \\\n",
       "0  3.32105  0.0  19.58  0.871  5.403  100.0  1.3216    5  403    14.7  26.82   \n",
       "1  1.12658  0.0  19.58  0.871  5.012   88.0  1.6102    5  403    14.7  12.12   \n",
       "2  1.41385  0.0  19.58  0.871  6.129   96.0  1.7494    5  403    14.7  15.12   \n",
       "3  3.53501  0.0  19.58  0.871  6.152   82.6  1.7455    5  403    14.7  15.02   \n",
       "4  1.27346  0.0  19.58  0.605  6.250   92.6  1.7984    5  403    14.7   5.50   \n",
       "\n",
       "   rivercode  \n",
       "0          1  \n",
       "1          1  \n",
       "2          1  \n",
       "3          1  \n",
       "4          1  "
      ]
     },
     "execution_count": 23,
     "metadata": {},
     "output_type": "execute_result"
    }
   ],
   "source": [
    "datHousingSub.head()"
   ]
  },
  {
   "cell_type": "markdown",
   "metadata": {},
   "source": [
    "## 5. 7. Fit 2 cluster model"
   ]
  },
  {
   "cell_type": "code",
   "execution_count": 24,
   "metadata": {},
   "outputs": [],
   "source": [
    "# Using scikit-learn to perform K-Means clustering\n",
    "from sklearn.cluster import KMeans\n",
    "    \n",
    "# Specify the number of clusters (2) and fit the data datHousingSub\n",
    "kmeans = KMeans(n_clusters=2, random_state=0).fit(datHousingSub)\n",
    "# 7 instead of datHousingSub write datHousing"
   ]
  },
  {
   "cell_type": "code",
   "execution_count": 25,
   "metadata": {},
   "outputs": [
    {
     "name": "stdout",
     "output_type": "stream",
     "text": [
      "[[3.88774444e-01 1.55826558e+01 8.42089431e+00 5.11847425e-01\n",
      "  6.38800542e+00 6.06322493e+01 4.44127154e+00 4.45528455e+00\n",
      "  3.11926829e+02 1.78092141e+01 1.04174526e+01 7.31707317e-02]\n",
      " [1.22991617e+01 3.01980663e-14 1.84518248e+01 6.70102190e-01\n",
      "  6.00621168e+00 8.99678832e+01 2.05447007e+00 2.32700730e+01\n",
      "  6.67642336e+02 2.01963504e+01 1.86745255e+01 5.83941606e-02]]\n"
     ]
    }
   ],
   "source": [
    "centroids = (kmeans.cluster_centers_)\n",
    "print(centroids)"
   ]
  },
  {
   "cell_type": "markdown",
   "metadata": {},
   "source": [
    "* I would name the first cluster as 'not so safe to live' because of high non-retail business and high crime rate in the town it is not a safe place to live. It also has the lowest proportion of residential land.\n",
    "* The second cluster is 'safe to live' as there is low non-retail business and low crime rate in the town. And it also has the highest proportion of residential lands."
   ]
  },
  {
   "cell_type": "code",
   "execution_count": 26,
   "metadata": {},
   "outputs": [
    {
     "name": "stdout",
     "output_type": "stream",
     "text": [
      "[0 0 0 0 0 0 0 0 0 0 0 0 0 0 0 0 0 0 0 0 0 0 0 0 0 0 0 1 1 1 1 1 1 1 1 0 0\n",
      " 0 0 0 0 0 0 0 0 0 0 0 0 0 0 0 0 0 0 0 0 0 0 0 0 0 0 0 0 0 0 0 0 0 0 0 0 0\n",
      " 0 0 0 0 0 0 0 0 0 0 0 0 0 0 0 0 0 0 0 0 0 0 0 0 0 0 0 0 0 0 0 0 0 0 0 0 0\n",
      " 0 0 0 0 0 0 0 0 0 0 0 0 0 0 0 0 0 0 0 0 0 0 0 0 0 0 0 0 0 0 0 0 0 0 0 0 0\n",
      " 0 0 0 0 0 0 0 0 0 0 0 0 0 0 0 0 0 0 0 0 0 0 0 0 0 0 0 0 0 0 0 0 0 0 0 0 0\n",
      " 0 0 0 0 0 0 0 0 0 0 0 0 0 0 0 0 0 0 0 0 0 0 0 0 0 0 0 0 0 0 0 0 0 0 0 0 0\n",
      " 0 0 0 0 0 0 0 0 0 0 0 0 0 0 0 0 0 0 0 0 0 0 0 0 0 0 0 0 0 0 0 0 0 0 0 0 0\n",
      " 0 0 0 0 0 0 0 0 0 0 0 0 0 0 0 0 0 0 0 0 0 0 0 0 0 0 0 0 0 0 0 0 0 0 0 0 0\n",
      " 0 0 0 0 0 0 0 0 0 0 0 0 0 0 0 0 0 0 0 0 0 0 0 0 0 0 0 0 0 0 0 0 0 0 0 0 0\n",
      " 0 0 0 0 0 0 0 0 0 0 0 0 0 0 0 0 0 0 0 0 0 0 0 0 0 0 0 0 0 0 0 1 1 1 1 1 1\n",
      " 1 1 1 1 1 1 1 1 1 1 1 1 1 1 1 1 1 1 1 1 1 1 1 1 1 1 1 1 1 1 1 1 1 1 1 1 1\n",
      " 1 1 1 1 1 1 1 1 1 1 1 1 1 1 1 1 1 1 1 1 1 1 1 1 1 1 1 1 1 1 1 1 1 1 1 1 1\n",
      " 1 1 1 1 1 1 1 1 1 1 1 1 1 1 1 1 1 1 1 1 1 1 1 1 1 1 1 1 1 1 1 1 1 1 1 1 1\n",
      " 1 1 1 1 1 1 1 1 1 1 1 1 0 0 0 0 0 0 0 0 0 0 0 0 0]\n"
     ]
    }
   ],
   "source": [
    "labels = (kmeans.labels_)\n",
    "print(labels)"
   ]
  },
  {
   "cell_type": "code",
   "execution_count": 27,
   "metadata": {},
   "outputs": [
    {
     "name": "stdout",
     "output_type": "stream",
     "text": [
      "0.7717962604192585\n"
     ]
    }
   ],
   "source": [
    "# Calculate silhouette_score\n",
    "from sklearn.metrics import silhouette_score\n",
    "\n",
    "print(silhouette_score(datHousingSub, kmeans.labels_))"
   ]
  },
  {
   "cell_type": "markdown",
   "metadata": {},
   "source": [
    "## 6. 3 cluster model"
   ]
  },
  {
   "cell_type": "code",
   "execution_count": 28,
   "metadata": {},
   "outputs": [],
   "source": [
    "# Using scikit-learn to perform K-Means clustering\n",
    "from sklearn.cluster import KMeans\n",
    "    \n",
    "# Specify the number of clusters (3) and fit the data datHousingSub\n",
    "kmeans = KMeans(n_clusters=3, random_state=0).fit(datHousingSub)"
   ]
  },
  {
   "cell_type": "code",
   "execution_count": 29,
   "metadata": {},
   "outputs": [
    {
     "name": "stdout",
     "output_type": "stream",
     "text": [
      "[[2.44205703e-01 1.73764259e+01 6.70262357e+00 4.84713688e-01\n",
      "  6.47416350e+00 5.61661597e+01 4.83579772e+00 4.32699620e+00\n",
      "  2.75212928e+02 1.78733840e+01 9.55292776e+00 7.60456274e-02]\n",
      " [1.22991617e+01 3.01980663e-14 1.84518248e+01 6.70102190e-01\n",
      "  6.00621168e+00 8.99678832e+01 2.05447007e+00 2.32700730e+01\n",
      "  6.67642336e+02 2.01963504e+01 1.86745255e+01 5.83941606e-02]\n",
      " [7.47468585e-01 1.11320755e+01 1.26841509e+01 5.79169811e-01\n",
      "  6.17423585e+00 7.17132075e+01 3.46240000e+00 4.77358491e+00\n",
      "  4.03018868e+02 1.76500000e+01 1.25624528e+01 6.60377358e-02]]\n"
     ]
    }
   ],
   "source": [
    "centroids = (kmeans.cluster_centers_)\n",
    "print(centroids)"
   ]
  },
  {
   "cell_type": "code",
   "execution_count": 30,
   "metadata": {},
   "outputs": [
    {
     "name": "stdout",
     "output_type": "stream",
     "text": [
      "[2 2 2 2 2 2 2 0 0 0 0 0 0 0 0 0 0 0 0 0 0 0 0 0 0 0 0 1 1 1 1 1 1 1 1 0 0\n",
      " 0 0 0 0 0 0 0 0 0 0 0 0 0 0 0 0 0 0 0 0 0 0 0 0 0 0 0 0 0 0 0 0 0 0 0 0 0\n",
      " 0 0 0 0 0 0 0 0 0 0 0 0 0 0 0 2 0 0 0 0 0 0 0 0 0 0 0 0 2 2 2 0 0 0 0 2 2\n",
      " 2 2 2 2 0 0 0 0 0 0 0 0 0 0 0 0 0 0 0 0 0 0 0 0 2 2 2 2 2 2 2 2 2 2 2 2 2\n",
      " 2 2 2 2 2 2 2 0 0 0 0 0 0 0 2 2 2 2 2 2 2 2 2 2 2 2 2 2 2 2 2 2 2 2 2 2 2\n",
      " 2 2 2 2 2 2 2 2 2 2 2 2 2 2 2 0 0 0 0 0 0 0 0 0 0 0 0 0 0 0 2 2 2 2 2 2 0\n",
      " 0 0 0 0 0 2 2 2 0 0 0 0 0 0 0 0 0 0 0 0 0 0 0 0 0 0 0 0 0 0 0 0 0 0 0 0 0\n",
      " 0 0 0 0 0 0 0 0 0 0 0 0 0 0 0 0 0 0 0 0 0 0 0 0 0 0 0 0 0 0 0 0 0 0 0 0 0\n",
      " 0 0 0 0 0 0 0 0 0 0 2 2 2 0 0 0 0 0 0 0 0 0 0 0 0 0 0 0 0 0 0 0 0 0 0 0 0\n",
      " 0 0 0 2 2 2 0 0 0 0 0 0 0 0 0 0 0 2 2 2 2 2 2 0 0 0 2 2 0 0 0 1 1 1 1 1 1\n",
      " 1 1 1 1 1 1 1 1 1 1 1 1 1 1 1 1 1 1 1 1 1 1 1 1 1 1 1 1 1 1 1 1 1 1 1 1 1\n",
      " 1 1 1 1 1 1 1 1 1 1 1 1 1 1 1 1 1 1 1 1 1 1 1 1 1 1 1 1 1 1 1 1 1 1 1 1 1\n",
      " 1 1 1 1 1 1 1 1 1 1 1 1 1 1 1 1 1 1 1 1 1 1 1 1 1 1 1 1 1 1 1 1 1 1 1 1 1\n",
      " 1 1 1 1 1 1 1 1 1 1 1 1 2 2 2 2 2 2 2 2 0 0 0 0 0]\n"
     ]
    }
   ],
   "source": [
    "labels = (kmeans.labels_)\n",
    "print(labels)"
   ]
  },
  {
   "cell_type": "code",
   "execution_count": 31,
   "metadata": {},
   "outputs": [
    {
     "name": "stdout",
     "output_type": "stream",
     "text": [
      "0.6217529916045139\n"
     ]
    }
   ],
   "source": [
    "# Calculate silhouette_score\n",
    "from sklearn.metrics import silhouette_score\n",
    "\n",
    "print(silhouette_score(datHousingSub, kmeans.labels_))"
   ]
  },
  {
   "cell_type": "markdown",
   "metadata": {},
   "source": [
    "* I dont think having the third cluster is helpful because, the silhouette score is less compared to the two cluster model which means that three cluster model is not any better but worse than the two cluster model."
   ]
  },
  {
   "cell_type": "markdown",
   "metadata": {},
   "source": [
    "## 7. Convert list of labels to a data frame"
   ]
  },
  {
   "cell_type": "code",
   "execution_count": 1,
   "metadata": {},
   "outputs": [
    {
     "ename": "NameError",
     "evalue": "name 'datHousing' is not defined",
     "output_type": "error",
     "traceback": [
      "\u001b[1;31m---------------------------------------------------------------------------\u001b[0m",
      "\u001b[1;31mNameError\u001b[0m                                 Traceback (most recent call last)",
      "\u001b[1;32m<ipython-input-1-29db6b38178d>\u001b[0m in \u001b[0;36m<module>\u001b[1;34m\u001b[0m\n\u001b[1;32m----> 1\u001b[1;33m \u001b[0mdatHousing\u001b[0m\u001b[1;33m.\u001b[0m\u001b[0mdrop\u001b[0m\u001b[1;33m(\u001b[0m\u001b[1;33m[\u001b[0m\u001b[1;34m'river'\u001b[0m\u001b[1;33m]\u001b[0m\u001b[1;33m,\u001b[0m \u001b[0minplace\u001b[0m \u001b[1;33m=\u001b[0m \u001b[1;32mTrue\u001b[0m\u001b[1;33m,\u001b[0m \u001b[0maxis\u001b[0m \u001b[1;33m=\u001b[0m \u001b[1;36m1\u001b[0m\u001b[1;33m)\u001b[0m\u001b[1;33m\u001b[0m\u001b[1;33m\u001b[0m\u001b[0m\n\u001b[0m\u001b[0;32m      2\u001b[0m \u001b[1;31m# Using scikit-learn to perform K-Means clustering\u001b[0m\u001b[1;33m\u001b[0m\u001b[1;33m\u001b[0m\u001b[1;33m\u001b[0m\u001b[0m\n\u001b[0;32m      3\u001b[0m \u001b[1;32mfrom\u001b[0m \u001b[0msklearn\u001b[0m\u001b[1;33m.\u001b[0m\u001b[0mcluster\u001b[0m \u001b[1;32mimport\u001b[0m \u001b[0mKMeans\u001b[0m\u001b[1;33m\u001b[0m\u001b[1;33m\u001b[0m\u001b[0m\n\u001b[0;32m      4\u001b[0m \u001b[1;33m\u001b[0m\u001b[0m\n\u001b[0;32m      5\u001b[0m \u001b[1;31m# Specify the number of clusters (2) and fit the data datHousing\u001b[0m\u001b[1;33m\u001b[0m\u001b[1;33m\u001b[0m\u001b[1;33m\u001b[0m\u001b[0m\n",
      "\u001b[1;31mNameError\u001b[0m: name 'datHousing' is not defined"
     ]
    }
   ],
   "source": [
    "datHousing.drop(['river'], inplace = True, axis = 1)\n",
    "# Using scikit-learn to perform K-Means clustering\n",
    "from sklearn.cluster import KMeans\n",
    "    \n",
    "# Specify the number of clusters (2) and fit the data datHousing\n",
    "kmeans = KMeans(n_clusters=2, random_state=0).fit(datHousing)"
   ]
  },
  {
   "cell_type": "code",
   "execution_count": 2,
   "metadata": {},
   "outputs": [
    {
     "ename": "NameError",
     "evalue": "name 'kmeans' is not defined",
     "output_type": "error",
     "traceback": [
      "\u001b[1;31m---------------------------------------------------------------------------\u001b[0m",
      "\u001b[1;31mNameError\u001b[0m                                 Traceback (most recent call last)",
      "\u001b[1;32m<ipython-input-2-15bda6213254>\u001b[0m in \u001b[0;36m<module>\u001b[1;34m\u001b[0m\n\u001b[1;32m----> 1\u001b[1;33m \u001b[0mcentroids\u001b[0m \u001b[1;33m=\u001b[0m \u001b[1;33m(\u001b[0m\u001b[0mkmeans\u001b[0m\u001b[1;33m.\u001b[0m\u001b[0mcluster_centers_\u001b[0m\u001b[1;33m)\u001b[0m\u001b[1;33m\u001b[0m\u001b[1;33m\u001b[0m\u001b[0m\n\u001b[0m\u001b[0;32m      2\u001b[0m \u001b[0mprint\u001b[0m\u001b[1;33m(\u001b[0m\u001b[0mcentroids\u001b[0m\u001b[1;33m)\u001b[0m\u001b[1;33m\u001b[0m\u001b[1;33m\u001b[0m\u001b[0m\n",
      "\u001b[1;31mNameError\u001b[0m: name 'kmeans' is not defined"
     ]
    }
   ],
   "source": [
    "centroids = (kmeans.cluster_centers_)\n",
    "print(centroids)"
   ]
  },
  {
   "cell_type": "code",
   "execution_count": 3,
   "metadata": {},
   "outputs": [
    {
     "ename": "NameError",
     "evalue": "name 'pd' is not defined",
     "output_type": "error",
     "traceback": [
      "\u001b[1;31m---------------------------------------------------------------------------\u001b[0m",
      "\u001b[1;31mNameError\u001b[0m                                 Traceback (most recent call last)",
      "\u001b[1;32m<ipython-input-3-ca07cb422983>\u001b[0m in \u001b[0;36m<module>\u001b[1;34m\u001b[0m\n\u001b[1;32m----> 1\u001b[1;33m \u001b[0mdf_labels\u001b[0m \u001b[1;33m=\u001b[0m \u001b[0mpd\u001b[0m\u001b[1;33m.\u001b[0m\u001b[0mDataFrame\u001b[0m\u001b[1;33m(\u001b[0m\u001b[0mlabels\u001b[0m\u001b[1;33m)\u001b[0m\u001b[1;33m\u001b[0m\u001b[1;33m\u001b[0m\u001b[0m\n\u001b[0m\u001b[0;32m      2\u001b[0m \u001b[0mdf_labels\u001b[0m\u001b[1;33m.\u001b[0m\u001b[0mrename\u001b[0m\u001b[1;33m(\u001b[0m\u001b[0mcolumns\u001b[0m\u001b[1;33m=\u001b[0m\u001b[1;33m{\u001b[0m\u001b[1;36m0\u001b[0m\u001b[1;33m:\u001b[0m\u001b[1;34m'Cluster'\u001b[0m\u001b[1;33m}\u001b[0m\u001b[1;33m,\u001b[0m \u001b[0minplace\u001b[0m\u001b[1;33m=\u001b[0m\u001b[1;32mTrue\u001b[0m\u001b[1;33m)\u001b[0m\u001b[1;33m\u001b[0m\u001b[1;33m\u001b[0m\u001b[0m\n",
      "\u001b[1;31mNameError\u001b[0m: name 'pd' is not defined"
     ]
    }
   ],
   "source": [
    "df_labels = pd.DataFrame(labels)\n",
    "df_labels.rename(columns={0:'Cluster'}, inplace=True)"
   ]
  },
  {
   "cell_type": "markdown",
   "metadata": {},
   "source": [
    "### Merge Cluster column into dummy-converted data frame"
   ]
  },
  {
   "cell_type": "code",
   "execution_count": 37,
   "metadata": {},
   "outputs": [],
   "source": [
    "dat_housing_Clust = pd.concat([datHousing, df_labels], axis=1)"
   ]
  },
  {
   "cell_type": "code",
   "execution_count": 38,
   "metadata": {},
   "outputs": [
    {
     "data": {
      "text/html": [
       "<div>\n",
       "<style scoped>\n",
       "    .dataframe tbody tr th:only-of-type {\n",
       "        vertical-align: middle;\n",
       "    }\n",
       "\n",
       "    .dataframe tbody tr th {\n",
       "        vertical-align: top;\n",
       "    }\n",
       "\n",
       "    .dataframe thead th {\n",
       "        text-align: right;\n",
       "    }\n",
       "</style>\n",
       "<table border=\"1\" class=\"dataframe\">\n",
       "  <thead>\n",
       "    <tr style=\"text-align: right;\">\n",
       "      <th></th>\n",
       "      <th>crim</th>\n",
       "      <th>zn</th>\n",
       "      <th>indus</th>\n",
       "      <th>nox</th>\n",
       "      <th>rm</th>\n",
       "      <th>age</th>\n",
       "      <th>dis</th>\n",
       "      <th>rad</th>\n",
       "      <th>tax</th>\n",
       "      <th>pratio</th>\n",
       "      <th>lstat</th>\n",
       "      <th>medv</th>\n",
       "      <th>rivercode</th>\n",
       "      <th>Cluster</th>\n",
       "    </tr>\n",
       "  </thead>\n",
       "  <tbody>\n",
       "    <tr>\n",
       "      <th>0</th>\n",
       "      <td>3.32105</td>\n",
       "      <td>0.0</td>\n",
       "      <td>19.58</td>\n",
       "      <td>0.871</td>\n",
       "      <td>5.403</td>\n",
       "      <td>100.0</td>\n",
       "      <td>1.3216</td>\n",
       "      <td>5</td>\n",
       "      <td>403</td>\n",
       "      <td>14.7</td>\n",
       "      <td>26.82</td>\n",
       "      <td>13.4</td>\n",
       "      <td>1</td>\n",
       "      <td>2</td>\n",
       "    </tr>\n",
       "    <tr>\n",
       "      <th>1</th>\n",
       "      <td>1.12658</td>\n",
       "      <td>0.0</td>\n",
       "      <td>19.58</td>\n",
       "      <td>0.871</td>\n",
       "      <td>5.012</td>\n",
       "      <td>88.0</td>\n",
       "      <td>1.6102</td>\n",
       "      <td>5</td>\n",
       "      <td>403</td>\n",
       "      <td>14.7</td>\n",
       "      <td>12.12</td>\n",
       "      <td>15.3</td>\n",
       "      <td>1</td>\n",
       "      <td>2</td>\n",
       "    </tr>\n",
       "    <tr>\n",
       "      <th>2</th>\n",
       "      <td>1.41385</td>\n",
       "      <td>0.0</td>\n",
       "      <td>19.58</td>\n",
       "      <td>0.871</td>\n",
       "      <td>6.129</td>\n",
       "      <td>96.0</td>\n",
       "      <td>1.7494</td>\n",
       "      <td>5</td>\n",
       "      <td>403</td>\n",
       "      <td>14.7</td>\n",
       "      <td>15.12</td>\n",
       "      <td>17.0</td>\n",
       "      <td>1</td>\n",
       "      <td>2</td>\n",
       "    </tr>\n",
       "    <tr>\n",
       "      <th>3</th>\n",
       "      <td>3.53501</td>\n",
       "      <td>0.0</td>\n",
       "      <td>19.58</td>\n",
       "      <td>0.871</td>\n",
       "      <td>6.152</td>\n",
       "      <td>82.6</td>\n",
       "      <td>1.7455</td>\n",
       "      <td>5</td>\n",
       "      <td>403</td>\n",
       "      <td>14.7</td>\n",
       "      <td>15.02</td>\n",
       "      <td>15.6</td>\n",
       "      <td>1</td>\n",
       "      <td>2</td>\n",
       "    </tr>\n",
       "    <tr>\n",
       "      <th>4</th>\n",
       "      <td>1.27346</td>\n",
       "      <td>0.0</td>\n",
       "      <td>19.58</td>\n",
       "      <td>0.605</td>\n",
       "      <td>6.250</td>\n",
       "      <td>92.6</td>\n",
       "      <td>1.7984</td>\n",
       "      <td>5</td>\n",
       "      <td>403</td>\n",
       "      <td>14.7</td>\n",
       "      <td>5.50</td>\n",
       "      <td>27.0</td>\n",
       "      <td>1</td>\n",
       "      <td>2</td>\n",
       "    </tr>\n",
       "  </tbody>\n",
       "</table>\n",
       "</div>"
      ],
      "text/plain": [
       "      crim   zn  indus    nox     rm    age     dis  rad  tax  pratio  lstat  \\\n",
       "0  3.32105  0.0  19.58  0.871  5.403  100.0  1.3216    5  403    14.7  26.82   \n",
       "1  1.12658  0.0  19.58  0.871  5.012   88.0  1.6102    5  403    14.7  12.12   \n",
       "2  1.41385  0.0  19.58  0.871  6.129   96.0  1.7494    5  403    14.7  15.12   \n",
       "3  3.53501  0.0  19.58  0.871  6.152   82.6  1.7455    5  403    14.7  15.02   \n",
       "4  1.27346  0.0  19.58  0.605  6.250   92.6  1.7984    5  403    14.7   5.50   \n",
       "\n",
       "   medv  rivercode  Cluster  \n",
       "0  13.4          1        2  \n",
       "1  15.3          1        2  \n",
       "2  17.0          1        2  \n",
       "3  15.6          1        2  \n",
       "4  27.0          1        2  "
      ]
     },
     "execution_count": 38,
     "metadata": {},
     "output_type": "execute_result"
    }
   ],
   "source": [
    "dat_housing_Clust.head()"
   ]
  },
  {
   "cell_type": "markdown",
   "metadata": {},
   "source": [
    "## 8 Separate cluster into two data sets for further analysis"
   ]
  },
  {
   "cell_type": "code",
   "execution_count": 104,
   "metadata": {},
   "outputs": [],
   "source": [
    "datHousingC1 = dat_housing_Clust.loc[dat_housing_Clust['Cluster']==1]"
   ]
  },
  {
   "cell_type": "code",
   "execution_count": 105,
   "metadata": {},
   "outputs": [
    {
     "data": {
      "text/html": [
       "<div>\n",
       "<style scoped>\n",
       "    .dataframe tbody tr th:only-of-type {\n",
       "        vertical-align: middle;\n",
       "    }\n",
       "\n",
       "    .dataframe tbody tr th {\n",
       "        vertical-align: top;\n",
       "    }\n",
       "\n",
       "    .dataframe thead th {\n",
       "        text-align: right;\n",
       "    }\n",
       "</style>\n",
       "<table border=\"1\" class=\"dataframe\">\n",
       "  <thead>\n",
       "    <tr style=\"text-align: right;\">\n",
       "      <th></th>\n",
       "      <th>crim</th>\n",
       "      <th>zn</th>\n",
       "      <th>indus</th>\n",
       "      <th>nox</th>\n",
       "      <th>rm</th>\n",
       "      <th>age</th>\n",
       "      <th>dis</th>\n",
       "      <th>rad</th>\n",
       "      <th>tax</th>\n",
       "      <th>pratio</th>\n",
       "      <th>lstat</th>\n",
       "      <th>medv</th>\n",
       "      <th>rivercode</th>\n",
       "      <th>Cluster</th>\n",
       "    </tr>\n",
       "  </thead>\n",
       "  <tbody>\n",
       "    <tr>\n",
       "      <th>27</th>\n",
       "      <td>8.98296</td>\n",
       "      <td>0.0</td>\n",
       "      <td>18.1</td>\n",
       "      <td>0.770</td>\n",
       "      <td>6.212</td>\n",
       "      <td>97.4</td>\n",
       "      <td>2.1222</td>\n",
       "      <td>24</td>\n",
       "      <td>666</td>\n",
       "      <td>20.2</td>\n",
       "      <td>17.60</td>\n",
       "      <td>17.8</td>\n",
       "      <td>1</td>\n",
       "      <td>1</td>\n",
       "    </tr>\n",
       "    <tr>\n",
       "      <th>28</th>\n",
       "      <td>3.84970</td>\n",
       "      <td>0.0</td>\n",
       "      <td>18.1</td>\n",
       "      <td>0.770</td>\n",
       "      <td>6.395</td>\n",
       "      <td>91.0</td>\n",
       "      <td>2.5052</td>\n",
       "      <td>24</td>\n",
       "      <td>666</td>\n",
       "      <td>20.2</td>\n",
       "      <td>13.27</td>\n",
       "      <td>21.7</td>\n",
       "      <td>1</td>\n",
       "      <td>1</td>\n",
       "    </tr>\n",
       "    <tr>\n",
       "      <th>29</th>\n",
       "      <td>5.20177</td>\n",
       "      <td>0.0</td>\n",
       "      <td>18.1</td>\n",
       "      <td>0.770</td>\n",
       "      <td>6.127</td>\n",
       "      <td>83.4</td>\n",
       "      <td>2.7227</td>\n",
       "      <td>24</td>\n",
       "      <td>666</td>\n",
       "      <td>20.2</td>\n",
       "      <td>11.48</td>\n",
       "      <td>22.7</td>\n",
       "      <td>1</td>\n",
       "      <td>1</td>\n",
       "    </tr>\n",
       "    <tr>\n",
       "      <th>30</th>\n",
       "      <td>4.22239</td>\n",
       "      <td>0.0</td>\n",
       "      <td>18.1</td>\n",
       "      <td>0.770</td>\n",
       "      <td>5.803</td>\n",
       "      <td>89.0</td>\n",
       "      <td>1.9047</td>\n",
       "      <td>24</td>\n",
       "      <td>666</td>\n",
       "      <td>20.2</td>\n",
       "      <td>14.64</td>\n",
       "      <td>16.8</td>\n",
       "      <td>1</td>\n",
       "      <td>1</td>\n",
       "    </tr>\n",
       "    <tr>\n",
       "      <th>31</th>\n",
       "      <td>3.47428</td>\n",
       "      <td>0.0</td>\n",
       "      <td>18.1</td>\n",
       "      <td>0.718</td>\n",
       "      <td>8.780</td>\n",
       "      <td>82.9</td>\n",
       "      <td>1.9047</td>\n",
       "      <td>24</td>\n",
       "      <td>666</td>\n",
       "      <td>20.2</td>\n",
       "      <td>5.29</td>\n",
       "      <td>21.9</td>\n",
       "      <td>1</td>\n",
       "      <td>1</td>\n",
       "    </tr>\n",
       "  </tbody>\n",
       "</table>\n",
       "</div>"
      ],
      "text/plain": [
       "       crim   zn  indus    nox     rm   age     dis  rad  tax  pratio  lstat  \\\n",
       "27  8.98296  0.0   18.1  0.770  6.212  97.4  2.1222   24  666    20.2  17.60   \n",
       "28  3.84970  0.0   18.1  0.770  6.395  91.0  2.5052   24  666    20.2  13.27   \n",
       "29  5.20177  0.0   18.1  0.770  6.127  83.4  2.7227   24  666    20.2  11.48   \n",
       "30  4.22239  0.0   18.1  0.770  5.803  89.0  1.9047   24  666    20.2  14.64   \n",
       "31  3.47428  0.0   18.1  0.718  8.780  82.9  1.9047   24  666    20.2   5.29   \n",
       "\n",
       "    medv  rivercode  Cluster  \n",
       "27  17.8          1        1  \n",
       "28  21.7          1        1  \n",
       "29  22.7          1        1  \n",
       "30  16.8          1        1  \n",
       "31  21.9          1        1  "
      ]
     },
     "execution_count": 105,
     "metadata": {},
     "output_type": "execute_result"
    }
   ],
   "source": [
    "datHousingC1.head()"
   ]
  },
  {
   "cell_type": "markdown",
   "metadata": {},
   "source": [
    "## 9. Separate cluster into two data sets for further analysis"
   ]
  },
  {
   "cell_type": "code",
   "execution_count": 106,
   "metadata": {},
   "outputs": [],
   "source": [
    "datHousingC2 = dat_housing_Clust.loc[dat_housing_Clust['Cluster']==2]"
   ]
  },
  {
   "cell_type": "code",
   "execution_count": 107,
   "metadata": {
    "scrolled": true
   },
   "outputs": [
    {
     "data": {
      "text/html": [
       "<div>\n",
       "<style scoped>\n",
       "    .dataframe tbody tr th:only-of-type {\n",
       "        vertical-align: middle;\n",
       "    }\n",
       "\n",
       "    .dataframe tbody tr th {\n",
       "        vertical-align: top;\n",
       "    }\n",
       "\n",
       "    .dataframe thead th {\n",
       "        text-align: right;\n",
       "    }\n",
       "</style>\n",
       "<table border=\"1\" class=\"dataframe\">\n",
       "  <thead>\n",
       "    <tr style=\"text-align: right;\">\n",
       "      <th></th>\n",
       "      <th>crim</th>\n",
       "      <th>zn</th>\n",
       "      <th>indus</th>\n",
       "      <th>nox</th>\n",
       "      <th>rm</th>\n",
       "      <th>age</th>\n",
       "      <th>dis</th>\n",
       "      <th>rad</th>\n",
       "      <th>tax</th>\n",
       "      <th>pratio</th>\n",
       "      <th>lstat</th>\n",
       "      <th>medv</th>\n",
       "      <th>rivercode</th>\n",
       "      <th>Cluster</th>\n",
       "    </tr>\n",
       "  </thead>\n",
       "  <tbody>\n",
       "    <tr>\n",
       "      <th>0</th>\n",
       "      <td>3.32105</td>\n",
       "      <td>0.0</td>\n",
       "      <td>19.58</td>\n",
       "      <td>0.871</td>\n",
       "      <td>5.403</td>\n",
       "      <td>100.0</td>\n",
       "      <td>1.3216</td>\n",
       "      <td>5</td>\n",
       "      <td>403</td>\n",
       "      <td>14.7</td>\n",
       "      <td>26.82</td>\n",
       "      <td>13.4</td>\n",
       "      <td>1</td>\n",
       "      <td>2</td>\n",
       "    </tr>\n",
       "    <tr>\n",
       "      <th>1</th>\n",
       "      <td>1.12658</td>\n",
       "      <td>0.0</td>\n",
       "      <td>19.58</td>\n",
       "      <td>0.871</td>\n",
       "      <td>5.012</td>\n",
       "      <td>88.0</td>\n",
       "      <td>1.6102</td>\n",
       "      <td>5</td>\n",
       "      <td>403</td>\n",
       "      <td>14.7</td>\n",
       "      <td>12.12</td>\n",
       "      <td>15.3</td>\n",
       "      <td>1</td>\n",
       "      <td>2</td>\n",
       "    </tr>\n",
       "    <tr>\n",
       "      <th>2</th>\n",
       "      <td>1.41385</td>\n",
       "      <td>0.0</td>\n",
       "      <td>19.58</td>\n",
       "      <td>0.871</td>\n",
       "      <td>6.129</td>\n",
       "      <td>96.0</td>\n",
       "      <td>1.7494</td>\n",
       "      <td>5</td>\n",
       "      <td>403</td>\n",
       "      <td>14.7</td>\n",
       "      <td>15.12</td>\n",
       "      <td>17.0</td>\n",
       "      <td>1</td>\n",
       "      <td>2</td>\n",
       "    </tr>\n",
       "    <tr>\n",
       "      <th>3</th>\n",
       "      <td>3.53501</td>\n",
       "      <td>0.0</td>\n",
       "      <td>19.58</td>\n",
       "      <td>0.871</td>\n",
       "      <td>6.152</td>\n",
       "      <td>82.6</td>\n",
       "      <td>1.7455</td>\n",
       "      <td>5</td>\n",
       "      <td>403</td>\n",
       "      <td>14.7</td>\n",
       "      <td>15.02</td>\n",
       "      <td>15.6</td>\n",
       "      <td>1</td>\n",
       "      <td>2</td>\n",
       "    </tr>\n",
       "    <tr>\n",
       "      <th>4</th>\n",
       "      <td>1.27346</td>\n",
       "      <td>0.0</td>\n",
       "      <td>19.58</td>\n",
       "      <td>0.605</td>\n",
       "      <td>6.250</td>\n",
       "      <td>92.6</td>\n",
       "      <td>1.7984</td>\n",
       "      <td>5</td>\n",
       "      <td>403</td>\n",
       "      <td>14.7</td>\n",
       "      <td>5.50</td>\n",
       "      <td>27.0</td>\n",
       "      <td>1</td>\n",
       "      <td>2</td>\n",
       "    </tr>\n",
       "  </tbody>\n",
       "</table>\n",
       "</div>"
      ],
      "text/plain": [
       "      crim   zn  indus    nox     rm    age     dis  rad  tax  pratio  lstat  \\\n",
       "0  3.32105  0.0  19.58  0.871  5.403  100.0  1.3216    5  403    14.7  26.82   \n",
       "1  1.12658  0.0  19.58  0.871  5.012   88.0  1.6102    5  403    14.7  12.12   \n",
       "2  1.41385  0.0  19.58  0.871  6.129   96.0  1.7494    5  403    14.7  15.12   \n",
       "3  3.53501  0.0  19.58  0.871  6.152   82.6  1.7455    5  403    14.7  15.02   \n",
       "4  1.27346  0.0  19.58  0.605  6.250   92.6  1.7984    5  403    14.7   5.50   \n",
       "\n",
       "   medv  rivercode  Cluster  \n",
       "0  13.4          1        2  \n",
       "1  15.3          1        2  \n",
       "2  17.0          1        2  \n",
       "3  15.6          1        2  \n",
       "4  27.0          1        2  "
      ]
     },
     "execution_count": 107,
     "metadata": {},
     "output_type": "execute_result"
    }
   ],
   "source": [
    "datHousingC2.head()"
   ]
  },
  {
   "cell_type": "markdown",
   "metadata": {},
   "source": [
    "## 10"
   ]
  },
  {
   "cell_type": "code",
   "execution_count": 108,
   "metadata": {},
   "outputs": [],
   "source": [
    "X = datHousingC1.drop(['medv'], axis=1)\n",
    "y = datHousingC1['medv']"
   ]
  },
  {
   "cell_type": "code",
   "execution_count": 109,
   "metadata": {},
   "outputs": [],
   "source": [
    "from sklearn.model_selection import train_test_split\n",
    "X_train, X_test, y_train, y_test = train_test_split(X, y, test_size=0.2, random_state=123)\n",
    "numerical_features = ['crim', 'zn', 'indus', 'nox','rm','age','dis','rad','tax','pratio','lstat','rivercode']"
   ]
  },
  {
   "cell_type": "markdown",
   "metadata": {},
   "source": [
    "Regression"
   ]
  },
  {
   "cell_type": "code",
   "execution_count": 110,
   "metadata": {},
   "outputs": [
    {
     "name": "stderr",
     "output_type": "stream",
     "text": [
      "/Users/samiksha/anaconda3/lib/python3.7/site-packages/pandas/core/indexing.py:543: SettingWithCopyWarning: \n",
      "A value is trying to be set on a copy of a slice from a DataFrame.\n",
      "Try using .loc[row_indexer,col_indexer] = value instead\n",
      "\n",
      "See the caveats in the documentation: http://pandas.pydata.org/pandas-docs/stable/indexing.html#indexing-view-versus-copy\n",
      "  self.obj[item] = s\n"
     ]
    }
   ],
   "source": [
    "# 1. Import the class you will use\n",
    "from sklearn.preprocessing import StandardScaler\n",
    "# 2. Create an instance of the class\n",
    "scaler = StandardScaler()\n",
    "# 3. Use the fit method of the instance\n",
    "scaler.fit(X_train[numerical_features])\n",
    "# 4. Use the transform method to perform the transformation\n",
    "X_train.loc[:, numerical_features] = scaler.transform(X_train[numerical_features])"
   ]
  },
  {
   "cell_type": "code",
   "execution_count": 111,
   "metadata": {},
   "outputs": [
    {
     "data": {
      "text/html": [
       "<div>\n",
       "<style scoped>\n",
       "    .dataframe tbody tr th:only-of-type {\n",
       "        vertical-align: middle;\n",
       "    }\n",
       "\n",
       "    .dataframe tbody tr th {\n",
       "        vertical-align: top;\n",
       "    }\n",
       "\n",
       "    .dataframe thead th {\n",
       "        text-align: right;\n",
       "    }\n",
       "</style>\n",
       "<table border=\"1\" class=\"dataframe\">\n",
       "  <thead>\n",
       "    <tr style=\"text-align: right;\">\n",
       "      <th></th>\n",
       "      <th>crim</th>\n",
       "      <th>zn</th>\n",
       "      <th>indus</th>\n",
       "      <th>nox</th>\n",
       "      <th>rm</th>\n",
       "      <th>age</th>\n",
       "      <th>dis</th>\n",
       "      <th>rad</th>\n",
       "      <th>tax</th>\n",
       "      <th>pratio</th>\n",
       "      <th>lstat</th>\n",
       "      <th>rivercode</th>\n",
       "    </tr>\n",
       "  </thead>\n",
       "  <tbody>\n",
       "    <tr>\n",
       "      <th>416</th>\n",
       "      <td>-0.114957</td>\n",
       "      <td>0.0</td>\n",
       "      <td>-0.219265</td>\n",
       "      <td>0.208383</td>\n",
       "      <td>1.183172</td>\n",
       "      <td>0.046905</td>\n",
       "      <td>-0.366447</td>\n",
       "      <td>0.219265</td>\n",
       "      <td>-0.219265</td>\n",
       "      <td>0.219265</td>\n",
       "      <td>1.022529</td>\n",
       "      <td>-0.219265</td>\n",
       "    </tr>\n",
       "    <tr>\n",
       "      <th>389</th>\n",
       "      <td>-0.335170</td>\n",
       "      <td>0.0</td>\n",
       "      <td>-0.219265</td>\n",
       "      <td>0.547153</td>\n",
       "      <td>-0.835294</td>\n",
       "      <td>0.688957</td>\n",
       "      <td>-0.518206</td>\n",
       "      <td>0.219265</td>\n",
       "      <td>-0.219265</td>\n",
       "      <td>0.219265</td>\n",
       "      <td>0.297695</td>\n",
       "      <td>-0.219265</td>\n",
       "    </tr>\n",
       "    <tr>\n",
       "      <th>444</th>\n",
       "      <td>0.046612</td>\n",
       "      <td>0.0</td>\n",
       "      <td>-0.219265</td>\n",
       "      <td>1.192430</td>\n",
       "      <td>-0.162472</td>\n",
       "      <td>0.506646</td>\n",
       "      <td>-0.240091</td>\n",
       "      <td>0.219265</td>\n",
       "      <td>-0.219265</td>\n",
       "      <td>0.219265</td>\n",
       "      <td>0.729074</td>\n",
       "      <td>-0.219265</td>\n",
       "    </tr>\n",
       "    <tr>\n",
       "      <th>474</th>\n",
       "      <td>-0.343047</td>\n",
       "      <td>0.0</td>\n",
       "      <td>-0.219265</td>\n",
       "      <td>-1.324149</td>\n",
       "      <td>-0.781642</td>\n",
       "      <td>0.411527</td>\n",
       "      <td>0.646885</td>\n",
       "      <td>0.219265</td>\n",
       "      <td>-0.219265</td>\n",
       "      <td>0.219265</td>\n",
       "      <td>-0.099936</td>\n",
       "      <td>-0.219265</td>\n",
       "    </tr>\n",
       "    <tr>\n",
       "      <th>418</th>\n",
       "      <td>5.032308</td>\n",
       "      <td>0.0</td>\n",
       "      <td>-0.219265</td>\n",
       "      <td>0.208383</td>\n",
       "      <td>-0.013117</td>\n",
       "      <td>0.776149</td>\n",
       "      <td>-0.394507</td>\n",
       "      <td>0.219265</td>\n",
       "      <td>-0.219265</td>\n",
       "      <td>0.219265</td>\n",
       "      <td>0.263948</td>\n",
       "      <td>-0.219265</td>\n",
       "    </tr>\n",
       "  </tbody>\n",
       "</table>\n",
       "</div>"
      ],
      "text/plain": [
       "         crim   zn     indus       nox        rm       age       dis  \\\n",
       "416 -0.114957  0.0 -0.219265  0.208383  1.183172  0.046905 -0.366447   \n",
       "389 -0.335170  0.0 -0.219265  0.547153 -0.835294  0.688957 -0.518206   \n",
       "444  0.046612  0.0 -0.219265  1.192430 -0.162472  0.506646 -0.240091   \n",
       "474 -0.343047  0.0 -0.219265 -1.324149 -0.781642  0.411527  0.646885   \n",
       "418  5.032308  0.0 -0.219265  0.208383 -0.013117  0.776149 -0.394507   \n",
       "\n",
       "          rad       tax    pratio     lstat  rivercode  \n",
       "416  0.219265 -0.219265  0.219265  1.022529  -0.219265  \n",
       "389  0.219265 -0.219265  0.219265  0.297695  -0.219265  \n",
       "444  0.219265 -0.219265  0.219265  0.729074  -0.219265  \n",
       "474  0.219265 -0.219265  0.219265 -0.099936  -0.219265  \n",
       "418  0.219265 -0.219265  0.219265  0.263948  -0.219265  "
      ]
     },
     "execution_count": 111,
     "metadata": {},
     "output_type": "execute_result"
    }
   ],
   "source": [
    "X_train[numerical_features].head()"
   ]
  },
  {
   "cell_type": "code",
   "execution_count": 112,
   "metadata": {},
   "outputs": [
    {
     "data": {
      "text/html": [
       "<div>\n",
       "<style scoped>\n",
       "    .dataframe tbody tr th:only-of-type {\n",
       "        vertical-align: middle;\n",
       "    }\n",
       "\n",
       "    .dataframe tbody tr th {\n",
       "        vertical-align: top;\n",
       "    }\n",
       "\n",
       "    .dataframe thead th {\n",
       "        text-align: right;\n",
       "    }\n",
       "</style>\n",
       "<table border=\"1\" class=\"dataframe\">\n",
       "  <thead>\n",
       "    <tr style=\"text-align: right;\">\n",
       "      <th></th>\n",
       "      <th>crim</th>\n",
       "      <th>zn</th>\n",
       "      <th>indus</th>\n",
       "      <th>nox</th>\n",
       "      <th>rm</th>\n",
       "      <th>age</th>\n",
       "      <th>dis</th>\n",
       "      <th>rad</th>\n",
       "      <th>tax</th>\n",
       "      <th>pratio</th>\n",
       "      <th>lstat</th>\n",
       "      <th>rivercode</th>\n",
       "    </tr>\n",
       "  </thead>\n",
       "  <tbody>\n",
       "    <tr>\n",
       "      <th>count</th>\n",
       "      <td>109.000</td>\n",
       "      <td>109.0</td>\n",
       "      <td>109.000</td>\n",
       "      <td>109.000</td>\n",
       "      <td>109.000</td>\n",
       "      <td>109.000</td>\n",
       "      <td>109.000</td>\n",
       "      <td>109.000</td>\n",
       "      <td>109.000</td>\n",
       "      <td>109.000</td>\n",
       "      <td>109.000</td>\n",
       "      <td>109.000</td>\n",
       "    </tr>\n",
       "    <tr>\n",
       "      <th>mean</th>\n",
       "      <td>0.000</td>\n",
       "      <td>0.0</td>\n",
       "      <td>0.000</td>\n",
       "      <td>0.000</td>\n",
       "      <td>0.000</td>\n",
       "      <td>-0.000</td>\n",
       "      <td>0.000</td>\n",
       "      <td>0.000</td>\n",
       "      <td>0.000</td>\n",
       "      <td>0.000</td>\n",
       "      <td>0.000</td>\n",
       "      <td>0.000</td>\n",
       "    </tr>\n",
       "    <tr>\n",
       "      <th>std</th>\n",
       "      <td>1.005</td>\n",
       "      <td>0.0</td>\n",
       "      <td>1.005</td>\n",
       "      <td>1.005</td>\n",
       "      <td>1.005</td>\n",
       "      <td>1.005</td>\n",
       "      <td>1.005</td>\n",
       "      <td>1.005</td>\n",
       "      <td>1.005</td>\n",
       "      <td>1.005</td>\n",
       "      <td>1.005</td>\n",
       "      <td>1.005</td>\n",
       "    </tr>\n",
       "    <tr>\n",
       "      <th>min</th>\n",
       "      <td>-0.996</td>\n",
       "      <td>0.0</td>\n",
       "      <td>-0.219</td>\n",
       "      <td>-2.163</td>\n",
       "      <td>-3.487</td>\n",
       "      <td>-3.956</td>\n",
       "      <td>-1.512</td>\n",
       "      <td>-4.561</td>\n",
       "      <td>-0.219</td>\n",
       "      <td>-4.561</td>\n",
       "      <td>-2.327</td>\n",
       "      <td>-0.219</td>\n",
       "    </tr>\n",
       "    <tr>\n",
       "      <th>25%</th>\n",
       "      <td>-0.546</td>\n",
       "      <td>0.0</td>\n",
       "      <td>-0.219</td>\n",
       "      <td>-0.921</td>\n",
       "      <td>-0.492</td>\n",
       "      <td>-0.183</td>\n",
       "      <td>-0.719</td>\n",
       "      <td>0.219</td>\n",
       "      <td>-0.219</td>\n",
       "      <td>0.219</td>\n",
       "      <td>-0.680</td>\n",
       "      <td>-0.219</td>\n",
       "    </tr>\n",
       "    <tr>\n",
       "      <th>50%</th>\n",
       "      <td>-0.289</td>\n",
       "      <td>0.0</td>\n",
       "      <td>-0.219</td>\n",
       "      <td>0.208</td>\n",
       "      <td>0.199</td>\n",
       "      <td>0.404</td>\n",
       "      <td>-0.217</td>\n",
       "      <td>0.219</td>\n",
       "      <td>-0.219</td>\n",
       "      <td>0.219</td>\n",
       "      <td>-0.112</td>\n",
       "      <td>-0.219</td>\n",
       "    </tr>\n",
       "    <tr>\n",
       "      <th>75%</th>\n",
       "      <td>0.138</td>\n",
       "      <td>0.0</td>\n",
       "      <td>-0.219</td>\n",
       "      <td>0.757</td>\n",
       "      <td>0.635</td>\n",
       "      <td>0.689</td>\n",
       "      <td>0.471</td>\n",
       "      <td>0.219</td>\n",
       "      <td>-0.219</td>\n",
       "      <td>0.219</td>\n",
       "      <td>0.653</td>\n",
       "      <td>-0.219</td>\n",
       "    </tr>\n",
       "    <tr>\n",
       "      <th>max</th>\n",
       "      <td>5.032</td>\n",
       "      <td>0.0</td>\n",
       "      <td>4.561</td>\n",
       "      <td>1.676</td>\n",
       "      <td>2.069</td>\n",
       "      <td>0.776</td>\n",
       "      <td>3.417</td>\n",
       "      <td>0.219</td>\n",
       "      <td>4.561</td>\n",
       "      <td>0.219</td>\n",
       "      <td>2.810</td>\n",
       "      <td>4.561</td>\n",
       "    </tr>\n",
       "  </tbody>\n",
       "</table>\n",
       "</div>"
      ],
      "text/plain": [
       "          crim     zn    indus      nox       rm      age      dis      rad  \\\n",
       "count  109.000  109.0  109.000  109.000  109.000  109.000  109.000  109.000   \n",
       "mean     0.000    0.0    0.000    0.000    0.000   -0.000    0.000    0.000   \n",
       "std      1.005    0.0    1.005    1.005    1.005    1.005    1.005    1.005   \n",
       "min     -0.996    0.0   -0.219   -2.163   -3.487   -3.956   -1.512   -4.561   \n",
       "25%     -0.546    0.0   -0.219   -0.921   -0.492   -0.183   -0.719    0.219   \n",
       "50%     -0.289    0.0   -0.219    0.208    0.199    0.404   -0.217    0.219   \n",
       "75%      0.138    0.0   -0.219    0.757    0.635    0.689    0.471    0.219   \n",
       "max      5.032    0.0    4.561    1.676    2.069    0.776    3.417    0.219   \n",
       "\n",
       "           tax   pratio    lstat  rivercode  \n",
       "count  109.000  109.000  109.000    109.000  \n",
       "mean     0.000    0.000    0.000      0.000  \n",
       "std      1.005    1.005    1.005      1.005  \n",
       "min     -0.219   -4.561   -2.327     -0.219  \n",
       "25%     -0.219    0.219   -0.680     -0.219  \n",
       "50%     -0.219    0.219   -0.112     -0.219  \n",
       "75%     -0.219    0.219    0.653     -0.219  \n",
       "max      4.561    0.219    2.810      4.561  "
      ]
     },
     "execution_count": 112,
     "metadata": {},
     "output_type": "execute_result"
    }
   ],
   "source": [
    "X_train[numerical_features].describe().round(3)"
   ]
  },
  {
   "cell_type": "code",
   "execution_count": 113,
   "metadata": {},
   "outputs": [],
   "source": [
    "# 1. Import the Estimator class you will use\n",
    "from sklearn.linear_model import LinearRegression\n",
    "# 2. Create an instance of the class\n",
    "ml_reg = LinearRegression()\n",
    "# 3. Use the fit method of the instance\n",
    "ml_reg.fit(X_train, y_train)\n",
    "# 4. Use the predict method to get the predictions\n",
    "y_pred_ml_reg = ml_reg.predict(X_train)"
   ]
  },
  {
   "cell_type": "code",
   "execution_count": 114,
   "metadata": {},
   "outputs": [
    {
     "data": {
      "text/plain": [
       "rivercode    2.38\n",
       "age          0.60\n",
       "rad          0.35\n",
       "pratio       0.35\n",
       "Cluster      0.00\n",
       "zn          -0.00\n",
       "tax         -0.35\n",
       "indus       -0.35\n",
       "rm          -1.15\n",
       "dis         -1.48\n",
       "crim        -1.91\n",
       "nox         -2.24\n",
       "lstat       -4.96\n",
       "dtype: float64"
      ]
     },
     "execution_count": 114,
     "metadata": {},
     "output_type": "execute_result"
    }
   ],
   "source": [
    "pd.Series(ml_reg.coef_, index=X_train.columns).sort_values(ascending=False).round(2)"
   ]
  },
  {
   "cell_type": "code",
   "execution_count": 115,
   "metadata": {},
   "outputs": [
    {
     "name": "stdout",
     "output_type": "stream",
     "text": [
      "variance score: 0.69\n"
     ]
    }
   ],
   "source": [
    "# re-training the model with all features again.\n",
    "ml_reg.fit(X_train, y_train)\n",
    "print('variance score: %.2f' % r2_score (y_train, y_pred_ml_reg))"
   ]
  },
  {
   "cell_type": "code",
   "execution_count": 116,
   "metadata": {},
   "outputs": [
    {
     "name": "stdout",
     "output_type": "stream",
     "text": [
      "mean squared error: 19.34\n"
     ]
    }
   ],
   "source": [
    "from sklearn.metrics import mean_squared_error, r2_score\n",
    "print (('mean squared error: %.2f') % mean_squared_error(y_train, y_pred_ml_reg)) "
   ]
  },
  {
   "cell_type": "markdown",
   "metadata": {},
   "source": [
    "## 11"
   ]
  },
  {
   "cell_type": "code",
   "execution_count": 117,
   "metadata": {},
   "outputs": [],
   "source": [
    "X = datHousingC2.drop(['medv'], axis=1)\n",
    "y = datHousingC2['medv']"
   ]
  },
  {
   "cell_type": "code",
   "execution_count": 118,
   "metadata": {},
   "outputs": [],
   "source": [
    "from sklearn.model_selection import train_test_split\n",
    "X_train, X_test, y_train, y_test = train_test_split(X, y, test_size=0.2, random_state=123)\n",
    "numerical_features = ['crim', 'zn', 'indus', 'nox','rm','age','dis','rad','tax','pratio','lstat','rivercode']"
   ]
  },
  {
   "cell_type": "markdown",
   "metadata": {},
   "source": [
    "Regression"
   ]
  },
  {
   "cell_type": "code",
   "execution_count": 125,
   "metadata": {},
   "outputs": [
    {
     "name": "stderr",
     "output_type": "stream",
     "text": [
      "/Users/samiksha/anaconda3/lib/python3.7/site-packages/pandas/core/indexing.py:543: SettingWithCopyWarning: \n",
      "A value is trying to be set on a copy of a slice from a DataFrame.\n",
      "Try using .loc[row_indexer,col_indexer] = value instead\n",
      "\n",
      "See the caveats in the documentation: http://pandas.pydata.org/pandas-docs/stable/indexing.html#indexing-view-versus-copy\n",
      "  self.obj[item] = s\n"
     ]
    }
   ],
   "source": [
    "# 1. Import the class you will use\n",
    "from sklearn.preprocessing import StandardScaler\n",
    "# 2. Create an instance of the class\n",
    "scaler = StandardScaler()\n",
    "# 3. Use the fit method of the instance\n",
    "scaler.fit(X_train[numerical_features])\n",
    "# 4. Use the transform method to perform the transformation\n",
    "X_train.loc[:, numerical_features] = scaler.transform(X_train[numerical_features])"
   ]
  },
  {
   "cell_type": "code",
   "execution_count": 126,
   "metadata": {},
   "outputs": [
    {
     "data": {
      "text/html": [
       "<div>\n",
       "<style scoped>\n",
       "    .dataframe tbody tr th:only-of-type {\n",
       "        vertical-align: middle;\n",
       "    }\n",
       "\n",
       "    .dataframe tbody tr th {\n",
       "        vertical-align: top;\n",
       "    }\n",
       "\n",
       "    .dataframe thead th {\n",
       "        text-align: right;\n",
       "    }\n",
       "</style>\n",
       "<table border=\"1\" class=\"dataframe\">\n",
       "  <thead>\n",
       "    <tr style=\"text-align: right;\">\n",
       "      <th></th>\n",
       "      <th>crim</th>\n",
       "      <th>zn</th>\n",
       "      <th>indus</th>\n",
       "      <th>nox</th>\n",
       "      <th>rm</th>\n",
       "      <th>age</th>\n",
       "      <th>dis</th>\n",
       "      <th>rad</th>\n",
       "      <th>tax</th>\n",
       "      <th>pratio</th>\n",
       "      <th>lstat</th>\n",
       "      <th>rivercode</th>\n",
       "    </tr>\n",
       "  </thead>\n",
       "  <tbody>\n",
       "    <tr>\n",
       "      <th>147</th>\n",
       "      <td>-0.628104</td>\n",
       "      <td>-0.493496</td>\n",
       "      <td>-0.336775</td>\n",
       "      <td>-0.206841</td>\n",
       "      <td>-0.426675</td>\n",
       "      <td>0.773731</td>\n",
       "      <td>-0.522307</td>\n",
       "      <td>1.465581</td>\n",
       "      <td>1.198550</td>\n",
       "      <td>0.059352</td>\n",
       "      <td>0.584802</td>\n",
       "      <td>-0.223607</td>\n",
       "    </tr>\n",
       "    <tr>\n",
       "      <th>179</th>\n",
       "      <td>1.753190</td>\n",
       "      <td>-0.493496</td>\n",
       "      <td>1.006315</td>\n",
       "      <td>2.018211</td>\n",
       "      <td>-0.056691</td>\n",
       "      <td>1.017808</td>\n",
       "      <td>-0.934691</td>\n",
       "      <td>0.222058</td>\n",
       "      <td>0.014101</td>\n",
       "      <td>-1.167252</td>\n",
       "      <td>2.424705</td>\n",
       "      <td>-0.223607</td>\n",
       "    </tr>\n",
       "    <tr>\n",
       "      <th>137</th>\n",
       "      <td>-0.516779</td>\n",
       "      <td>-0.493496</td>\n",
       "      <td>-0.540273</td>\n",
       "      <td>-0.392262</td>\n",
       "      <td>0.412182</td>\n",
       "      <td>0.515902</td>\n",
       "      <td>-0.362836</td>\n",
       "      <td>0.222058</td>\n",
       "      <td>-0.761918</td>\n",
       "      <td>1.285956</td>\n",
       "      <td>-0.301019</td>\n",
       "      <td>-0.223607</td>\n",
       "    </tr>\n",
       "    <tr>\n",
       "      <th>184</th>\n",
       "      <td>0.990327</td>\n",
       "      <td>-0.493496</td>\n",
       "      <td>1.006315</td>\n",
       "      <td>2.018211</td>\n",
       "      <td>-0.070331</td>\n",
       "      <td>0.924990</td>\n",
       "      <td>-0.846900</td>\n",
       "      <td>0.222058</td>\n",
       "      <td>0.014101</td>\n",
       "      <td>-1.167252</td>\n",
       "      <td>0.249841</td>\n",
       "      <td>-0.223607</td>\n",
       "    </tr>\n",
       "    <tr>\n",
       "      <th>151</th>\n",
       "      <td>-0.619354</td>\n",
       "      <td>-0.493496</td>\n",
       "      <td>-0.336775</td>\n",
       "      <td>-0.206841</td>\n",
       "      <td>0.021739</td>\n",
       "      <td>0.072437</td>\n",
       "      <td>-0.356039</td>\n",
       "      <td>1.465581</td>\n",
       "      <td>1.198550</td>\n",
       "      <td>0.059352</td>\n",
       "      <td>-0.077182</td>\n",
       "      <td>-0.223607</td>\n",
       "    </tr>\n",
       "  </tbody>\n",
       "</table>\n",
       "</div>"
      ],
      "text/plain": [
       "         crim        zn     indus       nox        rm       age       dis  \\\n",
       "147 -0.628104 -0.493496 -0.336775 -0.206841 -0.426675  0.773731 -0.522307   \n",
       "179  1.753190 -0.493496  1.006315  2.018211 -0.056691  1.017808 -0.934691   \n",
       "137 -0.516779 -0.493496 -0.540273 -0.392262  0.412182  0.515902 -0.362836   \n",
       "184  0.990327 -0.493496  1.006315  2.018211 -0.070331  0.924990 -0.846900   \n",
       "151 -0.619354 -0.493496 -0.336775 -0.206841  0.021739  0.072437 -0.356039   \n",
       "\n",
       "          rad       tax    pratio     lstat  rivercode  \n",
       "147  1.465581  1.198550  0.059352  0.584802  -0.223607  \n",
       "179  0.222058  0.014101 -1.167252  2.424705  -0.223607  \n",
       "137  0.222058 -0.761918  1.285956 -0.301019  -0.223607  \n",
       "184  0.222058  0.014101 -1.167252  0.249841  -0.223607  \n",
       "151  1.465581  1.198550  0.059352 -0.077182  -0.223607  "
      ]
     },
     "execution_count": 126,
     "metadata": {},
     "output_type": "execute_result"
    }
   ],
   "source": [
    "X_train[numerical_features].head()"
   ]
  },
  {
   "cell_type": "code",
   "execution_count": 127,
   "metadata": {},
   "outputs": [
    {
     "data": {
      "text/html": [
       "<div>\n",
       "<style scoped>\n",
       "    .dataframe tbody tr th:only-of-type {\n",
       "        vertical-align: middle;\n",
       "    }\n",
       "\n",
       "    .dataframe tbody tr th {\n",
       "        vertical-align: top;\n",
       "    }\n",
       "\n",
       "    .dataframe thead th {\n",
       "        text-align: right;\n",
       "    }\n",
       "</style>\n",
       "<table border=\"1\" class=\"dataframe\">\n",
       "  <thead>\n",
       "    <tr style=\"text-align: right;\">\n",
       "      <th></th>\n",
       "      <th>crim</th>\n",
       "      <th>zn</th>\n",
       "      <th>indus</th>\n",
       "      <th>nox</th>\n",
       "      <th>rm</th>\n",
       "      <th>age</th>\n",
       "      <th>dis</th>\n",
       "      <th>rad</th>\n",
       "      <th>tax</th>\n",
       "      <th>pratio</th>\n",
       "      <th>lstat</th>\n",
       "      <th>rivercode</th>\n",
       "    </tr>\n",
       "  </thead>\n",
       "  <tbody>\n",
       "    <tr>\n",
       "      <th>count</th>\n",
       "      <td>84.000</td>\n",
       "      <td>84.000</td>\n",
       "      <td>84.000</td>\n",
       "      <td>84.000</td>\n",
       "      <td>84.000</td>\n",
       "      <td>84.000</td>\n",
       "      <td>84.000</td>\n",
       "      <td>84.000</td>\n",
       "      <td>84.000</td>\n",
       "      <td>84.000</td>\n",
       "      <td>84.000</td>\n",
       "      <td>84.000</td>\n",
       "    </tr>\n",
       "    <tr>\n",
       "      <th>mean</th>\n",
       "      <td>0.000</td>\n",
       "      <td>-0.000</td>\n",
       "      <td>0.000</td>\n",
       "      <td>-0.000</td>\n",
       "      <td>-0.000</td>\n",
       "      <td>0.000</td>\n",
       "      <td>0.000</td>\n",
       "      <td>0.000</td>\n",
       "      <td>0.000</td>\n",
       "      <td>0.000</td>\n",
       "      <td>-0.000</td>\n",
       "      <td>-0.000</td>\n",
       "    </tr>\n",
       "    <tr>\n",
       "      <th>std</th>\n",
       "      <td>1.006</td>\n",
       "      <td>1.006</td>\n",
       "      <td>1.006</td>\n",
       "      <td>1.006</td>\n",
       "      <td>1.006</td>\n",
       "      <td>1.006</td>\n",
       "      <td>1.006</td>\n",
       "      <td>1.006</td>\n",
       "      <td>1.006</td>\n",
       "      <td>1.006</td>\n",
       "      <td>1.006</td>\n",
       "      <td>1.006</td>\n",
       "    </tr>\n",
       "    <tr>\n",
       "      <th>min</th>\n",
       "      <td>-0.744</td>\n",
       "      <td>-0.493</td>\n",
       "      <td>-1.535</td>\n",
       "      <td>-1.216</td>\n",
       "      <td>-2.110</td>\n",
       "      <td>-2.214</td>\n",
       "      <td>-0.938</td>\n",
       "      <td>-3.509</td>\n",
       "      <td>-2.355</td>\n",
       "      <td>-1.167</td>\n",
       "      <td>-1.714</td>\n",
       "      <td>-0.224</td>\n",
       "    </tr>\n",
       "    <tr>\n",
       "      <th>25%</th>\n",
       "      <td>-0.666</td>\n",
       "      <td>-0.493</td>\n",
       "      <td>-0.890</td>\n",
       "      <td>-0.962</td>\n",
       "      <td>-0.529</td>\n",
       "      <td>-0.906</td>\n",
       "      <td>-0.688</td>\n",
       "      <td>-1.021</td>\n",
       "      <td>-0.476</td>\n",
       "      <td>-1.167</td>\n",
       "      <td>-0.811</td>\n",
       "      <td>-0.224</td>\n",
       "    </tr>\n",
       "    <tr>\n",
       "      <th>50%</th>\n",
       "      <td>-0.552</td>\n",
       "      <td>-0.493</td>\n",
       "      <td>-0.337</td>\n",
       "      <td>-0.207</td>\n",
       "      <td>-0.064</td>\n",
       "      <td>0.420</td>\n",
       "      <td>-0.469</td>\n",
       "      <td>0.222</td>\n",
       "      <td>0.014</td>\n",
       "      <td>0.059</td>\n",
       "      <td>-0.030</td>\n",
       "      <td>-0.224</td>\n",
       "    </tr>\n",
       "    <tr>\n",
       "      <th>75%</th>\n",
       "      <td>0.678</td>\n",
       "      <td>-0.493</td>\n",
       "      <td>1.006</td>\n",
       "      <td>0.322</td>\n",
       "      <td>0.497</td>\n",
       "      <td>0.880</td>\n",
       "      <td>0.455</td>\n",
       "      <td>0.222</td>\n",
       "      <td>0.535</td>\n",
       "      <td>0.781</td>\n",
       "      <td>0.488</td>\n",
       "      <td>-0.224</td>\n",
       "    </tr>\n",
       "    <tr>\n",
       "      <th>max</th>\n",
       "      <td>3.567</td>\n",
       "      <td>3.095</td>\n",
       "      <td>1.331</td>\n",
       "      <td>2.018</td>\n",
       "      <td>3.771</td>\n",
       "      <td>1.018</td>\n",
       "      <td>3.166</td>\n",
       "      <td>1.466</td>\n",
       "      <td>2.710</td>\n",
       "      <td>1.405</td>\n",
       "      <td>3.474</td>\n",
       "      <td>4.472</td>\n",
       "    </tr>\n",
       "  </tbody>\n",
       "</table>\n",
       "</div>"
      ],
      "text/plain": [
       "         crim      zn   indus     nox      rm     age     dis     rad     tax  \\\n",
       "count  84.000  84.000  84.000  84.000  84.000  84.000  84.000  84.000  84.000   \n",
       "mean    0.000  -0.000   0.000  -0.000  -0.000   0.000   0.000   0.000   0.000   \n",
       "std     1.006   1.006   1.006   1.006   1.006   1.006   1.006   1.006   1.006   \n",
       "min    -0.744  -0.493  -1.535  -1.216  -2.110  -2.214  -0.938  -3.509  -2.355   \n",
       "25%    -0.666  -0.493  -0.890  -0.962  -0.529  -0.906  -0.688  -1.021  -0.476   \n",
       "50%    -0.552  -0.493  -0.337  -0.207  -0.064   0.420  -0.469   0.222   0.014   \n",
       "75%     0.678  -0.493   1.006   0.322   0.497   0.880   0.455   0.222   0.535   \n",
       "max     3.567   3.095   1.331   2.018   3.771   1.018   3.166   1.466   2.710   \n",
       "\n",
       "       pratio   lstat  rivercode  \n",
       "count  84.000  84.000     84.000  \n",
       "mean    0.000  -0.000     -0.000  \n",
       "std     1.006   1.006      1.006  \n",
       "min    -1.167  -1.714     -0.224  \n",
       "25%    -1.167  -0.811     -0.224  \n",
       "50%     0.059  -0.030     -0.224  \n",
       "75%     0.781   0.488     -0.224  \n",
       "max     1.405   3.474      4.472  "
      ]
     },
     "execution_count": 127,
     "metadata": {},
     "output_type": "execute_result"
    }
   ],
   "source": [
    "X_train[numerical_features].describe().round(3)"
   ]
  },
  {
   "cell_type": "code",
   "execution_count": 128,
   "metadata": {},
   "outputs": [],
   "source": [
    "# 1. Import the Estimator class you will use\n",
    "from sklearn.linear_model import LinearRegression\n",
    "# 2. Create an instance of the class\n",
    "ml_reg = LinearRegression()\n",
    "# 3. Use the fit method of the instance\n",
    "ml_reg.fit(X_train, y_train)\n",
    "# 4. Use the predict method to get the predictions\n",
    "y_pred_ml_reg = ml_reg.predict(X_train)"
   ]
  },
  {
   "cell_type": "code",
   "execution_count": 129,
   "metadata": {},
   "outputs": [
    {
     "name": "stdout",
     "output_type": "stream",
     "text": [
      "variance score: 0.82\n"
     ]
    }
   ],
   "source": [
    "# re-training the model with all features again.\n",
    "ml_reg.fit(X_train, y_train)\n",
    "print('variance score: %.2f' % r2_score (y_train, y_pred_ml_reg))"
   ]
  },
  {
   "cell_type": "code",
   "execution_count": 130,
   "metadata": {},
   "outputs": [
    {
     "name": "stdout",
     "output_type": "stream",
     "text": [
      "mean squared error: 10.27\n"
     ]
    }
   ],
   "source": [
    "from sklearn.metrics import mean_squared_error, r2_score\n",
    "print (('mean squared error: %.2f') % mean_squared_error(y_train, y_pred_ml_reg)) "
   ]
  },
  {
   "cell_type": "code",
   "execution_count": null,
   "metadata": {},
   "outputs": [],
   "source": []
  },
  {
   "cell_type": "code",
   "execution_count": null,
   "metadata": {},
   "outputs": [],
   "source": []
  },
  {
   "cell_type": "code",
   "execution_count": null,
   "metadata": {},
   "outputs": [],
   "source": []
  },
  {
   "cell_type": "code",
   "execution_count": null,
   "metadata": {},
   "outputs": [],
   "source": []
  }
 ],
 "metadata": {
  "kernelspec": {
   "display_name": "Python 3",
   "language": "python",
   "name": "python3"
  },
  "language_info": {
   "codemirror_mode": {
    "name": "ipython",
    "version": 3
   },
   "file_extension": ".py",
   "mimetype": "text/x-python",
   "name": "python",
   "nbconvert_exporter": "python",
   "pygments_lexer": "ipython3",
   "version": "3.7.3"
  }
 },
 "nbformat": 4,
 "nbformat_minor": 2
}
