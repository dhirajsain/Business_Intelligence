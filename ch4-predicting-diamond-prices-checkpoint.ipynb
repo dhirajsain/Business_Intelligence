{
 "cells": [
  {
   "cell_type": "markdown",
   "metadata": {},
   "source": [
    "# Predicting Diamond Prices"
   ]
  },
  {
   "cell_type": "markdown",
   "metadata": {},
   "source": [
    "### Importing libraries"
   ]
  },
  {
   "cell_type": "code",
   "execution_count": 1,
   "metadata": {},
   "outputs": [],
   "source": [
    "import numpy as np\n",
    "import pandas as pd\n",
    "import matplotlib.pyplot as plt\n",
    "import seaborn as sns\n",
    "import os\n",
    "%matplotlib inline"
   ]
  },
  {
   "cell_type": "markdown",
   "metadata": {},
   "source": [
    "## Our first Machine Learning model"
   ]
  },
  {
   "cell_type": "code",
   "execution_count": null,
   "metadata": {},
   "outputs": [],
   "source": [
    "DATA_DIR = '../data'\n",
    "FILE_NAME = 'diamonds.csv'\n",
    "data_path = os.path.join(DATA_DIR, FILE_NAME)\n",
    "diamonds = pd.read_csv(data_path)\n",
    "## Preparation done from Chapter 2\n",
    "diamonds = diamonds.loc[(diamonds['x']>0) | (diamonds['y']>0)]\n",
    "diamonds.loc[11182, 'x'] = diamonds['x'].median()\n",
    "diamonds.loc[11182, 'z'] = diamonds['z'].median()\n",
    "diamonds = diamonds.loc[~((diamonds['y'] > 30) | (diamonds['z'] > 30))]\n",
    "diamonds = pd.concat([diamonds, pd.get_dummies(diamonds['cut'], prefix='cut', drop_first=True)], axis=1)\n",
    "diamonds = pd.concat([diamonds, pd.get_dummies(diamonds['color'], prefix='color', drop_first=True)], axis=1)\n",
    "diamonds = pd.concat([diamonds, pd.get_dummies(diamonds['clarity'], prefix='clarity', drop_first=True)], axis=1)"
   ]
  },
  {
   "cell_type": "code",
   "execution_count": null,
   "metadata": {},
   "outputs": [],
   "source": [
    "w = np.mean(diamonds['price']/diamonds['carat'])\n",
    "w"
   ]
  },
  {
   "cell_type": "code",
   "execution_count": null,
   "metadata": {},
   "outputs": [],
   "source": [
    "def first_ml_model(carat):\n",
    "    return 4008.024 * carat"
   ]
  },
  {
   "cell_type": "code",
   "execution_count": null,
   "metadata": {},
   "outputs": [],
   "source": [
    "carat_values = np.arange(0.5, 5.5, 0.5)\n",
    "preds = first_ml_model(carat_values)\n",
    "pd.DataFrame({\"Carat\": carat_values, \"Predicted price\":preds})"
   ]
  },
  {
   "cell_type": "markdown",
   "metadata": {},
   "source": [
    "## Practical Considerations Before Modelling"
   ]
  },
  {
   "cell_type": "markdown",
   "metadata": {},
   "source": [
    "### Train-test split"
   ]
  },
  {
   "cell_type": "code",
   "execution_count": null,
   "metadata": {},
   "outputs": [],
   "source": [
    "diamonds"
   ]
  },
  {
   "cell_type": "code",
   "execution_count": null,
   "metadata": {},
   "outputs": [],
   "source": [
    "X = diamonds.drop(['cut','color','clarity','price'], axis=1)\n",
    "y = diamonds['price']"
   ]
  },
  {
   "cell_type": "code",
   "execution_count": null,
   "metadata": {},
   "outputs": [],
   "source": [
    "y"
   ]
  },
  {
   "cell_type": "code",
   "execution_count": null,
   "metadata": {},
   "outputs": [],
   "source": [
    "from sklearn.model_selection import train_test_split\n",
    "X_train, X_test, y_train, y_test = train_test_split(X, y, test_size=0.1, random_state=123)"
   ]
  },
  {
   "cell_type": "markdown",
   "metadata": {},
   "source": [
    "### Dimensionality reduction using PCA  "
   ]
  },
  {
   "cell_type": "code",
   "execution_count": null,
   "metadata": {},
   "outputs": [],
   "source": [
    "sns.pairplot(X_train[['x','y','z']], plot_kws={\"s\": 3});"
   ]
  },
  {
   "cell_type": "code",
   "execution_count": null,
   "metadata": {},
   "outputs": [],
   "source": [
    "# 1. Import the class you will use\n",
    "from sklearn.decomposition import PCA\n",
    "# 2. Create an instance of the class\n",
    "pca = PCA(n_components=3, random_state=123)\n",
    "# 3. Use the fit method of the instance\n",
    "pca.fit(X_train[['x','y','z']])\n",
    "# 4. Use the transform method to perform the transformation\n",
    "princ_comp = pca.transform(X_train[['x','y','z']])"
   ]
  },
  {
   "cell_type": "code",
   "execution_count": null,
   "metadata": {},
   "outputs": [],
   "source": [
    "pca.explained_variance_ratio_.round(3)"
   ]
  },
  {
   "cell_type": "code",
   "execution_count": null,
   "metadata": {},
   "outputs": [],
   "source": [
    "princ_comp = pd.DataFrame(data=princ_comp, columns=['pc1', 'pc2', 'pc3'])\n",
    "sns.pairplot(princ_comp, plot_kws={\"s\": 3});"
   ]
  },
  {
   "cell_type": "code",
   "execution_count": null,
   "metadata": {},
   "outputs": [],
   "source": [
    "princ_comp.corr().round(4)"
   ]
  },
  {
   "cell_type": "code",
   "execution_count": null,
   "metadata": {
    "scrolled": true
   },
   "outputs": [],
   "source": [
    "## Get only the first principal component\n",
    "pca = PCA(n_components=1, random_state=123)\n",
    "## Train the pca transformer\n",
    "pca.fit(X_train[['x','y','z']])\n",
    "# Add the new feature to the dataset\n",
    "X_train['dim_index'] = pca.transform(X_train[['x','y','z']]).flatten()\n",
    "# Drop x, y, and z\n",
    "X_train.drop(['x','y','z'], axis=1, inplace=True)"
   ]
  },
  {
   "cell_type": "code",
   "execution_count": null,
   "metadata": {},
   "outputs": [],
   "source": [
    "X_train.head()"
   ]
  },
  {
   "cell_type": "markdown",
   "metadata": {},
   "source": [
    "### Standarization: centering and scaling "
   ]
  },
  {
   "cell_type": "code",
   "execution_count": null,
   "metadata": {},
   "outputs": [],
   "source": [
    "numerical_features = ['carat', 'depth', 'table', 'dim_index']"
   ]
  },
  {
   "cell_type": "code",
   "execution_count": null,
   "metadata": {
    "scrolled": true
   },
   "outputs": [],
   "source": [
    "# 1. Import the class you will use\n",
    "from sklearn.preprocessing import StandardScaler\n",
    "# 2. Create an instance of the class\n",
    "scaler = StandardScaler()\n",
    "# 3. Use the fit method of the instance\n",
    "scaler.fit(X_train[numerical_features])\n",
    "# 4. Use the transform method to perform the transformation\n",
    "X_train.loc[:, numerical_features] = scaler.transform(X_train[numerical_features])"
   ]
  },
  {
   "cell_type": "code",
   "execution_count": null,
   "metadata": {},
   "outputs": [],
   "source": [
    "X_train[numerical_features].head()"
   ]
  },
  {
   "cell_type": "code",
   "execution_count": null,
   "metadata": {},
   "outputs": [],
   "source": [
    "X_train[numerical_features].describe().round(4)"
   ]
  },
  {
   "cell_type": "markdown",
   "metadata": {},
   "source": [
    "## Multiple Linear Regression"
   ]
  },
  {
   "cell_type": "code",
   "execution_count": null,
   "metadata": {},
   "outputs": [],
   "source": [
    "# 1. Import the Estimator class you will use\n",
    "from sklearn.linear_model import LinearRegression\n",
    "# 2. Create an instance of the class\n",
    "ml_reg = LinearRegression()\n",
    "# 3. Use the fit method of the instance\n",
    "ml_reg.fit(X_train, y_train)\n",
    "# 4. Use the predict method to get the predictions\n",
    "y_pred_ml_reg = ml_reg.predict(X_train)"
   ]
  },
  {
   "cell_type": "code",
   "execution_count": null,
   "metadata": {},
   "outputs": [],
   "source": [
    "pd.Series(ml_reg.coef_, index=X_train.columns).sort_values(ascending=False).round(2)"
   ]
  },
  {
   "cell_type": "code",
   "execution_count": null,
   "metadata": {},
   "outputs": [],
   "source": [
    "from sklearn.metrics import mean_squared_error, r2_score\n",
    "# The mean squared error\n",
    "print(\"Mean squared error: %.2f\"\n",
    "      % mean_squared_error(y_train, y_pred_ml_reg))\n"
   ]
  },
  {
   "cell_type": "code",
   "execution_count": null,
   "metadata": {},
   "outputs": [],
   "source": [
    "# Explained variance score: 1 is perfect prediction\n",
    "print('Variance score: %.2f' % r2_score(y_train, y_pred_ml_reg))\n"
   ]
  },
  {
   "cell_type": "code",
   "execution_count": null,
   "metadata": {},
   "outputs": [],
   "source": [
    "# training the model without carat\n",
    "ml_reg.fit(X_train.drop('carat', axis=1), y_train)\n",
    "y_pred_ml_reg = ml_reg.predict(X_train.drop('carat', axis=1))\n",
    "pd.Series(ml_reg.coef_, index=X_train.drop('carat', axis=1).columns).sort_values(ascending=False).round(2)"
   ]
  },
  {
   "cell_type": "code",
   "execution_count": null,
   "metadata": {},
   "outputs": [],
   "source": [
    "# The mean squared error\n",
    "print(\"Mean squared error: %.2f\"\n",
    "      % mean_squared_error(y_train, y_pred_ml_reg))"
   ]
  },
  {
   "cell_type": "code",
   "execution_count": null,
   "metadata": {},
   "outputs": [],
   "source": [
    "# Explained variance score: 1 is perfect prediction\n",
    "print('Variance score: %.2f' % r2_score(y_train, y_pred_ml_reg))"
   ]
  },
  {
   "cell_type": "code",
   "execution_count": null,
   "metadata": {},
   "outputs": [],
   "source": [
    "# re-training the model with all features again.\n",
    "ml_reg.fit(X_train, y_train)\n",
    "y_pred_ml_reg = ml_reg.predict(X_train)"
   ]
  },
  {
   "cell_type": "code",
   "execution_count": null,
   "metadata": {},
   "outputs": [],
   "source": [
    "from sklearn.metrics import mean_squared_error\n",
    "mse_ml_reg = mean_squared_error(y_true=y_train, y_pred=y_pred_ml_reg)\n",
    "print('{:0.2f}M'.format(mse_ml_reg/1e6))"
   ]
  },
  {
   "cell_type": "code",
   "execution_count": null,
   "metadata": {},
   "outputs": [],
   "source": [
    "y_pred_null_model = np.full(y_train.shape, y_train.mean())\n",
    "mse_null_model = mean_squared_error(y_true=y_train, y_pred=y_pred_null_model)\n",
    "print('{:0.2f}M'.format(mse_null_model/1e6))"
   ]
  },
  {
   "cell_type": "markdown",
   "metadata": {},
   "source": [
    "## Lasso regression"
   ]
  },
  {
   "cell_type": "code",
   "execution_count": null,
   "metadata": {},
   "outputs": [],
   "source": [
    "# 1. Import the Estimator class you will use\n",
    "from sklearn.linear_model import Lasso\n",
    "# 2. Create an instance of the class\n",
    "lasso = Lasso(alpha=10)\n",
    "# 3. Use the fit method of the instance\n",
    "lasso.fit(X_train, y_train)\n",
    "# 4. Use the predict method to get the predictions\n",
    "y_pred_lasso = lasso.predict(X_train)\n",
    "\n",
    "## MSE calculation\n",
    "mse_lasso = mean_squared_error(y_true=y_train, y_pred=y_pred_lasso)\n",
    "print('{:0.2f}M'.format(mse_lasso/1e6))"
   ]
  },
  {
   "cell_type": "code",
   "execution_count": null,
   "metadata": {},
   "outputs": [],
   "source": [
    "pd.Series(lasso.coef_, index=X_train.columns).sort_values(ascending=False).round(2)"
   ]
  },
  {
   "cell_type": "markdown",
   "metadata": {},
   "source": [
    "### KNN Regression"
   ]
  },
  {
   "cell_type": "code",
   "execution_count": null,
   "metadata": {},
   "outputs": [],
   "source": [
    "# 1. Import the Estimator class you will use\n",
    "from sklearn.neighbors import KNeighborsRegressor\n",
    "# 2. Create an instance of the class\n",
    "knn = KNeighborsRegressor(n_neighbors=12)\n",
    "# 3. Use the fit method of the instance\n",
    "knn.fit(X_train, y_train)\n",
    "# 4. Use the predict method to get the predictions\n",
    "y_pred_knn = knn.predict(X_train)"
   ]
  },
  {
   "cell_type": "code",
   "execution_count": null,
   "metadata": {},
   "outputs": [],
   "source": [
    "mse_knn = mean_squared_error(y_true=y_train, y_pred=y_pred_knn)\n",
    "print('{:0.2f}M'.format(mse_knn/1e6))"
   ]
  },
  {
   "cell_type": "markdown",
   "metadata": {},
   "source": [
    "## Evaluating in the testing dataset"
   ]
  },
  {
   "cell_type": "markdown",
   "metadata": {},
   "source": [
    "### KNN with perfect performance"
   ]
  },
  {
   "cell_type": "code",
   "execution_count": null,
   "metadata": {},
   "outputs": [],
   "source": [
    "perfect_knn = KNeighborsRegressor(n_neighbors=1)\n",
    "perfect_knn.fit(X_train, y_train)\n",
    "mean_squared_error(y_true=y_train, y_pred=perfect_knn.predict(X_train))"
   ]
  },
  {
   "cell_type": "markdown",
   "metadata": {},
   "source": [
    "### Applying the tranformations"
   ]
  },
  {
   "cell_type": "code",
   "execution_count": null,
   "metadata": {},
   "outputs": [],
   "source": [
    "## Replacing x, y, z with dim_index using PCA: notice we are not training, just transforming\n",
    "X_test['dim_index'] = pca.transform(X_test[['x','y','z']]).flatten()\n",
    "\n",
    "# Remove x, y and z from the dataset\n",
    "X_test.drop(['x','y','z'], axis=1, inplace=True)\n",
    "\n",
    "## Scale our numerical features so they have zero mean and a variance of one\n",
    "X_test.loc[:, numerical_features] = scaler.transform(X_test[numerical_features])"
   ]
  },
  {
   "cell_type": "code",
   "execution_count": null,
   "metadata": {},
   "outputs": [],
   "source": [
    "mse = pd.DataFrame(columns=['train', 'test'], index=['MLR','Lasso','KNN'])\n",
    "model_dict = {'MLR': ml_reg, 'Lasso': lasso, 'KNN': knn}\n",
    "for name, model in model_dict.items():\n",
    "    mse.loc[name, 'train'] = mean_squared_error(y_true=y_train, y_pred=model.predict(X_train))/1e6 \n",
    "    mse.loc[name, 'test'] = mean_squared_error(y_true=y_test, y_pred=model.predict(X_test))/1e6\n",
    "    "
   ]
  },
  {
   "cell_type": "code",
   "execution_count": null,
   "metadata": {},
   "outputs": [],
   "source": [
    "mse"
   ]
  },
  {
   "cell_type": "code",
   "execution_count": null,
   "metadata": {},
   "outputs": [],
   "source": [
    "fig, ax = plt.subplots()\n",
    "mse.sort_values(by='test', ascending=False).plot(kind='barh', ax=ax, zorder=3)\n",
    "ax.grid(zorder=0)"
   ]
  },
  {
   "cell_type": "code",
   "execution_count": null,
   "metadata": {},
   "outputs": [],
   "source": [
    "demo_pred = X_test.iloc[:10].copy()\n",
    "pred_dict = {'y_true':y_test[:10]}\n",
    "for name, model in model_dict.items():\n",
    "    pred_dict['pred_'+name] = model.predict(demo_pred).round(1)\n",
    "\n",
    "pd.DataFrame(pred_dict)"
   ]
  },
  {
   "cell_type": "code",
   "execution_count": null,
   "metadata": {},
   "outputs": [],
   "source": []
  }
 ],
 "metadata": {
  "kernelspec": {
   "display_name": "Python 3",
   "language": "python",
   "name": "python3"
  },
  "language_info": {
   "codemirror_mode": {
    "name": "ipython",
    "version": 3
   },
   "file_extension": ".py",
   "mimetype": "text/x-python",
   "name": "python",
   "nbconvert_exporter": "python",
   "pygments_lexer": "ipython3",
   "version": "3.7.3"
  }
 },
 "nbformat": 4,
 "nbformat_minor": 2
}
