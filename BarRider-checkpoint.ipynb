{
 "cells": [
  {
   "cell_type": "code",
   "execution_count": 1,
   "metadata": {},
   "outputs": [],
   "source": [
    "import numpy as np\n",
    "import pandas as pd\n",
    "import matplotlib.pyplot as plt\n",
    "import seaborn as sns\n",
    "import os\n",
    "%matplotlib inline"
   ]
  },
  {
   "cell_type": "markdown",
   "metadata": {},
   "source": [
    "### Load the file into a dataframe"
   ]
  },
  {
   "cell_type": "code",
   "execution_count": 4,
   "metadata": {},
   "outputs": [],
   "source": [
    "DATA_DIR = 'C:/Users/dhiru/Downloads'\n",
    "FILE_NAME = 'BartRider.csv'\n",
    "data_path = os.path.join(DATA_DIR, FILE_NAME)\n",
    "dat_rider = pd.read_csv(data_path)"
   ]
  },
  {
   "cell_type": "markdown",
   "metadata": {},
   "source": [
    "### Inspect the top rows"
   ]
  },
  {
   "cell_type": "code",
   "execution_count": null,
   "metadata": {},
   "outputs": [],
   "source": [
    "dat_rider.head()"
   ]
  },
  {
   "cell_type": "markdown",
   "metadata": {},
   "source": [
    "### Dummy code the categoric variables"
   ]
  },
  {
   "cell_type": "code",
   "execution_count": null,
   "metadata": {},
   "outputs": [],
   "source": [
    "dat_rider = pd.concat([dat_rider, pd.get_dummies(dat_rider['Gender'], prefix='Gender', drop_first=True)], axis=1)\n",
    "dat_rider.drop(['Gender'], inplace=True, axis=1)\n",
    "\n",
    "dat_rider = pd.concat([dat_rider, pd.get_dummies(dat_rider['OwnRent'], prefix='OwnRent', drop_first=True)], axis=1)\n",
    "dat_rider.drop(['OwnRent'], inplace=True, axis=1)\n",
    "\n",
    "dat_rider = pd.concat([dat_rider, pd.get_dummies(dat_rider['Language'], prefix='Language', drop_first=True)], axis=1)\n",
    "dat_rider.drop(['Language'], inplace=True, axis=1)\n",
    "\n",
    "dat_rider = pd.concat([dat_rider, pd.get_dummies(dat_rider['DualInc'], prefix='DualInc', drop_first=True)], axis=1)\n",
    "dat_rider.drop(['DualInc'], inplace=True, axis=1)\n",
    "\n",
    "dat_rider = pd.concat([dat_rider, pd.get_dummies(dat_rider['Rider'], prefix='Rider', drop_first=True)], axis=1)\n",
    "dat_rider.drop(['Rider'], inplace=True, axis=1)"
   ]
  },
  {
   "cell_type": "code",
   "execution_count": null,
   "metadata": {},
   "outputs": [],
   "source": [
    "dat_rider.head()"
   ]
  },
  {
   "cell_type": "markdown",
   "metadata": {},
   "source": [
    "### Create new dataset without target variable"
   ]
  },
  {
   "cell_type": "code",
   "execution_count": null,
   "metadata": {},
   "outputs": [],
   "source": [
    "dat_rider_feats = dat_rider.drop(['Rider_Yes'], axis=1)"
   ]
  },
  {
   "cell_type": "code",
   "execution_count": null,
   "metadata": {},
   "outputs": [],
   "source": [
    "dat_rider_feats.head()"
   ]
  },
  {
   "cell_type": "markdown",
   "metadata": {},
   "source": [
    "### Fit 2 cluster model"
   ]
  },
  {
   "cell_type": "code",
   "execution_count": null,
   "metadata": {},
   "outputs": [],
   "source": [
    "# Using scikit-learn to perform K-Means clustering\n",
    "from sklearn.cluster import KMeans\n",
    "    \n",
    "# Specify the number of clusters (3) and fit the data dat_rider_feats\n",
    "kmeans = KMeans(n_clusters=2, random_state=0).fit(dat_rider_feats)"
   ]
  },
  {
   "cell_type": "code",
   "execution_count": null,
   "metadata": {},
   "outputs": [],
   "source": [
    "centroids = (kmeans.cluster_centers_)\n",
    "print(centroids)"
   ]
  },
  {
   "cell_type": "code",
   "execution_count": null,
   "metadata": {},
   "outputs": [],
   "source": [
    "labels = (kmeans.labels_)\n",
    "print(labels)"
   ]
  },
  {
   "cell_type": "code",
   "execution_count": null,
   "metadata": {},
   "outputs": [],
   "source": [
    "# Calculate silhouette_score\n",
    "from sklearn.metrics import silhouette_score\n",
    "\n",
    "print(silhouette_score(dat_rider_feats, kmeans.labels_))"
   ]
  },
  {
   "cell_type": "markdown",
   "metadata": {},
   "source": [
    "### Convert list of labels to a data frame"
   ]
  },
  {
   "cell_type": "code",
   "execution_count": null,
   "metadata": {},
   "outputs": [],
   "source": [
    "df_labels = pd.DataFrame(labels)\n",
    "df_labels.rename(columns={0:'Cluster'}, inplace=True)"
   ]
  },
  {
   "cell_type": "code",
   "execution_count": null,
   "metadata": {},
   "outputs": [],
   "source": [
    "df_labels.head()"
   ]
  },
  {
   "cell_type": "markdown",
   "metadata": {},
   "source": [
    "### Merge Cluster column into dummy-converted data frame"
   ]
  },
  {
   "cell_type": "code",
   "execution_count": null,
   "metadata": {},
   "outputs": [],
   "source": [
    "dat_rider_Clust = pd.concat([dat_rider, df_labels], axis=1)"
   ]
  },
  {
   "cell_type": "code",
   "execution_count": null,
   "metadata": {},
   "outputs": [],
   "source": [
    "dat_rider_Clust.head()"
   ]
  },
  {
   "cell_type": "markdown",
   "metadata": {},
   "source": [
    "### Separate clusters into two data sets for further analysis"
   ]
  },
  {
   "cell_type": "code",
   "execution_count": null,
   "metadata": {},
   "outputs": [],
   "source": [
    "dat_C0 = dat_rider_Clust.loc[dat_rider_Clust['Cluster']==0]\n",
    "dat_C1 = dat_rider_Clust.loc[dat_rider_Clust['Cluster']==1]"
   ]
  },
  {
   "cell_type": "code",
   "execution_count": null,
   "metadata": {},
   "outputs": [],
   "source": [
    "dat_C0.head()"
   ]
  },
  {
   "cell_type": "code",
   "execution_count": null,
   "metadata": {},
   "outputs": [],
   "source": [
    "dat_C1.head()"
   ]
  },
  {
   "cell_type": "markdown",
   "metadata": {},
   "source": [
    "### Drop cluster column from all data frames"
   ]
  },
  {
   "cell_type": "code",
   "execution_count": null,
   "metadata": {},
   "outputs": [],
   "source": [
    "dat_C0.drop(['Cluster'],inplace=True, axis = 1)\n",
    "dat_C0.head()"
   ]
  },
  {
   "cell_type": "code",
   "execution_count": null,
   "metadata": {},
   "outputs": [],
   "source": [
    "dat_C1.drop(['Cluster'],inplace=True, axis = 1)\n",
    "dat_C1.head()"
   ]
  },
  {
   "cell_type": "markdown",
   "metadata": {},
   "source": [
    "### Train classifier on full data frame"
   ]
  },
  {
   "cell_type": "code",
   "execution_count": null,
   "metadata": {},
   "outputs": [],
   "source": [
    "from sklearn.tree import DecisionTreeClassifier\n",
    "class_tree = DecisionTreeClassifier(max_depth=3)\n",
    "class_tree.fit(dat_rider.drop(['Rider_Yes'], axis=1), dat_rider['Rider_Yes'])"
   ]
  },
  {
   "cell_type": "code",
   "execution_count": null,
   "metadata": {},
   "outputs": [],
   "source": [
    "from sklearn.metrics import confusion_matrix\n",
    "y_train_pred = class_tree.predict(dat_rider.drop(['Rider_Yes'], axis=1))\n",
    "confusion_matrix(dat_rider['Rider_Yes'],y_train_pred)"
   ]
  },
  {
   "cell_type": "code",
   "execution_count": null,
   "metadata": {},
   "outputs": [],
   "source": [
    "from sklearn.metrics import accuracy_score\n",
    "accuracy = accuracy_score(y_true=dat_rider['Rider_Yes'], y_pred=y_train_pred)\n",
    "accuracy.round(3)"
   ]
  },
  {
   "cell_type": "markdown",
   "metadata": {},
   "source": [
    "### Train classifier on Cluster 0"
   ]
  },
  {
   "cell_type": "code",
   "execution_count": null,
   "metadata": {},
   "outputs": [],
   "source": [
    "class_tree_C0 = DecisionTreeClassifier(max_depth=3)\n",
    "class_tree_C0.fit(dat_C0.drop(['Rider_Yes'], axis=1), dat_C0['Rider_Yes'])\n",
    "from sklearn.metrics import accuracy_score\n",
    "y_train_pred_C0 = class_tree.predict(dat_C0.drop(['Rider_Yes'], axis=1))\n",
    "accuracy = accuracy_score(y_true=dat_C0['Rider_Yes'], y_pred=y_train_pred_C0)\n",
    "accuracy.round(3)"
   ]
  },
  {
   "cell_type": "markdown",
   "metadata": {},
   "source": [
    "### Train Classifier on Cluster 1"
   ]
  },
  {
   "cell_type": "code",
   "execution_count": null,
   "metadata": {},
   "outputs": [],
   "source": [
    "class_tree_C1 = DecisionTreeClassifier(max_depth=3)\n",
    "class_tree_C1.fit(dat_C1.drop(['Rider_Yes'], axis=1), dat_C1['Rider_Yes'])\n",
    "from sklearn.metrics import accuracy_score\n",
    "y_train_pred_C1 = class_tree.predict(dat_C1.drop(['Rider_Yes'], axis=1))\n",
    "accuracy = accuracy_score(y_true=dat_C1['Rider_Yes'], y_pred=y_train_pred_C1)\n",
    "accuracy.round(3)"
   ]
  },
  {
   "cell_type": "code",
   "execution_count": null,
   "metadata": {},
   "outputs": [],
   "source": []
  }
 ],
 "metadata": {
  "kernelspec": {
   "display_name": "Python 3",
   "language": "python",
   "name": "python3"
  },
  "language_info": {
   "codemirror_mode": {
    "name": "ipython",
    "version": 3
   },
   "file_extension": ".py",
   "mimetype": "text/x-python",
   "name": "python",
   "nbconvert_exporter": "python",
   "pygments_lexer": "ipython3",
   "version": "3.7.3"
  }
 },
 "nbformat": 4,
 "nbformat_minor": 2
}
